{
 "cells": [
  {
   "cell_type": "markdown",
   "id": "f26ace62-3635-45d7-9fe1-d4b19b6a7cb1",
   "metadata": {},
   "source": []
  },
  {
   "cell_type": "markdown",
   "id": "2dbd38d0-fbf4-4e9d-8253-4f549f7e052e",
   "metadata": {},
   "source": [
    "# 1 Introduction\n",
    "## 1-1 Quantum State Preparation\n",
    "Quantum state preparation is fundamental to quantum computing. It lies at the heart of quantum algorithms, quantum machine learning, quantum error correction, and quantum physics research, but it can be very difficult to start from an initial state $|0\\dots 0 \\rangle$ and efficiently prepare an arbitrary state $|\\psi \\rangle$ with high fidelity. Your objective for this year's Open Science Prize is to significantly improve state-of-the-art state preparation in the context of the Variational Quantum Eigensolver (VQE) algorithm.\n",
    "\n",
    "The state you will prepare is the highly entangled ground state of a Heisenberg spin-1/2 model on a kagome lattice. That sentence is jam packed with physics jargon, but do not despair. Though the problem statement originates deep within quantum physics research, we will avoid jargon as much as possible. A deep dive into the physics literature (which is very fascinating) is left as an exercise for the reader.\n",
    "\n",
    "Why the ground state of a Heisenberg model? Well, the ground state of a system is it's lowest energy configuration, and the ground state tends to be where exciting and unexpected quantum affects flourish. For example, when the element Mercury is cooled down near its ground state (below 4 Kelvin), it has no electrical resistance. None. Zero! Near its thermal ground state, a chunk of Mercury is [a superconductor](https://en.wikipedia.org/wiki/History_of_superconductivity). Researchers have been trying to understand what materials exhibit superconductivity and how it's even possible ever since it was first discovered. If that isn't cool enough for you, consider the [Bose-Einstein condensate](https://en.wikipedia.org/wiki/Bose–Einstein_condensate). This is quantum phase of matter where a dilute gas of individual atoms (bosonic atoms such as [Rubidium](https://en.wikipedia.org/wiki/Rubidium))--when cooled to their ground state--effectively become one giant particle!\n",
    "\n",
    "A system's ground state determines important and fascinating physical properties (see the two examples highlighted above), yet some quantum systems have ground states (and their associated energies) which are difficult to make and measure in the lab as well as being intractable for classical computers to calculate. The Variational Quantum Eigensolver (VQE) is a promising quantum algorithm that could find these ground states and their energies.\n",
    "\n",
    "You will implement the VQE algorithm on [ibmq_guadalupe](https://quantum-computing.ibm.com/services/resources?system=ibmq_guadalupe) a 16 qubit [heavy-hex](https://research.ibm.com/blog/heavy-hex-lattice) device. This is the largest device used in an Open Science Prize to date. Working with more qubits presents its own challenges. Be mindful of how your solution scales as this will be part of the judging criteria this year.\n",
    "\n",
    "We'll get more into the principles of VQE later, but for now, remember that VQE relies on iterative cycles of quantum and classical computation. Fast iterations and fast communication between the classical and quantum computer are essential for a fast VQE, and [Qiskit runtime](https://github.com/Qiskit/qiskit-ibm-runtime) does just that. [Qiskit runtime](https://medium.com/qiskit/so-what-is-qiskit-runtime-anyway-c78aecf3742) is a programming model and containerized environment designed to reduce the computational cycle time between quantum and classical computers. Later in this notebook, we will demonstrate how to leverage the latest release of runtime for fast VQE.\n",
    "\n",
    "The notebook is organized as follows: Section 1 gives a brief introduction to the Heisenberg model, the kagome lattice, and VQE algorithm. It also provides a classical calculation of the ground state(s) energy. Section 2 introduces how to construct a VQE experiment and simulate it on your local computer. Section 3 introduces Qiskit runtime and how to run VQE on a cloud simulator or real backend. Finally, if you are feeling stuck, we've provided some questions to consider as you design and implement your solution.\n",
    "\n",
    "#### Objective\n",
    "**Your task is to use the VQE algorithm to compute the ground state of a Heisenberg spin-1/2 system on a kagome lattice unit cell with the lowest possible relative error of the measured state's energy expectation value wrt to the exact value.** There are actually two ground states in this specific case, and you may prepare any combination of the two including only one or the other.\n"
   ]
  },
  {
   "cell_type": "markdown",
   "id": "446e775d-5c57-447e-9c93-84c70509a64a",
   "metadata": {},
   "source": [
    "## 1-2 Heisenberg spin-1/2 model on the kagome lattice\n",
    "For the Open Science Prize, (get ready for some jargon) you will work with the antiferromagnetic $XXX$ Heisenberg model arranged on a kagome lattice. The $XXX$ Heisenberg model Hamiltonian for this Prize will be defined as\n",
    "$$\n",
    "\\begin{equation}\n",
    "H = \\sum_{\\langle i j \\rangle}^N X_i X_{i+1} + Y_i Y_{i+1} + Z_i Z_{i+1}\n",
    "\\end{equation}\n",
    "$$\n",
    "where $\\langle i j \\rangle$ is sum over neighboring spins and $X$, $Y$, and $Z$ are the usual Pauli matrices. The Heisenberg model hosts a wide variety of exotic quantum physics all of which heavily depend on the arrangement of the spins. The arrangement we are interested in is a kagome lattice.\n",
    "\n",
    "![title](kagome_unit_cell.png)\n",
    "\n",
    "The kagome lattice is a unique lattice structure made up of corner-sharing triangles (see the unit cell above). In general, the kagome lattice (i.e. many unit cells tiled together) is theorized to host a fascinating quantum phase of matter called a quantum spin liquid--a research topic at the forefront of quantum physics [1-3]. Additionally, excitations from that ground state are theorized to show exotic quantum behavior such a fractionalized particle excitations [1-3]. For those interested in a deeper dive into the physics check out Refs. [1-3] and other papers.\n",
    "\n",
    "This year's Prize will focus on a single unit cell (the base pattern shown above) which has 12 spin-1/2 particles represented in as blue dots in the image below. Each spin will be represented by a single qubit. The lines connecting the spin-1/2 particles called edges--borrowing a term from [graph theory](https://en.wikipedia.org/wiki/Graph_theory)--and they specify which spins are neighbors.\n",
    "\n",
    "\\[1\\] \"Modern condensed matter physics.\" Girvin, Steven M., and Kun Yang. Cambridge University Press, (2019).\n",
    "\n",
    "\\[2\\] \"Spin liquids in frustrated magnets.\" Balents, Leon. [Nature 464, 199–208](https://doi.org/10.1038/nature08917) (2010). \n",
    "\n",
    "\\[3\\] \"Probing topological spin liquids on a programmable quantum simulator.\" Semeghini, Giulia, et al. [Science 374.6572: 1242-1247.](https://www.science.org/doi/10.1126/science.abi8794) (2021). [arXiv link](https://arxiv.org/abs/2104.04119)\n",
    "\n",
    "\\[4\\] \"Kagome: The Story of the Basketweave Lattice.\" Mekata, Mamoru. [Physics Today 56, 2, 12](https://physicstoday.scitation.org/doi/10.1063/1.1564329) (2003)."
   ]
  },
  {
   "cell_type": "markdown",
   "id": "4af4910d-a71a-47ac-8953-20cda5d5c04f",
   "metadata": {},
   "source": [
    "## 1-3 VQE\n",
    "The Variational Quantum Eigensolver (VQE) is a quantum algorithm that can find the ground state(s) of a given Hamiltonian [5-7]. The VQE algorithm is based on the [variational principle](https://en.wikipedia.org/wiki/Variational_method_(quantum_mechanics)) of quantum mechanics and relies on both quantum and classical computations. Below, we briefly sketch out the main principles of VQE, and encourage you to review educational material and the research literature for details.\n",
    "\n",
    "Given a Hamiltonian $H$ and ground state $|\\psi_g \\rangle$, the variational principle says that even if we don't know the exact ground state an approximate ground state $|\\tilde{ \\psi}_g\\rangle \\approx |\\psi_g \\rangle$ can be found. To find the approximate ground state $|\\tilde{ \\psi}_g\\rangle$, we start with a parameterized state called an ansatz $|\\psi(\\boldsymbol{\\theta})\\rangle$ where $\\boldsymbol{\\theta} \\equiv (\\theta_1, \\theta_2,\\dots)$ are the parameters. In theory, there is a combination of parameter values where the anstaz approximates the ground state $|\\psi(\\boldsymbol{\\theta})\\rangle \\approx |\\psi_g\\rangle$, but we need a way to find those parameter values. This is done with a combination of quantum and classical computing.\n",
    "\n",
    "To optimize the parameters, many cycles of quantum and classical computing drive the ansatz toward the approximate ground state. The quantum computer computes the energy expectation value of Hamiltonian $H$ acting on the the parameterized anstaz for a given set of parameter values\n",
    "$$\n",
    "E(\\boldsymbol{\\theta}) = \\langle \\psi(\\boldsymbol{\\theta}) | H | \\psi(\\boldsymbol{\\theta}) \\rangle \\;.\n",
    "$$\n",
    "For those familiar with optimization terminology this is the cost function. A classical computer uses the measurement data from the quantum computer to determine how the parameters values should be adjusted to further minimize the energy $E(\\boldsymbol{\\theta})$. As the classical and quantum computer loop through many iterations, they search the parameter space and converge to the approximate ground state.\n",
    "\n",
    "How can we know the state that gives the minimum energy expectation value is the ground state? The variation principle guarantees that the minimal energy expectation value can only be achieved if the quantum state is the ground state. No other state can give a lower energy--hence the name ground state. In this way, we can be confident that minimizing $E(\\boldsymbol{\\theta})$ with respect to the parameters $\\boldsymbol{\\theta}$ will drive the ansatz toward an accurate approximation of the true ground state and not some other state.\n",
    "\n",
    "Of course, the actual implementation of the algorithm comes with challenges. The ansatz $|\\psi(\\boldsymbol{\\theta})\\rangle$ may never reach the ground state for any combination of parameters. The ansatz could have too many parameters and encounter a barren plateau during optimization. When implementing the VQE, it may take an unreasonable amount of time to execute the ansatz or measure the expectation value on quantum hardware. The quantum hardware may be too noisy. The classical optimizer may not pair well with the optimization landscape or the level of noise from the quantum measurements. Etc.\n",
    "\n",
    "To jump into more details about VQE, we included three review articles on the topic below. We encourage you to review additional educational material and research literature as you work out your solution.\n",
    "\n",
    "\\[5\\] \"A variational eigenvalue solver on a quantum processor.\" A. Peruzzo, et al. [arXiv:1304.3061](https://arxiv.org/abs/1304.3061) [quant-ph] (2013).\n",
    "\n",
    "\\[6\\] \"Variational quantum algorithms.\" M. Cerezo, et al. [arXiv:2012.09265v2](https://arxiv.org/abs/2012.09265v2) [quant-ph] (2021).\n",
    "\n",
    "\\[7\\] \"The Variational Quantum Eigensolver: a review of methods and best practices.\" J. Tilly, et al. [arXiv:2111.05176v3](https://arxiv.org/abs/2111.05176v3) [quant-ph] (2022).\n"
   ]
  },
  {
   "cell_type": "code",
   "execution_count": 1,
   "id": "fb3b2e13-9651-49eb-9f8a-0012d3fb21ed",
   "metadata": {},
   "outputs": [],
   "source": [
    "import numpy as np\n",
    "\n",
    "from time import time\n",
    "\n",
    "import matplotlib.pyplot as plt\n",
    "plt.rcParams.update({\"font.size\": 16})  # enlarge matplotlib fonts"
   ]
  },
  {
   "cell_type": "markdown",
   "id": "23557032",
   "metadata": {},
   "source": [
    "## 1-4 Classical computation of ground state energy\n",
    "The twelve qubit state space isn't terribly large $2^{12} = 4096$, but it also isn't small. A classical computer can still diagonalize the Hamiltonian and thus compute the ground state and its associated energy. For the Open Science Prize, we don't need a full energy spectrum, just a calculation of the ground state energy. When working on your solution, remember that brute force approaches that work on 5 or 7-qubit devices may not work as well with ibmq_guadalupe's 16 qubits.\n",
    "\n",
    "Below is an example classical calculation of the ground state energy. It will be used as a reference to your VQE results. First, the kagome lattice is defined on a graph. Second, we built the Hamiltonian from the graph edges. Finally, the expected ground state energy is calculated.\n",
    "\n",
    "### Qiskit nature kagome unit cell\n",
    "Using Qiskit nature's [`Lattice` object](https://qiskit.org/documentation/nature/tutorials/10_lattice_models.html), we can represent any spin lattice as a graph. Here we construct the unit cell of a kagome lattice by defining a list of edges between the twelve sites. This `Lattice` representation will be convenient to use when defining the $XXX$ Hamiltonian terms."
   ]
  },
  {
   "cell_type": "code",
   "execution_count": 2,
   "id": "3565f61a-2fa8-4af8-83d9-5a8c8679ccf7",
   "metadata": {
    "scrolled": true
   },
   "outputs": [],
   "source": [
    "import retworkx as rx\n",
    "\n",
    "from qiskit_nature.problems.second_quantization.lattice import Lattice\n",
    "\n",
    "# Custom Heisenberg couplings\n",
    "from heisenberg_model import HeisenbergModel"
   ]
  },
  {
   "cell_type": "code",
   "execution_count": 3,
   "id": "5839d6d3-ee8a-4d01-9af4-e654ae915778",
   "metadata": {},
   "outputs": [
    {
     "data": {
      "image/png": "[encoded data removed]",
      "text/plain": [
       "<Figure size 640x480 with 1 Axes>"
      ]
     },
     "metadata": {},
     "output_type": "display_data"
    }
   ],
   "source": [
    "# Kagome unit cell\n",
    "num_sites = 12\n",
    "# Edge weight\n",
    "t = 1.0\n",
    "\n",
    "# Generate graph of kagome unit cell\n",
    "# Start by defining all the edges\n",
    "graph = rx.PyGraph(multigraph=False)\n",
    "graph.add_nodes_from(range(num_sites))\n",
    "edge_list = [\n",
    "    (0, 1, t),\n",
    "    (1, 2, t),\n",
    "    (2, 3, t),\n",
    "    (3, 4, t),\n",
    "    (4, 5, t),\n",
    "    (5, 0, t),\n",
    "    (0, 6, t),\n",
    "    (1, 6, t),\n",
    "    (1, 7, t),\n",
    "    (2, 7, t),\n",
    "    (2, 8, t),\n",
    "    (3, 8, t),\n",
    "    (3, 9, t),\n",
    "    (4, 9, t),\n",
    "    (4, 10, t),\n",
    "    (5, 10, t),\n",
    "    (5, 11, t),\n",
    "    (0, 11, t),\n",
    "]\n",
    "# Generate graph from the list of edges\n",
    "graph.add_edges_from(edge_list)\n",
    "\n",
    "# Make a Lattice from graph\n",
    "kagome_unit_cell = Lattice(graph)\n",
    "\n",
    "# Draw Lattice\n",
    "kagome_unit_cell.draw(style={'node_color':'purple'})\n",
    "# plt.savefig('kagome_unit_cell.png')\n",
    "plt.show()"
   ]
  },
  {
   "cell_type": "markdown",
   "id": "77e7a794-04c3-48f7-aa62-1f020c241282",
   "metadata": {},
   "source": [
    "Now that we have the lattice geometry, we can place each term in the Hamiltonian on its corresponding edge. This is done by using the custom `HeisenbergModel` found in the heisenberg_model.py file. This model is based on Qiskit Nature's [`IsingModel` class](https://qiskit.org/documentation/nature/stubs/qiskit_nature.problems.second_quantization.lattice.IsingModel.html) . It places $XX + YY + ZZ$ on each edge of the lattice (per the Hamiltonian's definition).\n",
    "\n",
    "We will also need to specify how the spin-1/2 particles map to qubits. Using Qiskit nature's `LogarithmicMapper`, we can map each spin-1/2 site to a single qubit. For more information on Qiskit nature's spin mappings see [here]( https://qiskit.org/documentation/nature/stubs/qiskit_nature.mappers.second_quantization.SpinMapper.html#qiskit_nature.mappers.second_quantization.SpinMapper)."
   ]
  },
  {
   "cell_type": "code",
   "execution_count": 4,
   "id": "b63edd90-b02d-4c6b-8d9d-3692e05feec4",
   "metadata": {},
   "outputs": [],
   "source": [
    "from qiskit_nature.mappers.second_quantization import LogarithmicMapper"
   ]
  },
  {
   "cell_type": "code",
   "execution_count": 5,
   "id": "2d0f1fa1-ad52-4c82-bc10-b971b227b8ec",
   "metadata": {},
   "outputs": [
    {
     "data": {
      "text/plain": [
       "PauliSumOp(SparsePauliOp(['ZIIIIIZIIIII', 'IZIIIIZIIIII', 'IZIIIIIZIIII', 'IIZIIIIZIIII', 'IIIIIIZZIIII', 'IIZIIIIIZIII', 'IIIZIIIIZIII', 'IIIIIIIZZIII', 'IIIZIIIIIZII', 'IIIIZIIIIZII', 'IIIIIIIIZZII', 'IIIIZIIIIIZI', 'IIIIIZIIIIZI', 'IIIIIIIIIZZI', 'ZIIIIIIIIIIZ', 'IIIIIZIIIIIZ', 'IIIIIIZIIIIZ', 'IIIIIIIIIIZZ', 'YIIIIIYIIIII', 'IYIIIIYIIIII', 'IYIIIIIYIIII', 'IIYIIIIYIIII', 'IIIIIIYYIIII', 'IIYIIIIIYIII', 'IIIYIIIIYIII', 'IIIIIIIYYIII', 'IIIYIIIIIYII', 'IIIIYIIIIYII', 'IIIIIIIIYYII', 'IIIIYIIIIIYI', 'IIIIIYIIIIYI', 'IIIIIIIIIYYI', 'YIIIIIIIIIIY', 'IIIIIYIIIIIY', 'IIIIIIYIIIIY', 'IIIIIIIIIIYY', 'XIIIIIXIIIII', 'IXIIIIXIIIII', 'IXIIIIIXIIII', 'IIXIIIIXIIII', 'IIIIIIXXIIII', 'IIXIIIIIXIII', 'IIIXIIIIXIII', 'IIIIIIIXXIII', 'IIIXIIIIIXII', 'IIIIXIIIIXII', 'IIIIIIIIXXII', 'IIIIXIIIIIXI', 'IIIIIXIIIIXI', 'IIIIIIIIIXXI', 'XIIIIIIIIIIX', 'IIIIIXIIIIIX', 'IIIIIIXIIIIX', 'IIIIIIIIIIXX'],\n",
       "              coeffs=[1.+0.j, 1.+0.j, 1.+0.j, 1.+0.j, 1.+0.j, 1.+0.j, 1.+0.j, 1.+0.j, 1.+0.j,\n",
       " 1.+0.j, 1.+0.j, 1.+0.j, 1.+0.j, 1.+0.j, 1.+0.j, 1.+0.j, 1.+0.j, 1.+0.j,\n",
       " 1.+0.j, 1.+0.j, 1.+0.j, 1.+0.j, 1.+0.j, 1.+0.j, 1.+0.j, 1.+0.j, 1.+0.j,\n",
       " 1.+0.j, 1.+0.j, 1.+0.j, 1.+0.j, 1.+0.j, 1.+0.j, 1.+0.j, 1.+0.j, 1.+0.j,\n",
       " 1.+0.j, 1.+0.j, 1.+0.j, 1.+0.j, 1.+0.j, 1.+0.j, 1.+0.j, 1.+0.j, 1.+0.j,\n",
       " 1.+0.j, 1.+0.j, 1.+0.j, 1.+0.j, 1.+0.j, 1.+0.j, 1.+0.j, 1.+0.j, 1.+0.j]), coeff=1)"
      ]
     },
     "execution_count": 5,
     "metadata": {},
     "output_type": "execute_result"
    }
   ],
   "source": [
    "# Build Hamiltonian from graph edges\n",
    "heis = HeisenbergModel.uniform_parameters(\n",
    "    lattice=kagome_unit_cell,\n",
    "    uniform_interaction=1.0,  # same spin-spin interaction weight as used in graph\n",
    "    uniform_onsite_potential=0.0,  # No singe site external field\n",
    ")\n",
    "\n",
    "# The Lattice needs an explicit mapping to the qubit states.\n",
    "# We map 1 qubit for 1 spin-1/2 particle using the LogarithmicMapper\n",
    "log_mapper = LogarithmicMapper()\n",
    "# Multiply by factor of 4 to account for (1/2)^2 terms from spin operators in the HeisenbergModel\n",
    "ham = 4 * log_mapper.map(heis.second_q_ops().simplify())\n",
    "# Print Hamiltonian to check it's what we expect.\n",
    "# There are 18 edges and 3 terms per edge (XX, YY, and ZZ),\n",
    "# so there should be 54 equally weighted terms.\n",
    "ham"
   ]
  },
  {
   "cell_type": "markdown",
   "id": "e7c2fe6a-98c3-413d-8ee5-ab635184da80",
   "metadata": {},
   "source": [
    "### Compute ground state energy\n",
    "With the Hamiltonian in hand, we can now calculate the expected ground state and its energy. Qiskit offers different methods to do this. The method [here](https://qiskit.org/documentation/apidoc/algorithms.html#minimum-eigensolvers) computes the ground state energy. This [method](https://qiskit.org/documentation/apidoc/algorithms.html#eigensolvers) computes the ground state ($k=0$) and potentially higher energy states if the users wishes ($k>0$).\n",
    "\n",
    "Below is an example calculation of finding the lowest 3 energies ($k=3$) of the system using the second method. Remember that for this year's Prize, you will only need to use VQE to find the ground state energy and not any excited state energies."
   ]
  },
  {
   "cell_type": "code",
   "execution_count": 6,
   "id": "f7bf1d65-0883-4180-985c-bfa88b47e334",
   "metadata": {},
   "outputs": [
    {
     "name": "stdout",
     "output_type": "stream",
     "text": [
      "[-18.         -18.         -16.96132284]\n"
     ]
    }
   ],
   "source": [
    "from qiskit.algorithms import NumPyEigensolver\n",
    "\n",
    "# find the first three (k=3) eigenvalues\n",
    "exact_solver = NumPyEigensolver(k=3)\n",
    "exact_result = exact_solver.compute_eigenvalues(ham)\n",
    "print(exact_result.eigenvalues)\n",
    "\n",
    "# Save ground state energy for later\n",
    "gs_energy = np.round(exact_result.eigenvalues[0], 4)"
   ]
  },
  {
   "cell_type": "markdown",
   "id": "5148f389-84b9-4608-bde5-d1151e45fdec",
   "metadata": {},
   "source": [
    "You'll note that -18 is found twice. This means there are actually two ground states for this system. The -16.96 energy is the first excited state, which is not part of this year's challenge. **For this year's Prize, we will only be judging based off the measured ground state energy. This means it does not matter which of the two ground states, or combination of them, your VQE implementation finds.**"
   ]
  },
  {
   "cell_type": "markdown",
   "id": "b7dc18ef-d6b7-4594-b7ea-a93f922f9997",
   "metadata": {},
   "source": [
    "## 2-1 VQE with local runtime primitives\n",
    "\n",
    "To compute the ground state energy using VQE, we first pick an appropriate device. This year's Prize will use ibmq_guadalupe which has 16 qubits. This is 4 extra qubits than the Hamiltonian, so we will need to \"inflate\" the Hamiltonian with identity operators so we can measure 12 qubit Hamiltonian's energy expectation value on a 16 qubit device.\n",
    "After inflating the Hamiltonian, the anstaz and classical optimizer components are built up. Finally, a class is defined to bring everything together for the VQE algorithm, and it's executed on a local simulator.\n",
    "\n",
    "The code below is largely based off of this example [tutorial](https://github.com/mberna/qce22-qiskit-runtime-tutorial/blob/main/docs/tutorials/Building%20algorithms%20with%20Qiskit%20Runtime.ipynb) of using qiskit runtime primitives from IEEE week. Feel free to read through to learn more about qiskit runtime and VQE."
   ]
  },
  {
   "cell_type": "markdown",
   "id": "9d8e4acf-fcf6-490d-bda9-76b663d10d4b",
   "metadata": {},
   "source": [
    "## 2-2 Qiskit runtime\n",
    "\n",
    "[Qiskit runtime](https://github.com/Qiskit/qiskit-ibm-runtime) is a paradigm which brings classical and quantum computing resources closer together--speeding up quantum algorithms especially variational ones. We will be using runtime because of its [speed boost](https://research.ibm.com/blog/120x-quantum-speedup) relative to the traditional way quantum circuits are executed using qiskit. In this notebook, we'll demonstrate an example VQE executed with qiskit runtime, but we encourage you to get a deeper understanding of the tool by checking out an overview of qiskit runtime and some tutorials on the [qiskit docs section on runtime](https://qiskit.org/documentation/partners/qiskit_ibm_runtime/) as well as the IBM [research blog](https://research.ibm.com/blog/qiskit-runtime-capabilities-integration)."
   ]
  },
  {
   "cell_type": "code",
   "execution_count": 7,
   "id": "45fc1701-e9b9-4c83-b326-7d897cfd68d7",
   "metadata": {},
   "outputs": [],
   "source": [
    "from qiskit import QuantumCircuit, transpile\n",
    "from qiskit.circuit import Parameter\n",
    "\n",
    "from qiskit import IBMQ"
   ]
  },
  {
   "cell_type": "code",
   "execution_count": 8,
   "id": "1a7a6967-4aee-4ece-a521-34cab047ca75",
   "metadata": {},
   "outputs": [],
   "source": [
    "# Doc for loading IBMQ account https://quantum-computing.ibm.com/lab/docs/iql/manage/account/ibmq#the-account\n",
    "'''\n",
    "TOKEN = '846adbe75742937bc75542bac0ba461e0aacd48504f2107eb9ef034c45873be503c0fff5eef502614387e64137a305c2a8b87daf0344b9185ff8cdfbff866e8d'\n",
    "IBMQ.save_account(TOKEN)\n",
    "provider = IBMQ.load_account()\n",
    "provider = IBMQ.get_provider(hub='ibm-q-internal', group='deployed', project='default')\n",
    "\n",
    "'''\n",
    "\n",
    "# Real backend; needed for transpilation later on\n",
    "#guadalupe = provider.get_backend(\"ibmq_guadalupe\")\n",
    "\n",
    "# Get fake backend if you like\n",
    "from qiskit.providers.fake_provider import FakeGuadalupe\n",
    "\n",
    "# Noisy simulator backend\n",
    "noisy_sim = FakeGuadalupe()"
   ]
  },
  {
   "cell_type": "markdown",
   "id": "1cf78fbd",
   "metadata": {},
   "source": [
    "As mentioned at the beginning of this section, the system Hamiltonian is defined over 12 qubits, but ibmq_guadalupe has 16 qubits. To execute VQE on ibmq_guadalupe, we will \"inflate\" the Hamilontian from 12 qubits to 16 qubits to match ibmq_guadalupe, but those extra 4 qubits will not participate in the energy expectation value. Here, we've chosen the 4 qubits that won't participate to be 0, 6, 9, 15. You may pick different qubits."
   ]
  },
  {
   "cell_type": "code",
   "execution_count": 9,
   "id": "22017474-5890-44cd-821c-22ca1b143d6b",
   "metadata": {},
   "outputs": [
    {
     "data": {
      "image/png": "[encoded data removed]",
      "text/plain": [
       "<Figure size 640x480 with 1 Axes>"
      ]
     },
     "metadata": {},
     "output_type": "display_data"
    }
   ],
   "source": [
    "# Kagome unit cell\n",
    "num_qubits = 16\n",
    "# Edge weight\n",
    "t = 1.0\n",
    "\n",
    "# Generate graph of kagome unit cell\n",
    "# Start by defining all the edges\n",
    "graph_16 = rx.PyGraph(multigraph=False)\n",
    "graph_16.add_nodes_from(range(num_qubits))\n",
    "edge_list = [\n",
    "    (1, 2, t),\n",
    "    (2, 3, t),\n",
    "    (3, 5, t),\n",
    "    (5, 8, t),\n",
    "    (8, 11, t),\n",
    "    (11, 14, t),\n",
    "    (14, 13, t),\n",
    "    (13, 12, t),\n",
    "    (12, 10, t),\n",
    "    (10, 7, t),\n",
    "    (7, 4, t),\n",
    "    (4, 1, t),\n",
    "    (4, 2, t),\n",
    "    (2, 5, t),\n",
    "    (5, 11, t),\n",
    "    (11, 13, t),\n",
    "    (13, 10, t),\n",
    "    (10, 4, t),\n",
    "]\n",
    "# Generate graph from the list of edges\n",
    "graph_16.add_edges_from(edge_list)\n",
    "\n",
    "# Make a Lattice from graph\n",
    "kagome_unit_cell_16 = Lattice(graph_16)\n",
    "\n",
    "# Draw Lattice and include labels to check we exclude the right spins\n",
    "# Specify node locations for better visualizations\n",
    "kagome_pos = {0:[1,-1], 6:[1.5,-1], 9:[2,-1], 15:[2.5,-1], \n",
    "              1:[0,-0.8], 2:[-0.6,1], 4:[0.6,1], 10:[1.2,3], \n",
    "              13:[0.6,5], 11:[-0.6,5], 5:[-1.2,3], 3:[-1.8,0.9], \n",
    "              8:[-1.8,5.1], 14:[0,6.8], 7:[1.8,0.9], 12:[1.8,5.1]}\n",
    "kagome_unit_cell_16.draw(style={'with_labels':True, 'font_color':'white', 'node_color':'purple', 'pos':kagome_pos})\n",
    "plt.show()"
   ]
  },
  {
   "cell_type": "code",
   "execution_count": 10,
   "id": "a44d6279-a630-4e15-859c-a68dfbee6550",
   "metadata": {},
   "outputs": [
    {
     "data": {
      "text/plain": [
       "PauliSumOp(SparsePauliOp(['IZZIIIIIIIIIIIII', 'IIZZIIIIIIIIIIII', 'IZIIZIIIIIIIIIII', 'IIZIZIIIIIIIIIII', 'IIZIIZIIIIIIIIII', 'IIIZIZIIIIIIIIII', 'IIIIZIIZIIIIIIII', 'IIIIIZIIZIIIIIII', 'IIIIZIIIIIZIIIII', 'IIIIIIIZIIZIIIII', 'IIIIIZIIIIIZIIII', 'IIIIIIIIZIIZIIII', 'IIIIIIIIIIZIZIII', 'IIIIIIIIIIZIIZII', 'IIIIIIIIIIIZIZII', 'IIIIIIIIIIIIZZII', 'IIIIIIIIIIIZIIZI', 'IIIIIIIIIIIIIZZI', 'IYYIIIIIIIIIIIII', 'IIYYIIIIIIIIIIII', 'IYIIYIIIIIIIIIII', 'IIYIYIIIIIIIIIII', 'IIYIIYIIIIIIIIII', 'IIIYIYIIIIIIIIII', 'IIIIYIIYIIIIIIII', 'IIIIIYIIYIIIIIII', 'IIIIYIIIIIYIIIII', 'IIIIIIIYIIYIIIII', 'IIIIIYIIIIIYIIII', 'IIIIIIIIYIIYIIII', 'IIIIIIIIIIYIYIII', 'IIIIIIIIIIYIIYII', 'IIIIIIIIIIIYIYII', 'IIIIIIIIIIIIYYII', 'IIIIIIIIIIIYIIYI', 'IIIIIIIIIIIIIYYI', 'IXXIIIIIIIIIIIII', 'IIXXIIIIIIIIIIII', 'IXIIXIIIIIIIIIII', 'IIXIXIIIIIIIIIII', 'IIXIIXIIIIIIIIII', 'IIIXIXIIIIIIIIII', 'IIIIXIIXIIIIIIII', 'IIIIIXIIXIIIIIII', 'IIIIXIIIIIXIIIII', 'IIIIIIIXIIXIIIII', 'IIIIIXIIIIIXIIII', 'IIIIIIIIXIIXIIII', 'IIIIIIIIIIXIXIII', 'IIIIIIIIIIXIIXII', 'IIIIIIIIIIIXIXII', 'IIIIIIIIIIIIXXII', 'IIIIIIIIIIIXIIXI', 'IIIIIIIIIIIIIXXI'],\n",
       "              coeffs=[1.+0.j, 1.+0.j, 1.+0.j, 1.+0.j, 1.+0.j, 1.+0.j, 1.+0.j, 1.+0.j, 1.+0.j,\n",
       " 1.+0.j, 1.+0.j, 1.+0.j, 1.+0.j, 1.+0.j, 1.+0.j, 1.+0.j, 1.+0.j, 1.+0.j,\n",
       " 1.+0.j, 1.+0.j, 1.+0.j, 1.+0.j, 1.+0.j, 1.+0.j, 1.+0.j, 1.+0.j, 1.+0.j,\n",
       " 1.+0.j, 1.+0.j, 1.+0.j, 1.+0.j, 1.+0.j, 1.+0.j, 1.+0.j, 1.+0.j, 1.+0.j,\n",
       " 1.+0.j, 1.+0.j, 1.+0.j, 1.+0.j, 1.+0.j, 1.+0.j, 1.+0.j, 1.+0.j, 1.+0.j,\n",
       " 1.+0.j, 1.+0.j, 1.+0.j, 1.+0.j, 1.+0.j, 1.+0.j, 1.+0.j, 1.+0.j, 1.+0.j]), coeff=1)"
      ]
     },
     "execution_count": 10,
     "metadata": {},
     "output_type": "execute_result"
    }
   ],
   "source": [
    "# Build Hamiltonian from graph edges\n",
    "heis_16 = HeisenbergModel.uniform_parameters(\n",
    "    lattice=kagome_unit_cell_16,\n",
    "    uniform_interaction=t,\n",
    "    uniform_onsite_potential=0.0,  # No singe site external field\n",
    ")\n",
    "\n",
    "# Map from SpinOp to qubits just as before.\n",
    "log_mapper = LogarithmicMapper()\n",
    "ham_16 = 4 * log_mapper.map(heis_16.second_q_ops().simplify())\n",
    "# Print Hamiltonian to check it's what we expect:\n",
    "# 18 ZZ, 18 YY, and 18 XX terms over 16 qubits instead of over 12 qubits\n",
    "ham_16"
   ]
  },
  {
   "cell_type": "markdown",
   "id": "f94f6997-44ab-43c8-ac8f-a2d58c555a22",
   "metadata": {},
   "source": [
    "## 2-3 Define an ansatz\n",
    "Crafting the ansatz is critical to VQE. You may use a prebuilt ansatz from the [qiskit circuit library](https://qiskit.org/documentation/apidoc/circuit_library.html#n-local-circuits). You may also make your own custom ansatz. Keep in mind that a custom ansatz should have no measurement gates at the end and the circuit parameters are defined by using `Parameter()` [objects](https://qiskit.org/documentation/stubs/qiskit.circuit.Parameter.html). We've demonstrated both options below. The ansatz can be defined over 12 qubits without needed to inflate it to 16 qubits at this point. The transpiler will take care of that later on.\n",
    "\n",
    "Here's an example using `EfficientSU2()` to generate an ansatz"
   ]
  },
  {
   "cell_type": "code",
   "execution_count": 11,
   "id": "497acb4a",
   "metadata": {},
   "outputs": [],
   "source": [
    "from qiskit.circuit.library import EfficientSU2, RealAmplitudes, TwoLocal\n"
   ]
  },
  {
   "cell_type": "code",
   "execution_count": 12,
   "id": "a838e229",
   "metadata": {},
   "outputs": [
    {
     "ename": "NameError",
     "evalue": "name 'ansatz_ptd' is not defined",
     "output_type": "error",
     "traceback": [
      "\u001b[1;31m---------------------------------------------------------------------------\u001b[0m",
      "\u001b[1;31mNameError\u001b[0m                                 Traceback (most recent call last)",
      "\u001b[1;32m~\\AppData\\Local\\Temp\\ipykernel_9060\\2967799792.py\u001b[0m in \u001b[0;36m<module>\u001b[1;34m\u001b[0m\n\u001b[0;32m      1\u001b[0m \u001b[0mansatz_two\u001b[0m \u001b[1;33m=\u001b[0m \u001b[0mTwoLocal\u001b[0m\u001b[1;33m(\u001b[0m\u001b[1;36m12\u001b[0m\u001b[1;33m,\u001b[0m \u001b[1;33m[\u001b[0m\u001b[1;34m'ry'\u001b[0m\u001b[1;33m,\u001b[0m\u001b[1;34m'rz'\u001b[0m\u001b[1;33m]\u001b[0m\u001b[1;33m,\u001b[0m \u001b[1;34m'cz'\u001b[0m\u001b[1;33m,\u001b[0m \u001b[0mentanglement\u001b[0m\u001b[1;33m=\u001b[0m\u001b[1;34m'linear'\u001b[0m\u001b[1;33m,\u001b[0m \u001b[0mreps\u001b[0m\u001b[1;33m=\u001b[0m\u001b[1;36m3\u001b[0m\u001b[1;33m,\u001b[0m \u001b[0mskip_unentangled_qubits\u001b[0m\u001b[1;33m=\u001b[0m\u001b[1;32mFalse\u001b[0m\u001b[1;33m,\u001b[0m \u001b[0mskip_final_rotation_layer\u001b[0m\u001b[1;33m=\u001b[0m\u001b[1;32mTrue\u001b[0m\u001b[1;33m)\u001b[0m\u001b[1;33m.\u001b[0m\u001b[0mdecompose\u001b[0m\u001b[1;33m(\u001b[0m\u001b[1;33m)\u001b[0m\u001b[1;33m\u001b[0m\u001b[1;33m\u001b[0m\u001b[0m\n\u001b[1;32m----> 2\u001b[1;33m \u001b[0mansatz_ptd\u001b[0m\u001b[1;33m.\u001b[0m\u001b[0mdraw\u001b[0m\u001b[1;33m(\u001b[0m\u001b[0mfold\u001b[0m\u001b[1;33m=\u001b[0m\u001b[1;36m300\u001b[0m\u001b[1;33m)\u001b[0m\u001b[1;33m\u001b[0m\u001b[1;33m\u001b[0m\u001b[0m\n\u001b[0m",
      "\u001b[1;31mNameError\u001b[0m: name 'ansatz_ptd' is not defined"
     ]
    }
   ],
   "source": [
    "ansatz_two = TwoLocal(12, ['ry','rz'], 'cz', entanglement='linear', reps=3, skip_unentangled_qubits=False, skip_final_rotation_layer=True).decompose()\n",
    "ansatz_ptd.draw(fold=300)"
   ]
  },
  {
   "cell_type": "code",
   "execution_count": 15,
   "id": "4a4cbe59-08d1-4175-bd23-3ebb8a9cd620",
   "metadata": {},
   "outputs": [
    {
     "data": {
      "text/html": [
       "<pre style=\"word-wrap: normal;white-space: pre;background: #fff0;line-height: 1.1;font-family: &quot;Courier New&quot;,Courier,monospace\">       ┌──────────┐┌───────────┐     ┌───────────┐┌───────────┐                          ┌───────────┐┌───────────┐                                                                                                                                            \n",
       " q_0: ─┤ Ry(θ[0]) ├┤ Rz(θ[12]) ├──■──┤ Ry(θ[24]) ├┤ Rz(θ[36]) ├───────────────────■──────┤ Ry(θ[48]) ├┤ Rz(θ[60]) ├───────────────────■────────────────────────────────────────────────────────────────────────────────────────────────────────────────────────\n",
       "       ├──────────┤├───────────┤┌─┴─┐└───────────┘├───────────┤┌───────────┐    ┌─┴─┐    └───────────┘├───────────┤┌───────────┐    ┌─┴─┐                                                                                                                      \n",
       " q_1: ─┤ Ry(θ[1]) ├┤ Rz(θ[13]) ├┤ X ├──────■──────┤ Ry(θ[25]) ├┤ Rz(θ[37]) ├────┤ X ├──────────■──────┤ Ry(θ[49]) ├┤ Rz(θ[61]) ├────┤ X ├──────────■───────────────────────────────────────────────────────────────────────────────────────────────────────────\n",
       "       ├──────────┤├───────────┤└───┘    ┌─┴─┐    └───────────┘├───────────┤┌───┴───┴───┐    ┌─┴─┐    └───────────┘├───────────┤┌───┴───┴───┐    ┌─┴─┐                                                                                                         \n",
       " q_2: ─┤ Ry(θ[2]) ├┤ Rz(θ[14]) ├─────────┤ X ├──────────■──────┤ Ry(θ[26]) ├┤ Rz(θ[38]) ├────┤ X ├──────────■──────┤ Ry(θ[50]) ├┤ Rz(θ[62]) ├────┤ X ├──────────■──────────────────────────────────────────────────────────────────────────────────────────────\n",
       "       ├──────────┤├───────────┤         └───┘        ┌─┴─┐    └───────────┘├───────────┤┌───┴───┴───┐    ┌─┴─┐    └───────────┘├───────────┤┌───┴───┴───┐    ┌─┴─┐                                                                                            \n",
       " q_3: ─┤ Ry(θ[3]) ├┤ Rz(θ[15]) ├──────────────────────┤ X ├──────────■──────┤ Ry(θ[27]) ├┤ Rz(θ[39]) ├────┤ X ├──────────■──────┤ Ry(θ[51]) ├┤ Rz(θ[63]) ├────┤ X ├──────────■─────────────────────────────────────────────────────────────────────────────────\n",
       "       ├──────────┤├───────────┤                      └───┘        ┌─┴─┐    └───────────┘├───────────┤┌───┴───┴───┐    ┌─┴─┐    └───────────┘├───────────┤┌───┴───┴───┐    ┌─┴─┐                                                                               \n",
       " q_4: ─┤ Ry(θ[4]) ├┤ Rz(θ[16]) ├───────────────────────────────────┤ X ├──────────■──────┤ Ry(θ[28]) ├┤ Rz(θ[40]) ├────┤ X ├──────────■──────┤ Ry(θ[52]) ├┤ Rz(θ[64]) ├────┤ X ├──────────■────────────────────────────────────────────────────────────────────\n",
       "       ├──────────┤├───────────┤                                   └───┘        ┌─┴─┐    └───────────┘├───────────┤┌───┴───┴───┐    ┌─┴─┐    └───────────┘├───────────┤┌───┴───┴───┐    ┌─┴─┐                                                                  \n",
       " q_5: ─┤ Ry(θ[5]) ├┤ Rz(θ[17]) ├────────────────────────────────────────────────┤ X ├──────────■──────┤ Ry(θ[29]) ├┤ Rz(θ[41]) ├────┤ X ├──────────■──────┤ Ry(θ[53]) ├┤ Rz(θ[65]) ├────┤ X ├──────────■───────────────────────────────────────────────────────\n",
       "       ├──────────┤├───────────┤                                                └───┘        ┌─┴─┐    └───────────┘├───────────┤┌───┴───┴───┐    ┌─┴─┐    └───────────┘├───────────┤┌───┴───┴───┐    ┌─┴─┐                                                     \n",
       " q_6: ─┤ Ry(θ[6]) ├┤ Rz(θ[18]) ├─────────────────────────────────────────────────────────────┤ X ├──────────■──────┤ Ry(θ[30]) ├┤ Rz(θ[42]) ├────┤ X ├──────────■──────┤ Ry(θ[54]) ├┤ Rz(θ[66]) ├────┤ X ├──────────■──────────────────────────────────────────\n",
       "       ├──────────┤├───────────┤                                                             └───┘        ┌─┴─┐    └───────────┘├───────────┤┌───┴───┴───┐    ┌─┴─┐    └───────────┘├───────────┤┌───┴───┴───┐    ┌─┴─┐                                        \n",
       " q_7: ─┤ Ry(θ[7]) ├┤ Rz(θ[19]) ├──────────────────────────────────────────────────────────────────────────┤ X ├──────────■──────┤ Ry(θ[31]) ├┤ Rz(θ[43]) ├────┤ X ├──────────■──────┤ Ry(θ[55]) ├┤ Rz(θ[67]) ├────┤ X ├──────────■─────────────────────────────\n",
       "       ├──────────┤├───────────┤                                                                          └───┘        ┌─┴─┐    └───────────┘├───────────┤┌───┴───┴───┐    ┌─┴─┐    └───────────┘├───────────┤┌───┴───┴───┐    ┌─┴─┐                           \n",
       " q_8: ─┤ Ry(θ[8]) ├┤ Rz(θ[20]) ├───────────────────────────────────────────────────────────────────────────────────────┤ X ├──────────■──────┤ Ry(θ[32]) ├┤ Rz(θ[44]) ├────┤ X ├──────────■──────┤ Ry(θ[56]) ├┤ Rz(θ[68]) ├────┤ X ├──────────■────────────────\n",
       "       ├──────────┤├───────────┤                                                                                       └───┘        ┌─┴─┐    └───────────┘├───────────┤┌───┴───┴───┐    ┌─┴─┐    └───────────┘├───────────┤┌───┴───┴───┐    ┌─┴─┐              \n",
       " q_9: ─┤ Ry(θ[9]) ├┤ Rz(θ[21]) ├────────────────────────────────────────────────────────────────────────────────────────────────────┤ X ├──────────■──────┤ Ry(θ[33]) ├┤ Rz(θ[45]) ├────┤ X ├──────────■──────┤ Ry(θ[57]) ├┤ Rz(θ[69]) ├────┤ X ├──────■───────\n",
       "      ┌┴──────────┤├───────────┤                                                                                                    └───┘        ┌─┴─┐    └───────────┘├───────────┤┌───┴───┴───┐    ┌─┴─┐    └───────────┘├───────────┤┌───┴───┴───┐┌─┴─┐     \n",
       "q_10: ┤ Ry(θ[10]) ├┤ Rz(θ[22]) ├─────────────────────────────────────────────────────────────────────────────────────────────────────────────────┤ X ├──────────■──────┤ Ry(θ[34]) ├┤ Rz(θ[46]) ├────┤ X ├──────────■──────┤ Ry(θ[58]) ├┤ Rz(θ[70]) ├┤ X ├──■──\n",
       "      ├───────────┤├───────────┤                                                                                                                 └───┘        ┌─┴─┐    ├───────────┤├───────────┤    └───┘        ┌─┴─┐    ├───────────┤├───────────┤└───┘┌─┴─┐\n",
       "q_11: ┤ Ry(θ[11]) ├┤ Rz(θ[23]) ├──────────────────────────────────────────────────────────────────────────────────────────────────────────────────────────────┤ X ├────┤ Ry(θ[35]) ├┤ Rz(θ[47]) ├─────────────────┤ X ├────┤ Ry(θ[59]) ├┤ Rz(θ[71]) ├─────┤ X ├\n",
       "      └───────────┘└───────────┘                                                                                                                              └───┘    └───────────┘└───────────┘                 └───┘    └───────────┘└───────────┘     └───┘</pre>"
      ],
      "text/plain": [
       "       ┌──────────┐┌───────────┐     ┌───────────┐┌───────────┐                          ┌───────────┐┌───────────┐                                                                                                                                            \n",
       " q_0: ─┤ Ry(θ[0]) ├┤ Rz(θ[12]) ├──■──┤ Ry(θ[24]) ├┤ Rz(θ[36]) ├───────────────────■──────┤ Ry(θ[48]) ├┤ Rz(θ[60]) ├───────────────────■────────────────────────────────────────────────────────────────────────────────────────────────────────────────────────\n",
       "       ├──────────┤├───────────┤┌─┴─┐└───────────┘├───────────┤┌───────────┐    ┌─┴─┐    └───────────┘├───────────┤┌───────────┐    ┌─┴─┐                                                                                                                      \n",
       " q_1: ─┤ Ry(θ[1]) ├┤ Rz(θ[13]) ├┤ X ├──────■──────┤ Ry(θ[25]) ├┤ Rz(θ[37]) ├────┤ X ├──────────■──────┤ Ry(θ[49]) ├┤ Rz(θ[61]) ├────┤ X ├──────────■───────────────────────────────────────────────────────────────────────────────────────────────────────────\n",
       "       ├──────────┤├───────────┤└───┘    ┌─┴─┐    └───────────┘├───────────┤┌───┴───┴───┐    ┌─┴─┐    └───────────┘├───────────┤┌───┴───┴───┐    ┌─┴─┐                                                                                                         \n",
       " q_2: ─┤ Ry(θ[2]) ├┤ Rz(θ[14]) ├─────────┤ X ├──────────■──────┤ Ry(θ[26]) ├┤ Rz(θ[38]) ├────┤ X ├──────────■──────┤ Ry(θ[50]) ├┤ Rz(θ[62]) ├────┤ X ├──────────■──────────────────────────────────────────────────────────────────────────────────────────────\n",
       "       ├──────────┤├───────────┤         └───┘        ┌─┴─┐    └───────────┘├───────────┤┌───┴───┴───┐    ┌─┴─┐    └───────────┘├───────────┤┌───┴───┴───┐    ┌─┴─┐                                                                                            \n",
       " q_3: ─┤ Ry(θ[3]) ├┤ Rz(θ[15]) ├──────────────────────┤ X ├──────────■──────┤ Ry(θ[27]) ├┤ Rz(θ[39]) ├────┤ X ├──────────■──────┤ Ry(θ[51]) ├┤ Rz(θ[63]) ├────┤ X ├──────────■─────────────────────────────────────────────────────────────────────────────────\n",
       "       ├──────────┤├───────────┤                      └───┘        ┌─┴─┐    └───────────┘├───────────┤┌───┴───┴───┐    ┌─┴─┐    └───────────┘├───────────┤┌───┴───┴───┐    ┌─┴─┐                                                                               \n",
       " q_4: ─┤ Ry(θ[4]) ├┤ Rz(θ[16]) ├───────────────────────────────────┤ X ├──────────■──────┤ Ry(θ[28]) ├┤ Rz(θ[40]) ├────┤ X ├──────────■──────┤ Ry(θ[52]) ├┤ Rz(θ[64]) ├────┤ X ├──────────■────────────────────────────────────────────────────────────────────\n",
       "       ├──────────┤├───────────┤                                   └───┘        ┌─┴─┐    └───────────┘├───────────┤┌───┴───┴───┐    ┌─┴─┐    └───────────┘├───────────┤┌───┴───┴───┐    ┌─┴─┐                                                                  \n",
       " q_5: ─┤ Ry(θ[5]) ├┤ Rz(θ[17]) ├────────────────────────────────────────────────┤ X ├──────────■──────┤ Ry(θ[29]) ├┤ Rz(θ[41]) ├────┤ X ├──────────■──────┤ Ry(θ[53]) ├┤ Rz(θ[65]) ├────┤ X ├──────────■───────────────────────────────────────────────────────\n",
       "       ├──────────┤├───────────┤                                                └───┘        ┌─┴─┐    └───────────┘├───────────┤┌───┴───┴───┐    ┌─┴─┐    └───────────┘├───────────┤┌───┴───┴───┐    ┌─┴─┐                                                     \n",
       " q_6: ─┤ Ry(θ[6]) ├┤ Rz(θ[18]) ├─────────────────────────────────────────────────────────────┤ X ├──────────■──────┤ Ry(θ[30]) ├┤ Rz(θ[42]) ├────┤ X ├──────────■──────┤ Ry(θ[54]) ├┤ Rz(θ[66]) ├────┤ X ├──────────■──────────────────────────────────────────\n",
       "       ├──────────┤├───────────┤                                                             └───┘        ┌─┴─┐    └───────────┘├───────────┤┌───┴───┴───┐    ┌─┴─┐    └───────────┘├───────────┤┌───┴───┴───┐    ┌─┴─┐                                        \n",
       " q_7: ─┤ Ry(θ[7]) ├┤ Rz(θ[19]) ├──────────────────────────────────────────────────────────────────────────┤ X ├──────────■──────┤ Ry(θ[31]) ├┤ Rz(θ[43]) ├────┤ X ├──────────■──────┤ Ry(θ[55]) ├┤ Rz(θ[67]) ├────┤ X ├──────────■─────────────────────────────\n",
       "       ├──────────┤├───────────┤                                                                          └───┘        ┌─┴─┐    └───────────┘├───────────┤┌───┴───┴───┐    ┌─┴─┐    └───────────┘├───────────┤┌───┴───┴───┐    ┌─┴─┐                           \n",
       " q_8: ─┤ Ry(θ[8]) ├┤ Rz(θ[20]) ├───────────────────────────────────────────────────────────────────────────────────────┤ X ├──────────■──────┤ Ry(θ[32]) ├┤ Rz(θ[44]) ├────┤ X ├──────────■──────┤ Ry(θ[56]) ├┤ Rz(θ[68]) ├────┤ X ├──────────■────────────────\n",
       "       ├──────────┤├───────────┤                                                                                       └───┘        ┌─┴─┐    └───────────┘├───────────┤┌───┴───┴───┐    ┌─┴─┐    └───────────┘├───────────┤┌───┴───┴───┐    ┌─┴─┐              \n",
       " q_9: ─┤ Ry(θ[9]) ├┤ Rz(θ[21]) ├────────────────────────────────────────────────────────────────────────────────────────────────────┤ X ├──────────■──────┤ Ry(θ[33]) ├┤ Rz(θ[45]) ├────┤ X ├──────────■──────┤ Ry(θ[57]) ├┤ Rz(θ[69]) ├────┤ X ├──────■───────\n",
       "      ┌┴──────────┤├───────────┤                                                                                                    └───┘        ┌─┴─┐    └───────────┘├───────────┤┌───┴───┴───┐    ┌─┴─┐    └───────────┘├───────────┤┌───┴───┴───┐┌─┴─┐     \n",
       "q_10: ┤ Ry(θ[10]) ├┤ Rz(θ[22]) ├─────────────────────────────────────────────────────────────────────────────────────────────────────────────────┤ X ├──────────■──────┤ Ry(θ[34]) ├┤ Rz(θ[46]) ├────┤ X ├──────────■──────┤ Ry(θ[58]) ├┤ Rz(θ[70]) ├┤ X ├──■──\n",
       "      ├───────────┤├───────────┤                                                                                                                 └───┘        ┌─┴─┐    ├───────────┤├───────────┤    └───┘        ┌─┴─┐    ├───────────┤├───────────┤└───┘┌─┴─┐\n",
       "q_11: ┤ Ry(θ[11]) ├┤ Rz(θ[23]) ├──────────────────────────────────────────────────────────────────────────────────────────────────────────────────────────────┤ X ├────┤ Ry(θ[35]) ├┤ Rz(θ[47]) ├─────────────────┤ X ├────┤ Ry(θ[59]) ├┤ Rz(θ[71]) ├─────┤ X ├\n",
       "      └───────────┘└───────────┘                                                                                                                              └───┘    └───────────┘└───────────┘                 └───┘    └───────────┘└───────────┘     └───┘"
      ]
     },
     "execution_count": 15,
     "metadata": {},
     "output_type": "execute_result"
    }
   ],
   "source": [
    "# Construct ansatz from qiskit circuit library functions\n",
    "# See docs for full details\n",
    "ansatz = EfficientSU2(12, entanglement='linear', reps=3, skip_final_rotation_layer=True).decompose()\n",
    "ansatz.draw(fold=300)"
   ]
  },
  {
   "cell_type": "code",
   "execution_count": 53,
   "id": "339d8d08",
   "metadata": {},
   "outputs": [
    {
     "data": {
      "text/html": [
       "<pre style=\"word-wrap: normal;white-space: pre;background: #fff0;line-height: 1.1;font-family: &quot;Courier New&quot;,Courier,monospace\">       ┌──────────┐                                                         »\n",
       " q_0: ─┤ Ry(θ[0]) ├─────────────────────────────────────────────────────────»\n",
       "       ├──────────┤                                                         »\n",
       " q_1: ─┤ Ry(θ[1]) ├─────────────────────────────────────────────────────────»\n",
       "       ├──────────┤                                                         »\n",
       " q_2: ─┤ Ry(θ[2]) ├─────────────────────────────────────────────────────────»\n",
       "       ├──────────┤                                                         »\n",
       " q_3: ─┤ Ry(θ[3]) ├─────────────────────────────────────────────────────────»\n",
       "       ├──────────┤                                                         »\n",
       " q_4: ─┤ Ry(θ[4]) ├─────────────────────────────────────────────────────────»\n",
       "       ├──────────┤                                                         »\n",
       " q_5: ─┤ Ry(θ[5]) ├─────────────────────────────────────────────────────────»\n",
       "       ├──────────┤                                                         »\n",
       " q_6: ─┤ Ry(θ[6]) ├──────────────────────────────────────────────────■──────»\n",
       "       ├──────────┤                                                ┌─┴─┐    »\n",
       " q_7: ─┤ Ry(θ[7]) ├─────────────────────────────────────■──────────┤ X ├────»\n",
       "       ├──────────┤                                   ┌─┴─┐    ┌───┴───┴───┐»\n",
       " q_8: ─┤ Ry(θ[8]) ├────────────────────────■──────────┤ X ├────┤ Ry(θ[20]) ├»\n",
       "       ├──────────┤                      ┌─┴─┐    ┌───┴───┴───┐└───────────┘»\n",
       " q_9: ─┤ Ry(θ[9]) ├───────────■──────────┤ X ├────┤ Ry(θ[21]) ├──────■──────»\n",
       "      ┌┴──────────┤         ┌─┴─┐    ┌───┴───┴───┐└───────────┘    ┌─┴─┐    »\n",
       "q_10: ┤ Ry(θ[10]) ├──■──────┤ X ├────┤ Ry(θ[22]) ├──────■──────────┤ X ├────»\n",
       "      ├───────────┤┌─┴─┐┌───┴───┴───┐└───────────┘    ┌─┴─┐    ┌───┴───┴───┐»\n",
       "q_11: ┤ Ry(θ[11]) ├┤ X ├┤ Ry(θ[23]) ├─────────────────┤ X ├────┤ Ry(θ[35]) ├»\n",
       "      └───────────┘└───┘└───────────┘                 └───┘    └───────────┘»\n",
       "«                                                                       »\n",
       "« q_0: ─────────────────────────────────────────────────────────────────»\n",
       "«                                                                       »\n",
       "« q_1: ──────────────────────────────────────────────────────────■──────»\n",
       "«                                                              ┌─┴─┐    »\n",
       "« q_2: ─────────────────────────────────────────────■──────────┤ X ├────»\n",
       "«                                                 ┌─┴─┐    ┌───┴───┴───┐»\n",
       "« q_3: ────────────────────────────────■──────────┤ X ├────┤ Ry(θ[15]) ├»\n",
       "«                                    ┌─┴─┐    ┌───┴───┴───┐└───────────┘»\n",
       "« q_4: ───────────────────■──────────┤ X ├────┤ Ry(θ[16]) ├──────■──────»\n",
       "«                       ┌─┴─┐    ┌───┴───┴───┐└───────────┘    ┌─┴─┐    »\n",
       "« q_5: ──────■──────────┤ X ├────┤ Ry(θ[17]) ├──────■──────────┤ X ├────»\n",
       "«          ┌─┴─┐    ┌───┴───┴───┐└───────────┘    ┌─┴─┐    ┌───┴───┴───┐»\n",
       "« q_6: ────┤ X ├────┤ Ry(θ[18]) ├──────■──────────┤ X ├────┤ Ry(θ[30]) ├»\n",
       "«      ┌───┴───┴───┐└───────────┘    ┌─┴─┐    ┌───┴───┴───┐└───────────┘»\n",
       "« q_7: ┤ Ry(θ[19]) ├──────■──────────┤ X ├────┤ Ry(θ[31]) ├──────■──────»\n",
       "«      └───────────┘    ┌─┴─┐    ┌───┴───┴───┐└───────────┘    ┌─┴─┐    »\n",
       "« q_8: ──────■──────────┤ X ├────┤ Ry(θ[32]) ├──────■──────────┤ X ├────»\n",
       "«          ┌─┴─┐    ┌───┴───┴───┐└───────────┘    ┌─┴─┐        └───┘    »\n",
       "« q_9: ────┤ X ├────┤ Ry(θ[33]) ├──────■──────────┤ X ├─────────────────»\n",
       "«      ┌───┴───┴───┐└───────────┘    ┌─┴─┐        └───┘                 »\n",
       "«q_10: ┤ Ry(θ[34]) ├──────■──────────┤ X ├──────────────────────────────»\n",
       "«      └───────────┘    ┌─┴─┐        └───┘                              »\n",
       "«q_11: ─────────────────┤ X ├───────────────────────────────────────────»\n",
       "«                       └───┘                                           »\n",
       "«                   ┌───────────┐                          ┌───────────┐     »\n",
       "« q_0: ──────■──────┤ Ry(θ[12]) ├───────────────────■──────┤ Ry(θ[24]) ├─────»\n",
       "«          ┌─┴─┐    ├───────────┤                 ┌─┴─┐    ├───────────┤     »\n",
       "« q_1: ────┤ X ├────┤ Ry(θ[13]) ├──────■──────────┤ X ├────┤ Ry(θ[25]) ├──■──»\n",
       "«      ┌───┴───┴───┐└───────────┘    ┌─┴─┐    ┌───┴───┴───┐└───────────┘┌─┴─┐»\n",
       "« q_2: ┤ Ry(θ[14]) ├──────■──────────┤ X ├────┤ Ry(θ[26]) ├──────■──────┤ X ├»\n",
       "«      └───────────┘    ┌─┴─┐    ┌───┴───┴───┐└───────────┘    ┌─┴─┐    └───┘»\n",
       "« q_3: ──────■──────────┤ X ├────┤ Ry(θ[27]) ├──────■──────────┤ X ├─────────»\n",
       "«          ┌─┴─┐    ┌───┴───┴───┐└───────────┘    ┌─┴─┐        └───┘         »\n",
       "« q_4: ────┤ X ├────┤ Ry(θ[28]) ├──────■──────────┤ X ├──────────────────────»\n",
       "«      ┌───┴───┴───┐└───────────┘    ┌─┴─┐        └───┘                      »\n",
       "« q_5: ┤ Ry(θ[29]) ├──────■──────────┤ X ├───────────────────────────────────»\n",
       "«      └───────────┘    ┌─┴─┐        └───┘                                   »\n",
       "« q_6: ──────■──────────┤ X ├────────────────────────────────────────────────»\n",
       "«          ┌─┴─┐        └───┘                                                »\n",
       "« q_7: ────┤ X ├─────────────────────────────────────────────────────────────»\n",
       "«          └───┘                                                             »\n",
       "« q_8: ──────────────────────────────────────────────────────────────────────»\n",
       "«                                                                            »\n",
       "« q_9: ──────────────────────────────────────────────────────────────────────»\n",
       "«                                                                            »\n",
       "«q_10: ──────────────────────────────────────────────────────────────────────»\n",
       "«                                                                            »\n",
       "«q_11: ──────────────────────────────────────────────────────────────────────»\n",
       "«                                                                            »\n",
       "«           \n",
       "« q_0: ──■──\n",
       "«      ┌─┴─┐\n",
       "« q_1: ┤ X ├\n",
       "«      └───┘\n",
       "« q_2: ─────\n",
       "«           \n",
       "« q_3: ─────\n",
       "«           \n",
       "« q_4: ─────\n",
       "«           \n",
       "« q_5: ─────\n",
       "«           \n",
       "« q_6: ─────\n",
       "«           \n",
       "« q_7: ─────\n",
       "«           \n",
       "« q_8: ─────\n",
       "«           \n",
       "« q_9: ─────\n",
       "«           \n",
       "«q_10: ─────\n",
       "«           \n",
       "«q_11: ─────\n",
       "«           </pre>"
      ],
      "text/plain": [
       "       ┌──────────┐                                                         »\n",
       " q_0: ─┤ Ry(θ[0]) ├─────────────────────────────────────────────────────────»\n",
       "       ├──────────┤                                                         »\n",
       " q_1: ─┤ Ry(θ[1]) ├─────────────────────────────────────────────────────────»\n",
       "       ├──────────┤                                                         »\n",
       " q_2: ─┤ Ry(θ[2]) ├─────────────────────────────────────────────────────────»\n",
       "       ├──────────┤                                                         »\n",
       " q_3: ─┤ Ry(θ[3]) ├─────────────────────────────────────────────────────────»\n",
       "       ├──────────┤                                                         »\n",
       " q_4: ─┤ Ry(θ[4]) ├─────────────────────────────────────────────────────────»\n",
       "       ├──────────┤                                                         »\n",
       " q_5: ─┤ Ry(θ[5]) ├─────────────────────────────────────────────────────────»\n",
       "       ├──────────┤                                                         »\n",
       " q_6: ─┤ Ry(θ[6]) ├──────────────────────────────────────────────────■──────»\n",
       "       ├──────────┤                                                ┌─┴─┐    »\n",
       " q_7: ─┤ Ry(θ[7]) ├─────────────────────────────────────■──────────┤ X ├────»\n",
       "       ├──────────┤                                   ┌─┴─┐    ┌───┴───┴───┐»\n",
       " q_8: ─┤ Ry(θ[8]) ├────────────────────────■──────────┤ X ├────┤ Ry(θ[20]) ├»\n",
       "       ├──────────┤                      ┌─┴─┐    ┌───┴───┴───┐└───────────┘»\n",
       " q_9: ─┤ Ry(θ[9]) ├───────────■──────────┤ X ├────┤ Ry(θ[21]) ├──────■──────»\n",
       "      ┌┴──────────┤         ┌─┴─┐    ┌───┴───┴───┐└───────────┘    ┌─┴─┐    »\n",
       "q_10: ┤ Ry(θ[10]) ├──■──────┤ X ├────┤ Ry(θ[22]) ├──────■──────────┤ X ├────»\n",
       "      ├───────────┤┌─┴─┐┌───┴───┴───┐└───────────┘    ┌─┴─┐    ┌───┴───┴───┐»\n",
       "q_11: ┤ Ry(θ[11]) ├┤ X ├┤ Ry(θ[23]) ├─────────────────┤ X ├────┤ Ry(θ[35]) ├»\n",
       "      └───────────┘└───┘└───────────┘                 └───┘    └───────────┘»\n",
       "«                                                                       »\n",
       "« q_0: ─────────────────────────────────────────────────────────────────»\n",
       "«                                                                       »\n",
       "« q_1: ──────────────────────────────────────────────────────────■──────»\n",
       "«                                                              ┌─┴─┐    »\n",
       "« q_2: ─────────────────────────────────────────────■──────────┤ X ├────»\n",
       "«                                                 ┌─┴─┐    ┌───┴───┴───┐»\n",
       "« q_3: ────────────────────────────────■──────────┤ X ├────┤ Ry(θ[15]) ├»\n",
       "«                                    ┌─┴─┐    ┌───┴───┴───┐└───────────┘»\n",
       "« q_4: ───────────────────■──────────┤ X ├────┤ Ry(θ[16]) ├──────■──────»\n",
       "«                       ┌─┴─┐    ┌───┴───┴───┐└───────────┘    ┌─┴─┐    »\n",
       "« q_5: ──────■──────────┤ X ├────┤ Ry(θ[17]) ├──────■──────────┤ X ├────»\n",
       "«          ┌─┴─┐    ┌───┴───┴───┐└───────────┘    ┌─┴─┐    ┌───┴───┴───┐»\n",
       "« q_6: ────┤ X ├────┤ Ry(θ[18]) ├──────■──────────┤ X ├────┤ Ry(θ[30]) ├»\n",
       "«      ┌───┴───┴───┐└───────────┘    ┌─┴─┐    ┌───┴───┴───┐└───────────┘»\n",
       "« q_7: ┤ Ry(θ[19]) ├──────■──────────┤ X ├────┤ Ry(θ[31]) ├──────■──────»\n",
       "«      └───────────┘    ┌─┴─┐    ┌───┴───┴───┐└───────────┘    ┌─┴─┐    »\n",
       "« q_8: ──────■──────────┤ X ├────┤ Ry(θ[32]) ├──────■──────────┤ X ├────»\n",
       "«          ┌─┴─┐    ┌───┴───┴───┐└───────────┘    ┌─┴─┐        └───┘    »\n",
       "« q_9: ────┤ X ├────┤ Ry(θ[33]) ├──────■──────────┤ X ├─────────────────»\n",
       "«      ┌───┴───┴───┐└───────────┘    ┌─┴─┐        └───┘                 »\n",
       "«q_10: ┤ Ry(θ[34]) ├──────■──────────┤ X ├──────────────────────────────»\n",
       "«      └───────────┘    ┌─┴─┐        └───┘                              »\n",
       "«q_11: ─────────────────┤ X ├───────────────────────────────────────────»\n",
       "«                       └───┘                                           »\n",
       "«                   ┌───────────┐                          ┌───────────┐     »\n",
       "« q_0: ──────■──────┤ Ry(θ[12]) ├───────────────────■──────┤ Ry(θ[24]) ├─────»\n",
       "«          ┌─┴─┐    ├───────────┤                 ┌─┴─┐    ├───────────┤     »\n",
       "« q_1: ────┤ X ├────┤ Ry(θ[13]) ├──────■──────────┤ X ├────┤ Ry(θ[25]) ├──■──»\n",
       "«      ┌───┴───┴───┐└───────────┘    ┌─┴─┐    ┌───┴───┴───┐└───────────┘┌─┴─┐»\n",
       "« q_2: ┤ Ry(θ[14]) ├──────■──────────┤ X ├────┤ Ry(θ[26]) ├──────■──────┤ X ├»\n",
       "«      └───────────┘    ┌─┴─┐    ┌───┴───┴───┐└───────────┘    ┌─┴─┐    └───┘»\n",
       "« q_3: ──────■──────────┤ X ├────┤ Ry(θ[27]) ├──────■──────────┤ X ├─────────»\n",
       "«          ┌─┴─┐    ┌───┴───┴───┐└───────────┘    ┌─┴─┐        └───┘         »\n",
       "« q_4: ────┤ X ├────┤ Ry(θ[28]) ├──────■──────────┤ X ├──────────────────────»\n",
       "«      ┌───┴───┴───┐└───────────┘    ┌─┴─┐        └───┘                      »\n",
       "« q_5: ┤ Ry(θ[29]) ├──────■──────────┤ X ├───────────────────────────────────»\n",
       "«      └───────────┘    ┌─┴─┐        └───┘                                   »\n",
       "« q_6: ──────■──────────┤ X ├────────────────────────────────────────────────»\n",
       "«          ┌─┴─┐        └───┘                                                »\n",
       "« q_7: ────┤ X ├─────────────────────────────────────────────────────────────»\n",
       "«          └───┘                                                             »\n",
       "« q_8: ──────────────────────────────────────────────────────────────────────»\n",
       "«                                                                            »\n",
       "« q_9: ──────────────────────────────────────────────────────────────────────»\n",
       "«                                                                            »\n",
       "«q_10: ──────────────────────────────────────────────────────────────────────»\n",
       "«                                                                            »\n",
       "«q_11: ──────────────────────────────────────────────────────────────────────»\n",
       "«                                                                            »\n",
       "«           \n",
       "« q_0: ──■──\n",
       "«      ┌─┴─┐\n",
       "« q_1: ┤ X ├\n",
       "«      └───┘\n",
       "« q_2: ─────\n",
       "«           \n",
       "« q_3: ─────\n",
       "«           \n",
       "« q_4: ─────\n",
       "«           \n",
       "« q_5: ─────\n",
       "«           \n",
       "« q_6: ─────\n",
       "«           \n",
       "« q_7: ─────\n",
       "«           \n",
       "« q_8: ─────\n",
       "«           \n",
       "« q_9: ─────\n",
       "«           \n",
       "«q_10: ─────\n",
       "«           \n",
       "«q_11: ─────\n",
       "«           "
      ]
     },
     "execution_count": 53,
     "metadata": {},
     "output_type": "execute_result"
    }
   ],
   "source": [
    "ansatz_ra = RealAmplitudes(12, entanglement='reverse_linear', reps=3, skip_final_rotation_layer = True).decompose()\n",
    "ansatz_ra.draw()"
   ]
  },
  {
   "cell_type": "markdown",
   "id": "bc27992c-3d55-47d1-a767-208bbf0334fe",
   "metadata": {},
   "source": [
    "### Match qubit layout\n",
    "The ansatz is currently defined over 12 qubits, but it will be executed on guadalupe which has 16 qubits. To make the ansatz compatible with guadalupe and the inflated Hamiltonian, we can specify the qubit layout on the real device using the transpiler (shown below). We exclude the four qubits with fewest neighbors."
   ]
  },
  {
   "cell_type": "code",
   "execution_count": 54,
   "id": "66c92338-eaaa-49ca-b369-baa0130583f1",
   "metadata": {},
   "outputs": [
    {
     "name": "stdout",
     "output_type": "stream",
     "text": [
      "number and type of gates in the cirucit: OrderedDict([('sx', 72), ('rz', 72), ('cx', 33)])\n",
      "number of parameters in the circuit: 36\n"
     ]
    },
    {
     "data": {
      "text/html": [
       "<pre style=\"word-wrap: normal;white-space: pre;background: #fff0;line-height: 1.1;font-family: &quot;Courier New&quot;,Courier,monospace\">                                                                                                                                                                                            »\n",
       " ancilla_0 -> 0 ────────────────────────────────────────────────────────────────────────────────────────────────────────────────────────────────────────────────────────────────────────────»\n",
       "                ┌────┐ ┌──────────────┐┌────┐┌────────┐                                                                                                                                     »\n",
       "       q_0 -> 1 ┤ √X ├─┤ Rz(θ[0] + π) ├┤ √X ├┤ Rz(3π) ├─────────────────────────────────────────────────────────────────────────────────────────────────────────────────────────────────────»\n",
       "                ├────┤ ├──────────────┤├────┤├────────┤                                                                                                                                     »\n",
       "       q_1 -> 2 ┤ √X ├─┤ Rz(θ[1] + π) ├┤ √X ├┤ Rz(3π) ├─────────────────────────────────────────────────────────────────────────────────────────────────────────────────────────────────────»\n",
       "                ├────┤ ├──────────────┤├────┤├────────┤                                                                                                                                     »\n",
       "       q_2 -> 3 ┤ √X ├─┤ Rz(θ[2] + π) ├┤ √X ├┤ Rz(3π) ├─────────────────────────────────────────────────────────────────────────────────────────────────────────────────────────────────────»\n",
       "                ├────┤┌┴──────────────┤├────┤├────────┤┌───┐┌────┐┌───────────────┐      ┌────┐         ┌────────┐                      ┌───┐         ┌────┐     ┌───────────────┐  ┌────┐  »\n",
       "      q_11 -> 4 ┤ √X ├┤ Rz(θ[11] + π) ├┤ √X ├┤ Rz(3π) ├┤ X ├┤ √X ├┤ Rz(θ[23] + π) ├──────┤ √X ├─────────┤ Rz(3π) ├──────────────────────┤ X ├─────────┤ √X ├─────┤ Rz(θ[35] + π) ├──┤ √X ├──»\n",
       "                ├────┤└┬──────────────┤├────┤├────────┤└─┬─┘└────┘└───────────────┘      └────┘         └────────┘                      └─┬─┘         └────┘     └───────────────┘  └────┘  »\n",
       "       q_3 -> 5 ┤ √X ├─┤ Rz(θ[3] + π) ├┤ √X ├┤ Rz(3π) ├──┼────────────────────────────────────────────────────────────────────────────────┼───────────────────────────────────────────■─────»\n",
       "                └────┘ └──────────────┘└────┘└────────┘  │                                                                                │                                           │     »\n",
       " ancilla_1 -> 6 ─────────────────────────────────────────┼────────────────────────────────────────────────────────────────────────────────┼───────────────────────────────────────────┼─────»\n",
       "                ┌────┐┌───────────────┐┌────┐┌────────┐  │  ┌───┐       ┌────┐     ┌───────────────┐      ┌────┐         ┌────────┐       │                            ┌───┐          │     »\n",
       "      q_10 -> 7 ┤ √X ├┤ Rz(θ[10] + π) ├┤ √X ├┤ Rz(3π) ├──■──┤ X ├───────┤ √X ├─────┤ Rz(θ[22] + π) ├──────┤ √X ├─────────┤ Rz(3π) ├───────■────────────────────────────┤ X ├──────────┼─────»\n",
       "                ├────┤└┬──────────────┤├────┤├────────┤     └─┬─┘       └────┘     └───────────────┘      └────┘         └────────┘                                    └─┬─┘        ┌─┴─┐   »\n",
       "       q_4 -> 8 ┤ √X ├─┤ Rz(θ[4] + π) ├┤ √X ├┤ Rz(3π) ├───────┼─────────────────────────────────────────────────────────────────────────────────────────■────────────────┼──────────┤ X ├───»\n",
       "                └────┘ └──────────────┘└────┘└────────┘       │                                                                                         │                │          └───┘   »\n",
       " ancilla_2 -> 9 ──────────────────────────────────────────────┼─────────────────────────────────────────────────────────────────────────────────────────┼────────────────┼──────────────────»\n",
       "                ┌────┐ ┌──────────────┐┌────┐┌────────┐       │         ┌───┐            ┌────┐     ┌───────────────┐      ┌────┐     ┌────────┐        │                │          ┌───┐   »\n",
       "      q_9 -> 10 ┤ √X ├─┤ Rz(θ[9] + π) ├┤ √X ├┤ Rz(3π) ├───────■─────────┤ X ├────────────┤ √X ├─────┤ Rz(θ[21] + π) ├──────┤ √X ├─────┤ Rz(3π) ├────────┼────────────────■──────────┤ X ├───»\n",
       "                ├────┤ ├──────────────┤├────┤├────────┤                 └─┬─┘            └────┘     └───────────────┘      └────┘     └────────┘      ┌─┴─┐            ┌────┐       └─┬─┘   »\n",
       "      q_5 -> 11 ┤ √X ├─┤ Rz(θ[5] + π) ├┤ √X ├┤ Rz(3π) ├───────────────────┼───────────────────────────────────────────────────────────────■───────────┤ X ├────────────┤ √X ├─────────┼─────»\n",
       "                ├────┤ ├──────────────┤├────┤├────────┤                   │              ┌───┐            ┌────┐     ┌───────────────┐    │           ├───┴┐         ┌─┴────┴─┐       │     »\n",
       "      q_8 -> 12 ┤ √X ├─┤ Rz(θ[8] + π) ├┤ √X ├┤ Rz(3π) ├───────────────────■──────────────┤ X ├────────────┤ √X ├─────┤ Rz(θ[20] + π) ├────┼───────────┤ √X ├─────────┤ Rz(3π) ├───────■─────»\n",
       "                ├────┤ ├──────────────┤├────┤├────────┤                                  └─┬─┘            ├───┬┘     └─────┬────┬────┘    │     ┌─────┴────┴────┐    └─┬────┬─┘   ┌────────┐»\n",
       "      q_7 -> 13 ┤ √X ├─┤ Rz(θ[7] + π) ├┤ √X ├┤ Rz(3π) ├────────────────────────────────────■──────────────┤ X ├────────────┤ √X ├─────────┼─────┤ Rz(θ[19] + π) ├──────┤ √X ├─────┤ Rz(3π) ├»\n",
       "                ├────┤ ├──────────────┤├────┤├────────┤                                                   └─┬─┘            └────┘       ┌─┴─┐   └─────┬────┬────┘┌─────┴────┴────┐└─┬────┬─┘»\n",
       "      q_6 -> 14 ┤ √X ├─┤ Rz(θ[6] + π) ├┤ √X ├┤ Rz(3π) ├─────────────────────────────────────────────────────■───────────────────────────┤ X ├─────────┤ √X ├─────┤ Rz(θ[18] + π) ├──┤ √X ├──»\n",
       "                └────┘ └──────────────┘└────┘└────────┘                                                                                 └───┘         └────┘     └───────────────┘  └────┘  »\n",
       "ancilla_3 -> 15 ────────────────────────────────────────────────────────────────────────────────────────────────────────────────────────────────────────────────────────────────────────────»\n",
       "                                                                                                                                                                                            »\n",
       "«                                                                                                                                                                                                    »\n",
       "« ancilla_0 -> 0 ────────────────────────────────────────────────────────────────────────────────────────────────────────────────────────────────────────────────────────────────────────────────────»\n",
       "«                                                                         ┌────┐     ┌───────────────┐      ┌────┐     ┌────────┐                                                         ┌────┐     »\n",
       "«       q_0 -> 1 ──────────────────────────────────────────■──────────────┤ √X ├─────┤ Rz(θ[12] + π) ├──────┤ √X ├─────┤ Rz(3π) ├──────────────────────────────────────────■──────────────┤ √X ├─────»\n",
       "«                                                        ┌─┴─┐            ├────┤     ├───────────────┤      ├────┤     ├────────┤                                        ┌─┴─┐            ├────┤     »\n",
       "«       q_1 -> 2 ─────────────────────────■──────────────┤ X ├────────────┤ √X ├─────┤ Rz(θ[13] + π) ├──────┤ √X ├─────┤ Rz(3π) ├─────────────────────────■──────────────┤ X ├────────────┤ √X ├─────»\n",
       "«                                       ┌─┴─┐            ├───┴┐     ┌─────┴────┴────┐└─────┬────┬────┘    ┌─┴────┴─┐   └────────┘                       ┌─┴─┐            ├───┴┐     ┌─────┴────┴────┐»\n",
       "«       q_2 -> 3 ────────■──────────────┤ X ├────────────┤ √X ├─────┤ Rz(θ[14] + π) ├──────┤ √X ├─────────┤ Rz(3π) ├─────────────────────■──────────────┤ X ├────────────┤ √X ├─────┤ Rz(θ[26] + π) ├»\n",
       "«                        │            ┌─┴───┴──┐         └────┘     └───────────────┘      ├───┬┘         └────────┘                     │              └───┘            └────┘     └───────────────┘»\n",
       "«      q_11 -> 4 ────────┼────────────┤ Rz(3π) ├───────────────────────────────────────────┤ X ├─────────────────────────────────────────┼───────────────────────────────────────────────────────────»\n",
       "«                      ┌─┴─┐          └─┬────┬─┘   ┌───────────────┐      ┌────┐           └─┬─┘          ┌────────┐                   ┌─┴─┐            ┌────┐     ┌───────────────┐      ┌────┐     »\n",
       "«       q_3 -> 5 ──────┤ X ├────────────┤ √X ├─────┤ Rz(θ[15] + π) ├──────┤ √X ├─────────────┼────────────┤ Rz(3π) ├───────■───────────┤ X ├────────────┤ √X ├─────┤ Rz(θ[27] + π) ├──────┤ √X ├─────»\n",
       "«                      └───┘            └────┘     └───────────────┘      └────┘             │            └────────┘       │           └───┘            └────┘     └───────────────┘      └────┘     »\n",
       "« ancilla_1 -> 6 ────────────────────────────────────────────────────────────────────────────┼─────────────────────────────┼─────────────────────────────────────────────────────────────────────────»\n",
       "«                      ┌────┐     ┌───────────────┐      ┌────┐         ┌────────┐           │              ┌───┐          │                                                                         »\n",
       "«      q_10 -> 7 ──────┤ √X ├─────┤ Rz(θ[34] + π) ├──────┤ √X ├─────────┤ Rz(3π) ├───────────■──────────────┤ X ├──────────┼─────────────────────────────────────────────────────────────────────────»\n",
       "«                      ├────┤     ├───────────────┤      ├────┤         ├────────┤                          └─┬─┘        ┌─┴─┐         ┌────┐     ┌───────────────┐      ┌────┐         ┌────────┐   »\n",
       "«       q_4 -> 8 ──────┤ √X ├─────┤ Rz(θ[16] + π) ├──────┤ √X ├─────────┤ Rz(3π) ├───────────■────────────────┼──────────┤ X ├─────────┤ √X ├─────┤ Rz(θ[28] + π) ├──────┤ √X ├─────────┤ Rz(3π) ├───»\n",
       "«                      └────┘     └───────────────┘      └────┘         └────────┘           │                │          └───┘         └────┘     └───────────────┘      └────┘         └────────┘   »\n",
       "« ancilla_2 -> 9 ────────────────────────────────────────────────────────────────────────────┼────────────────┼──────────────────────────────────────────────────────────────────────────────────────»\n",
       "«                      ┌────┐     ┌───────────────┐      ┌────┐         ┌────────┐           │                │          ┌───┐                                                                       »\n",
       "«      q_9 -> 10 ──────┤ √X ├─────┤ Rz(θ[33] + π) ├──────┤ √X ├─────────┤ Rz(3π) ├───────────┼────────────────■──────────┤ X ├───────────────────────────────────────────────────────────────────────»\n",
       "«                ┌─────┴────┴────┐└─────┬────┬────┘    ┌─┴────┴─┐       └────────┘         ┌─┴─┐            ┌────┐       └─┬─┘   ┌───────────────┐      ┌────┐         ┌────────┐                    »\n",
       "«      q_5 -> 11 ┤ Rz(θ[17] + π) ├──────┤ √X ├─────────┤ Rz(3π) ├───────────■──────────────┤ X ├────────────┤ √X ├─────────┼─────┤ Rz(θ[29] + π) ├──────┤ √X ├─────────┤ Rz(3π) ├───────────■────────»\n",
       "«                └─────┬───┬─────┘      ├────┤     ┌───┴────────┴──┐        │              ├───┴┐         ┌─┴────┴─┐       │     └─────┬───┬─────┘      └────┘         └────────┘           │        »\n",
       "«      q_8 -> 12 ──────┤ X ├────────────┤ √X ├─────┤ Rz(θ[32] + π) ├────────┼──────────────┤ √X ├─────────┤ Rz(3π) ├───────■───────────┤ X ├────────────────────────────────────────────────┼────────»\n",
       "«                      └─┬─┘            ├───┬┘     └─────┬────┬────┘        │        ┌─────┴────┴────┐    └─┬────┬─┘   ┌────────┐      └─┬─┘            ┌───┐                               │        »\n",
       "«      q_7 -> 13 ────────■──────────────┤ X ├────────────┤ √X ├─────────────┼────────┤ Rz(θ[31] + π) ├──────┤ √X ├─────┤ Rz(3π) ├────────■──────────────┤ X ├───────────────────────────────┼────────»\n",
       "«                    ┌────────┐         └─┬─┘            └────┘           ┌─┴─┐      └─────┬────┬────┘┌─────┴────┴────┐└─┬────┬─┘    ┌────────┐         └─┬─┘                             ┌─┴─┐      »\n",
       "«      q_6 -> 14 ────┤ Rz(3π) ├───────────■───────────────────────────────┤ X ├────────────┤ √X ├─────┤ Rz(θ[30] + π) ├──┤ √X ├──────┤ Rz(3π) ├───────────■───────────────────────────────┤ X ├──────»\n",
       "«                    └────────┘                                           └───┘            └────┘     └───────────────┘  └────┘      └────────┘                                           └───┘      »\n",
       "«ancilla_3 -> 15 ────────────────────────────────────────────────────────────────────────────────────────────────────────────────────────────────────────────────────────────────────────────────────»\n",
       "«                                                                                                                                                                                                    »\n",
       "«                                                               \n",
       "« ancilla_0 -> 0 ───────────────────────────────────────────────\n",
       "«                ┌───────────────┐  ┌────┐  ┌────────┐          \n",
       "«       q_0 -> 1 ┤ Rz(θ[24] + π) ├──┤ √X ├──┤ Rz(3π) ├───────■──\n",
       "«                ├───────────────┤  ├────┤  ├────────┤     ┌─┴─┐\n",
       "«       q_1 -> 2 ┤ Rz(θ[25] + π) ├──┤ √X ├──┤ Rz(3π) ├──■──┤ X ├\n",
       "«                └─────┬────┬────┘┌─┴────┴─┐└────────┘┌─┴─┐└───┘\n",
       "«       q_2 -> 3 ──────┤ √X ├─────┤ Rz(3π) ├────■─────┤ X ├─────\n",
       "«                      └────┘     └────────┘    │     └───┘     \n",
       "«      q_11 -> 4 ───────────────────────────────┼───────────────\n",
       "«                    ┌────────┐               ┌─┴─┐             \n",
       "«       q_3 -> 5 ────┤ Rz(3π) ├───────■───────┤ X ├─────────────\n",
       "«                    └────────┘       │       └───┘             \n",
       "« ancilla_1 -> 6 ─────────────────────┼─────────────────────────\n",
       "«                                     │                         \n",
       "«      q_10 -> 7 ─────────────────────┼─────────────────────────\n",
       "«                                   ┌─┴─┐                       \n",
       "«       q_4 -> 8 ────────■──────────┤ X ├───────────────────────\n",
       "«                        │          └───┘                       \n",
       "« ancilla_2 -> 9 ────────┼──────────────────────────────────────\n",
       "«                        │                                      \n",
       "«      q_9 -> 10 ────────┼──────────────────────────────────────\n",
       "«                      ┌─┴─┐                                    \n",
       "«      q_5 -> 11 ──────┤ X ├────────────────────────────────────\n",
       "«                      └───┘                                    \n",
       "«      q_8 -> 12 ───────────────────────────────────────────────\n",
       "«                                                               \n",
       "«      q_7 -> 13 ───────────────────────────────────────────────\n",
       "«                                                               \n",
       "«      q_6 -> 14 ───────────────────────────────────────────────\n",
       "«                                                               \n",
       "«ancilla_3 -> 15 ───────────────────────────────────────────────\n",
       "«                                                               </pre>"
      ],
      "text/plain": [
       "                                                                                                                                                                                            »\n",
       " ancilla_0 -> 0 ────────────────────────────────────────────────────────────────────────────────────────────────────────────────────────────────────────────────────────────────────────────»\n",
       "                ┌────┐ ┌──────────────┐┌────┐┌────────┐                                                                                                                                     »\n",
       "       q_0 -> 1 ┤ √X ├─┤ Rz(θ[0] + π) ├┤ √X ├┤ Rz(3π) ├─────────────────────────────────────────────────────────────────────────────────────────────────────────────────────────────────────»\n",
       "                ├────┤ ├──────────────┤├────┤├────────┤                                                                                                                                     »\n",
       "       q_1 -> 2 ┤ √X ├─┤ Rz(θ[1] + π) ├┤ √X ├┤ Rz(3π) ├─────────────────────────────────────────────────────────────────────────────────────────────────────────────────────────────────────»\n",
       "                ├────┤ ├──────────────┤├────┤├────────┤                                                                                                                                     »\n",
       "       q_2 -> 3 ┤ √X ├─┤ Rz(θ[2] + π) ├┤ √X ├┤ Rz(3π) ├─────────────────────────────────────────────────────────────────────────────────────────────────────────────────────────────────────»\n",
       "                ├────┤┌┴──────────────┤├────┤├────────┤┌───┐┌────┐┌───────────────┐      ┌────┐         ┌────────┐                      ┌───┐         ┌────┐     ┌───────────────┐  ┌────┐  »\n",
       "      q_11 -> 4 ┤ √X ├┤ Rz(θ[11] + π) ├┤ √X ├┤ Rz(3π) ├┤ X ├┤ √X ├┤ Rz(θ[23] + π) ├──────┤ √X ├─────────┤ Rz(3π) ├──────────────────────┤ X ├─────────┤ √X ├─────┤ Rz(θ[35] + π) ├──┤ √X ├──»\n",
       "                ├────┤└┬──────────────┤├────┤├────────┤└─┬─┘└────┘└───────────────┘      └────┘         └────────┘                      └─┬─┘         └────┘     └───────────────┘  └────┘  »\n",
       "       q_3 -> 5 ┤ √X ├─┤ Rz(θ[3] + π) ├┤ √X ├┤ Rz(3π) ├──┼────────────────────────────────────────────────────────────────────────────────┼───────────────────────────────────────────■─────»\n",
       "                └────┘ └──────────────┘└────┘└────────┘  │                                                                                │                                           │     »\n",
       " ancilla_1 -> 6 ─────────────────────────────────────────┼────────────────────────────────────────────────────────────────────────────────┼───────────────────────────────────────────┼─────»\n",
       "                ┌────┐┌───────────────┐┌────┐┌────────┐  │  ┌───┐       ┌────┐     ┌───────────────┐      ┌────┐         ┌────────┐       │                            ┌───┐          │     »\n",
       "      q_10 -> 7 ┤ √X ├┤ Rz(θ[10] + π) ├┤ √X ├┤ Rz(3π) ├──■──┤ X ├───────┤ √X ├─────┤ Rz(θ[22] + π) ├──────┤ √X ├─────────┤ Rz(3π) ├───────■────────────────────────────┤ X ├──────────┼─────»\n",
       "                ├────┤└┬──────────────┤├────┤├────────┤     └─┬─┘       └────┘     └───────────────┘      └────┘         └────────┘                                    └─┬─┘        ┌─┴─┐   »\n",
       "       q_4 -> 8 ┤ √X ├─┤ Rz(θ[4] + π) ├┤ √X ├┤ Rz(3π) ├───────┼─────────────────────────────────────────────────────────────────────────────────────────■────────────────┼──────────┤ X ├───»\n",
       "                └────┘ └──────────────┘└────┘└────────┘       │                                                                                         │                │          └───┘   »\n",
       " ancilla_2 -> 9 ──────────────────────────────────────────────┼─────────────────────────────────────────────────────────────────────────────────────────┼────────────────┼──────────────────»\n",
       "                ┌────┐ ┌──────────────┐┌────┐┌────────┐       │         ┌───┐            ┌────┐     ┌───────────────┐      ┌────┐     ┌────────┐        │                │          ┌───┐   »\n",
       "      q_9 -> 10 ┤ √X ├─┤ Rz(θ[9] + π) ├┤ √X ├┤ Rz(3π) ├───────■─────────┤ X ├────────────┤ √X ├─────┤ Rz(θ[21] + π) ├──────┤ √X ├─────┤ Rz(3π) ├────────┼────────────────■──────────┤ X ├───»\n",
       "                ├────┤ ├──────────────┤├────┤├────────┤                 └─┬─┘            └────┘     └───────────────┘      └────┘     └────────┘      ┌─┴─┐            ┌────┐       └─┬─┘   »\n",
       "      q_5 -> 11 ┤ √X ├─┤ Rz(θ[5] + π) ├┤ √X ├┤ Rz(3π) ├───────────────────┼───────────────────────────────────────────────────────────────■───────────┤ X ├────────────┤ √X ├─────────┼─────»\n",
       "                ├────┤ ├──────────────┤├────┤├────────┤                   │              ┌───┐            ┌────┐     ┌───────────────┐    │           ├───┴┐         ┌─┴────┴─┐       │     »\n",
       "      q_8 -> 12 ┤ √X ├─┤ Rz(θ[8] + π) ├┤ √X ├┤ Rz(3π) ├───────────────────■──────────────┤ X ├────────────┤ √X ├─────┤ Rz(θ[20] + π) ├────┼───────────┤ √X ├─────────┤ Rz(3π) ├───────■─────»\n",
       "                ├────┤ ├──────────────┤├────┤├────────┤                                  └─┬─┘            ├───┬┘     └─────┬────┬────┘    │     ┌─────┴────┴────┐    └─┬────┬─┘   ┌────────┐»\n",
       "      q_7 -> 13 ┤ √X ├─┤ Rz(θ[7] + π) ├┤ √X ├┤ Rz(3π) ├────────────────────────────────────■──────────────┤ X ├────────────┤ √X ├─────────┼─────┤ Rz(θ[19] + π) ├──────┤ √X ├─────┤ Rz(3π) ├»\n",
       "                ├────┤ ├──────────────┤├────┤├────────┤                                                   └─┬─┘            └────┘       ┌─┴─┐   └─────┬────┬────┘┌─────┴────┴────┐└─┬────┬─┘»\n",
       "      q_6 -> 14 ┤ √X ├─┤ Rz(θ[6] + π) ├┤ √X ├┤ Rz(3π) ├─────────────────────────────────────────────────────■───────────────────────────┤ X ├─────────┤ √X ├─────┤ Rz(θ[18] + π) ├──┤ √X ├──»\n",
       "                └────┘ └──────────────┘└────┘└────────┘                                                                                 └───┘         └────┘     └───────────────┘  └────┘  »\n",
       "ancilla_3 -> 15 ────────────────────────────────────────────────────────────────────────────────────────────────────────────────────────────────────────────────────────────────────────────»\n",
       "                                                                                                                                                                                            »\n",
       "«                                                                                                                                                                                                    »\n",
       "« ancilla_0 -> 0 ────────────────────────────────────────────────────────────────────────────────────────────────────────────────────────────────────────────────────────────────────────────────────»\n",
       "«                                                                         ┌────┐     ┌───────────────┐      ┌────┐     ┌────────┐                                                         ┌────┐     »\n",
       "«       q_0 -> 1 ──────────────────────────────────────────■──────────────┤ √X ├─────┤ Rz(θ[12] + π) ├──────┤ √X ├─────┤ Rz(3π) ├──────────────────────────────────────────■──────────────┤ √X ├─────»\n",
       "«                                                        ┌─┴─┐            ├────┤     ├───────────────┤      ├────┤     ├────────┤                                        ┌─┴─┐            ├────┤     »\n",
       "«       q_1 -> 2 ─────────────────────────■──────────────┤ X ├────────────┤ √X ├─────┤ Rz(θ[13] + π) ├──────┤ √X ├─────┤ Rz(3π) ├─────────────────────────■──────────────┤ X ├────────────┤ √X ├─────»\n",
       "«                                       ┌─┴─┐            ├───┴┐     ┌─────┴────┴────┐└─────┬────┬────┘    ┌─┴────┴─┐   └────────┘                       ┌─┴─┐            ├───┴┐     ┌─────┴────┴────┐»\n",
       "«       q_2 -> 3 ────────■──────────────┤ X ├────────────┤ √X ├─────┤ Rz(θ[14] + π) ├──────┤ √X ├─────────┤ Rz(3π) ├─────────────────────■──────────────┤ X ├────────────┤ √X ├─────┤ Rz(θ[26] + π) ├»\n",
       "«                        │            ┌─┴───┴──┐         └────┘     └───────────────┘      ├───┬┘         └────────┘                     │              └───┘            └────┘     └───────────────┘»\n",
       "«      q_11 -> 4 ────────┼────────────┤ Rz(3π) ├───────────────────────────────────────────┤ X ├─────────────────────────────────────────┼───────────────────────────────────────────────────────────»\n",
       "«                      ┌─┴─┐          └─┬────┬─┘   ┌───────────────┐      ┌────┐           └─┬─┘          ┌────────┐                   ┌─┴─┐            ┌────┐     ┌───────────────┐      ┌────┐     »\n",
       "«       q_3 -> 5 ──────┤ X ├────────────┤ √X ├─────┤ Rz(θ[15] + π) ├──────┤ √X ├─────────────┼────────────┤ Rz(3π) ├───────■───────────┤ X ├────────────┤ √X ├─────┤ Rz(θ[27] + π) ├──────┤ √X ├─────»\n",
       "«                      └───┘            └────┘     └───────────────┘      └────┘             │            └────────┘       │           └───┘            └────┘     └───────────────┘      └────┘     »\n",
       "« ancilla_1 -> 6 ────────────────────────────────────────────────────────────────────────────┼─────────────────────────────┼─────────────────────────────────────────────────────────────────────────»\n",
       "«                      ┌────┐     ┌───────────────┐      ┌────┐         ┌────────┐           │              ┌───┐          │                                                                         »\n",
       "«      q_10 -> 7 ──────┤ √X ├─────┤ Rz(θ[34] + π) ├──────┤ √X ├─────────┤ Rz(3π) ├───────────■──────────────┤ X ├──────────┼─────────────────────────────────────────────────────────────────────────»\n",
       "«                      ├────┤     ├───────────────┤      ├────┤         ├────────┤                          └─┬─┘        ┌─┴─┐         ┌────┐     ┌───────────────┐      ┌────┐         ┌────────┐   »\n",
       "«       q_4 -> 8 ──────┤ √X ├─────┤ Rz(θ[16] + π) ├──────┤ √X ├─────────┤ Rz(3π) ├───────────■────────────────┼──────────┤ X ├─────────┤ √X ├─────┤ Rz(θ[28] + π) ├──────┤ √X ├─────────┤ Rz(3π) ├───»\n",
       "«                      └────┘     └───────────────┘      └────┘         └────────┘           │                │          └───┘         └────┘     └───────────────┘      └────┘         └────────┘   »\n",
       "« ancilla_2 -> 9 ────────────────────────────────────────────────────────────────────────────┼────────────────┼──────────────────────────────────────────────────────────────────────────────────────»\n",
       "«                      ┌────┐     ┌───────────────┐      ┌────┐         ┌────────┐           │                │          ┌───┐                                                                       »\n",
       "«      q_9 -> 10 ──────┤ √X ├─────┤ Rz(θ[33] + π) ├──────┤ √X ├─────────┤ Rz(3π) ├───────────┼────────────────■──────────┤ X ├───────────────────────────────────────────────────────────────────────»\n",
       "«                ┌─────┴────┴────┐└─────┬────┬────┘    ┌─┴────┴─┐       └────────┘         ┌─┴─┐            ┌────┐       └─┬─┘   ┌───────────────┐      ┌────┐         ┌────────┐                    »\n",
       "«      q_5 -> 11 ┤ Rz(θ[17] + π) ├──────┤ √X ├─────────┤ Rz(3π) ├───────────■──────────────┤ X ├────────────┤ √X ├─────────┼─────┤ Rz(θ[29] + π) ├──────┤ √X ├─────────┤ Rz(3π) ├───────────■────────»\n",
       "«                └─────┬───┬─────┘      ├────┤     ┌───┴────────┴──┐        │              ├───┴┐         ┌─┴────┴─┐       │     └─────┬───┬─────┘      └────┘         └────────┘           │        »\n",
       "«      q_8 -> 12 ──────┤ X ├────────────┤ √X ├─────┤ Rz(θ[32] + π) ├────────┼──────────────┤ √X ├─────────┤ Rz(3π) ├───────■───────────┤ X ├────────────────────────────────────────────────┼────────»\n",
       "«                      └─┬─┘            ├───┬┘     └─────┬────┬────┘        │        ┌─────┴────┴────┐    └─┬────┬─┘   ┌────────┐      └─┬─┘            ┌───┐                               │        »\n",
       "«      q_7 -> 13 ────────■──────────────┤ X ├────────────┤ √X ├─────────────┼────────┤ Rz(θ[31] + π) ├──────┤ √X ├─────┤ Rz(3π) ├────────■──────────────┤ X ├───────────────────────────────┼────────»\n",
       "«                    ┌────────┐         └─┬─┘            └────┘           ┌─┴─┐      └─────┬────┬────┘┌─────┴────┴────┐└─┬────┬─┘    ┌────────┐         └─┬─┘                             ┌─┴─┐      »\n",
       "«      q_6 -> 14 ────┤ Rz(3π) ├───────────■───────────────────────────────┤ X ├────────────┤ √X ├─────┤ Rz(θ[30] + π) ├──┤ √X ├──────┤ Rz(3π) ├───────────■───────────────────────────────┤ X ├──────»\n",
       "«                    └────────┘                                           └───┘            └────┘     └───────────────┘  └────┘      └────────┘                                           └───┘      »\n",
       "«ancilla_3 -> 15 ────────────────────────────────────────────────────────────────────────────────────────────────────────────────────────────────────────────────────────────────────────────────────»\n",
       "«                                                                                                                                                                                                    »\n",
       "«                                                               \n",
       "« ancilla_0 -> 0 ───────────────────────────────────────────────\n",
       "«                ┌───────────────┐  ┌────┐  ┌────────┐          \n",
       "«       q_0 -> 1 ┤ Rz(θ[24] + π) ├──┤ √X ├──┤ Rz(3π) ├───────■──\n",
       "«                ├───────────────┤  ├────┤  ├────────┤     ┌─┴─┐\n",
       "«       q_1 -> 2 ┤ Rz(θ[25] + π) ├──┤ √X ├──┤ Rz(3π) ├──■──┤ X ├\n",
       "«                └─────┬────┬────┘┌─┴────┴─┐└────────┘┌─┴─┐└───┘\n",
       "«       q_2 -> 3 ──────┤ √X ├─────┤ Rz(3π) ├────■─────┤ X ├─────\n",
       "«                      └────┘     └────────┘    │     └───┘     \n",
       "«      q_11 -> 4 ───────────────────────────────┼───────────────\n",
       "«                    ┌────────┐               ┌─┴─┐             \n",
       "«       q_3 -> 5 ────┤ Rz(3π) ├───────■───────┤ X ├─────────────\n",
       "«                    └────────┘       │       └───┘             \n",
       "« ancilla_1 -> 6 ─────────────────────┼─────────────────────────\n",
       "«                                     │                         \n",
       "«      q_10 -> 7 ─────────────────────┼─────────────────────────\n",
       "«                                   ┌─┴─┐                       \n",
       "«       q_4 -> 8 ────────■──────────┤ X ├───────────────────────\n",
       "«                        │          └───┘                       \n",
       "« ancilla_2 -> 9 ────────┼──────────────────────────────────────\n",
       "«                        │                                      \n",
       "«      q_9 -> 10 ────────┼──────────────────────────────────────\n",
       "«                      ┌─┴─┐                                    \n",
       "«      q_5 -> 11 ──────┤ X ├────────────────────────────────────\n",
       "«                      └───┘                                    \n",
       "«      q_8 -> 12 ───────────────────────────────────────────────\n",
       "«                                                               \n",
       "«      q_7 -> 13 ───────────────────────────────────────────────\n",
       "«                                                               \n",
       "«      q_6 -> 14 ───────────────────────────────────────────────\n",
       "«                                                               \n",
       "«ancilla_3 -> 15 ───────────────────────────────────────────────\n",
       "«                                                               "
      ]
     },
     "execution_count": 54,
     "metadata": {},
     "output_type": "execute_result"
    }
   ],
   "source": [
    "# Force anstaz to be applied to qubits in the heavy hex.\n",
    "# Avoid the outer qubits 0, 6, 9, and 15 which we accounted for in the lattice definition.\n",
    "q_layout = [1, 2, 3, 5, 8, 11, 14, 13, 12, 10, 7, 4]\n",
    "ansatz_opt = transpile(ansatz_ra, backend=noisy_sim, initial_layout=q_layout)\n",
    "\n",
    "print('number and type of gates in the cirucit:', ansatz_opt.count_ops())\n",
    "print('number of parameters in the circuit:', ansatz_opt.num_parameters)\n",
    "ansatz_opt.draw(fold=200)"
   ]
  },
  {
   "cell_type": "markdown",
   "id": "5409199f-031b-4b4d-bba5-ac30b97cae60",
   "metadata": {},
   "source": [
    "## 2-4 Choose a classical optimizer\n",
    "Select a [classical optimizer](https://qiskit.org/documentation/stubs/qiskit.algorithms.optimizers.html#local-optimizers). The classical optimizer will encounter errored and stochastic results from the quantum computer due to gate errors, measurement errors, and other noise sources as well as finite sampling affects [8]. Choose a classical optimizer that pairs well with your approach to VQE. Along with choosing a classical optimizer, picking an initial set of parameters plays a significant role in VQE. In this example, a random set of values is picked (shown in the `CustomVQE` class section 2-5).\n",
    "\n",
    "\\[8\\] \"Using models to improve optimizers for variational quantum algorithms\" K. Sung, et al. [arXiv:2005.11011v2](https://arxiv.org/abs/2005.11011v2) [quant-ph] (2020)"
   ]
  },
  {
   "cell_type": "code",
   "execution_count": 55,
   "id": "4dfc540b-1a31-4481-b37c-90e840ca6e19",
   "metadata": {},
   "outputs": [],
   "source": [
    "from qiskit.algorithms.optimizers import SPSA, SLSQP\n",
    "\n",
    "optimizer = SLSQP(maxiter=200)"
   ]
  },
  {
   "cell_type": "markdown",
   "id": "dbbe9fdd-f6cf-472a-8955-5356919c8c98",
   "metadata": {},
   "source": [
    "## 2-5 Define custom VQE program\n",
    "The VQE calculation can be efficiently orchestrated between the quantum and classical computer using qiskit's [primitives](https://qiskit.org/documentation/apidoc/primitives.html). Below is a simple example of using the [Estimator primitive](https://qiskit.org/documentation/apidoc/primitives.html#overview-of-estimator) with your computer as a local simulator of a quantum computer. It's convenient to bring the components of VQE together into a custom class which we've called `CustomVQE`.\n",
    "\n",
    "If you want more control over the measurement results and how the expectation values are computed, use the [Sampler primitive](https://qiskit.org/documentation/apidoc/primitives.html#overview-of-sampler) which will output the probabilities (or quasi-probabilities) of every measured state instead of expectation values."
   ]
  },
  {
   "cell_type": "code",
   "execution_count": 56,
   "id": "25c2d053-97fb-4597-b716-d30b025d2a6f",
   "metadata": {},
   "outputs": [],
   "source": [
    "from qiskit.algorithms import MinimumEigensolver, VQEResult\n",
    "\n",
    "# Define a custome VQE class to orchestra the ansatz, classical optimizers, \n",
    "# initial point, callback, and final result\n",
    "class CustomVQE(MinimumEigensolver):\n",
    "    \n",
    "    def __init__(self, estimator, circuit, optimizer, callback=None):\n",
    "        self._estimator = estimator\n",
    "        self._circuit = circuit\n",
    "        self._optimizer = optimizer\n",
    "        self._callback = callback\n",
    "        \n",
    "    def compute_minimum_eigenvalue(self, operators, aux_operators=None):\n",
    "                \n",
    "        # Define objective function to classically minimize over\n",
    "        def objective(x):\n",
    "            # Execute job with estimator primitive\n",
    "            job = self._estimator.run([self._circuit], [operators], [x])\n",
    "            # Get results from jobs\n",
    "            est_result = job.result()\n",
    "            # Get the measured energy value\n",
    "            value = est_result.values[0]\n",
    "            # Save result information using callback function\n",
    "            if self._callback is not None:\n",
    "                self._callback(value)\n",
    "            return value\n",
    "            \n",
    "        # Select an initial point for the ansatzs' parameters\n",
    "        x0 = np.pi/4 * np.random.rand(self._circuit.num_parameters)\n",
    "        \n",
    "        # Run optimization\n",
    "        res = self._optimizer.minimize(objective, x0=x0)\n",
    "        \n",
    "        # Populate VQE result\n",
    "        result = VQEResult()\n",
    "        result.cost_function_evals = res.nfev\n",
    "        result.eigenvalue = res.fun\n",
    "        result.optimal_parameters = res.x\n",
    "        return result\n"
   ]
  },
  {
   "cell_type": "code",
   "execution_count": 57,
   "id": "f976993e",
   "metadata": {},
   "outputs": [
    {
     "data": {
      "text/plain": [
       "array([0.66155826, 0.62816885, 0.22278011, 0.48487642, 0.51441904,\n",
       "       0.22963438, 0.07381127, 0.32067835, 0.74444503, 0.46893557,\n",
       "       0.47362243, 0.11693912, 0.32172492, 0.34819314, 0.61021313,\n",
       "       0.33854664, 0.30076906, 0.40569856, 0.39735299, 0.5105923 ,\n",
       "       0.21270849, 0.0238298 , 0.50915595, 0.75142283, 0.02674869,\n",
       "       0.13973355, 0.54946738, 0.12863314, 0.12118496, 0.67941569,\n",
       "       0.35270677, 0.48212483, 0.33791761, 0.72016764, 0.02347413,\n",
       "       0.74294095])"
      ]
     },
     "execution_count": 57,
     "metadata": {},
     "output_type": "execute_result"
    }
   ],
   "source": [
    "np.pi/4 * np.random.rand(ansatz_opt.num_parameters)\n"
   ]
  },
  {
   "cell_type": "markdown",
   "id": "763b523a-94e5-40ae-89c1-caa045ffa563",
   "metadata": {},
   "source": [
    "### Callback\n",
    "It's important to know what's going on between the classical and quantum computer during the optimization. What parameter values is the classical optimizer picking? How does the convergence to the ground state energy behave?\n",
    "\n",
    "Defining a callback function gives us a chance to peek in. A simple callback method is defined below. See [this tutorial](https://qiskit.org/documentation/tutorials/algorithms/02_vqe_convergence.html) for more information and be sure to read the classical [optimizers' docs](https://qiskit.org/documentation/stubs/qiskit.algorithms.optimizers.html) for what specific values can be extracted during optimization. For example [SPSA](https://qiskit.org/documentation/stubs/qiskit.algorithms.optimizers.SPSA.html#qiskit.algorithms.optimizers.SPSA) returns: (nfev, parameters, value, stepsize, accepted)."
   ]
  },
  {
   "cell_type": "code",
   "execution_count": 58,
   "id": "3c9f48d3-186e-419a-8e03-53d3e81d1fca",
   "metadata": {},
   "outputs": [],
   "source": [
    "# Define a simple callback function\n",
    "intermediate_info = []\n",
    "def callback(value):\n",
    "        intermediate_info.append(value)"
   ]
  },
  {
   "cell_type": "markdown",
   "id": "03488a94-62da-4f09-9b91-d6857e7dcc91",
   "metadata": {},
   "source": [
    "## 2-6 Execute simulated VQE\n",
    "The VQE is built! Time to test it out on a simulator. This may take a few seconds."
   ]
  },
  {
   "cell_type": "code",
   "execution_count": 59,
   "id": "4f793a4d",
   "metadata": {},
   "outputs": [],
   "source": [
    "from qiskit.primitives import Estimator"
   ]
  },
  {
   "cell_type": "code",
   "execution_count": 60,
   "id": "f04d92b9-0467-4c6f-b893-48e5035880b4",
   "metadata": {},
   "outputs": [
    {
     "name": "stdout",
     "output_type": "stream",
     "text": [
      "{   'aux_operator_eigenvalues': None,\n",
      "    'cost_function_evals': 1396,\n",
      "    'eigenstate': None,\n",
      "    'eigenvalue': -17.999999217762525,\n",
      "    'optimal_circuit': None,\n",
      "    'optimal_parameters': array([-2.78430755e-05,  1.57062154e+00, -3.14165906e+00, -1.03705203e+00,\n",
      "       -4.15137289e-01,  6.60747312e-01, -1.34918942e-02, -1.39046038e+00,\n",
      "       -6.67660611e-04,  1.56403312e+00, -2.38046257e-03,  2.09904473e+00,\n",
      "        2.57911393e+00, -1.02266898e-01,  1.02240861e-01,  1.57073140e+00,\n",
      "       -1.57082594e+00,  1.57075952e+00,  1.57071956e+00,  1.57025463e+00,\n",
      "       -1.57023973e+00,  1.89728721e+00, -1.24434578e+00,  2.61345055e+00,\n",
      "        1.00835135e+00, -1.57063708e+00,  1.57068062e+00,  1.57081561e+00,\n",
      "       -2.10448645e+00, -1.98593955e+00, -6.60695848e-01,  1.58429793e+00,\n",
      "       -1.39038126e+00,  1.57149306e+00,  1.57785782e+00,  1.56956795e+00]),\n",
      "    'optimal_point': None,\n",
      "    'optimal_value': None,\n",
      "    'optimizer_evals': None,\n",
      "    'optimizer_result': None,\n",
      "    'optimizer_time': None}\n",
      "execution time (s): 558.54\n"
     ]
    }
   ],
   "source": [
    "# Define instance of qiskit-terra's Estimator primitive\n",
    "estimator = Estimator([ansatz_opt], [ham_16])\n",
    "\n",
    "# Setup VQE algorithm\n",
    "custom_vqe = CustomVQE(estimator, ansatz_opt, optimizer, callback=callback)\n",
    "\n",
    "# Run the custom VQE function and monitor execution time\n",
    "start = time()\n",
    "result = custom_vqe.compute_minimum_eigenvalue(ham_16)\n",
    "end = time()\n",
    "\n",
    "print(result)\n",
    "print(f'execution time (s): {end - start:.2f}')"
   ]
  },
  {
   "cell_type": "markdown",
   "id": "8ea85ca6-9c38-48af-8dc7-802ea94aa60a",
   "metadata": {},
   "source": [
    "In the print out above, the ground state energy is under \"eigenvalue\", and the optimal choice of parameters that goes with that energy is under \"optimal_parameters\". Let's plot the energy convergence data the callback function acquired."
   ]
  },
  {
   "cell_type": "code",
   "execution_count": 61,
   "id": "04beda9f-aa08-45fc-95a5-63dbf916d881",
   "metadata": {},
   "outputs": [
    {
     "data": {
      "image/png": "[encoded data removed]",
      "text/plain": [
       "<Figure size 640x480 with 1 Axes>"
      ]
     },
     "metadata": {},
     "output_type": "display_data"
    }
   ],
   "source": [
    "plt.plot(intermediate_info, color='purple', lw=2, label='Simulated VQE')\n",
    "plt.ylabel('Energy')\n",
    "plt.xlabel('Iterations')\n",
    "# Exact ground state energy value\n",
    "plt.axhline(y=gs_energy, color=\"tab:red\", ls=\"--\", lw=2, label=\"Target: \" + str(gs_energy))\n",
    "plt.legend()\n",
    "plt.grid()\n",
    "plt.show()"
   ]
  },
  {
   "cell_type": "markdown",
   "id": "7665fd9d-80af-4529-a3ff-d7d85b41da0a",
   "metadata": {},
   "source": [
    "The true ground state energy is -18.0. As a metric for how well the VQE found the ground state energy, we will compute the relative difference between -18.0 and what we just achieved with VQE. This will be the metric of performance in the judging criteria, though it's important to note that it's not the only useful metric when working with VQE. Remember that the lower the relative error the higher you will score."
   ]
  },
  {
   "cell_type": "code",
   "execution_count": 62,
   "id": "17fa9823-dd6f-40a5-938a-744662133b00",
   "metadata": {},
   "outputs": [
    {
     "name": "stdout",
     "output_type": "stream",
     "text": [
      "Expected ground state energy: -18.0000000000\n",
      "Computed ground state energy: -17.9999992178\n",
      "Relative error: 0.00000004\n"
     ]
    }
   ],
   "source": [
    "def rel_err(target, measured):\n",
    "    return abs((target - measured) / target)\n",
    "\n",
    "# Compute the relative error between the expected ground state energy and the VQE's output\n",
    "rel_error = rel_err(gs_energy, result.eigenvalue)\n",
    "\n",
    "print(f'Expected ground state energy: {gs_energy:.10f}')\n",
    "print(f'Computed ground state energy: {result.eigenvalue:.10f}')\n",
    "print(f'Relative error: {rel_error:.8f}')"
   ]
  },
  {
   "cell_type": "markdown",
   "id": "7519917a-8605-4445-bee2-efc839283604",
   "metadata": {},
   "source": [
    "## 3-1 Qiskit runtime (cloud simulator)\n",
    "\n",
    "Next we demonstrate how to run VQE using [qiskit_ibm_runtime](https://github.com/Qiskit/qiskit-ibm-runtime) **which has different syntax from qiskit terra's runtime**. The qiskit_ibm_runtime module includes the same programming model as qiskit terra, but qiskit_ibm_runtime has access to a cloud simulator and more importantly the ibmq_guadalupe device. To learn more about qiskit_ibm_runtime check out these tutorials from the docs: [a tutorial on the estimator](https://github.com/Qiskit/qiskit-ibm-runtime/blob/main/docs/tutorials/how-to-getting-started-with-estimator.ipynb) and [a tutorial on the sampler](https://github.com/Qiskit/qiskit-ibm-runtime/blob/main/docs/tutorials/how-to-getting-started-with-sampler.ipynb).\n",
    "\n",
    "We will use all the same VQE components we've built up so far, but the syntax for executing on the hardware is wrapped in [a session](https://quantum-computing.ibm.com/lab/docs/iql/manage/systems/sessions/) as shown in the following cells.\n",
    "\n",
    "We first demonstrate running VQE with the cloud simulator backend to check everything is working correctly. This may take a few minutes. After running on the cloud simulator, we make a simple switch of backends to the real ibmq_guadalupe device to get the final result. Depending on how your VQE is setup, this may take a couple hours."
   ]
  },
  {
   "cell_type": "code",
   "execution_count": 63,
   "id": "1e42ae96-a23b-40dc-af63-f7067e708c98",
   "metadata": {},
   "outputs": [],
   "source": [
    "from qiskit_ibm_runtime import (QiskitRuntimeService, Session, Options,\n",
    "                                Estimator as RuntimeEstimator)\n",
    "from qiskit import Aer\n",
    "\n",
    "# Save an IBM Quantum account. See docs for credential security warning\n",
    "# https://github.com/Qiskit/qiskit-ibm-runtime/tree/stable/0.7#saving-account-on-disk\n",
    "#QiskitRuntimeService.save_account(channel=\"ibm_quantum\", token=\"147824c019af647b850b02f71e054a1c205a5a255ed95b5762eba74e11a95b6395e89d730974776d00889f8bab6a111d66eafb6bf160b6db02de846fb137dfeb\")\n",
    "service = QiskitRuntimeService(channel='ibm_quantum')"
   ]
  },
  {
   "cell_type": "code",
   "execution_count": 64,
   "id": "cd58da58-d42c-4a83-b72a-b289009e4004",
   "metadata": {},
   "outputs": [
    {
     "name": "stdout",
     "output_type": "stream",
     "text": [
      "Simulators: [<IBMBackend('ibmq_qasm_simulator')>, <IBMBackend('simulator_statevector')>, <IBMBackend('simulator_mps')>, <IBMBackend('simulator_extended_stabilizer')>, <IBMBackend('simulator_stabilizer')>]\n"
     ]
    }
   ],
   "source": [
    "# print available backend and select one\n",
    "print('Simulators:', service.backends(simulator=True))\n",
    "\n",
    "# Select a simulator backend\n",
    "backend = 'simulator_statevector'"
   ]
  },
  {
   "cell_type": "code",
   "execution_count": 65,
   "id": "82c84117-6239-42c2-964d-7a3df3f709e1",
   "metadata": {},
   "outputs": [],
   "source": [
    "# Define a simple callback function\n",
    "intermediate_info_sim_backend = []\n",
    "def callback_sim(value):\n",
    "        intermediate_info_sim_backend.append(value)"
   ]
  },
  {
   "cell_type": "code",
   "execution_count": null,
   "id": "3be7fe16-6208-4e07-aa69-845baa874257",
   "metadata": {},
   "outputs": [],
   "source": [
    "# Setup Estimator\n",
    "start = time()\n",
    "with Session(service=service, backend=backend) as session:\n",
    "    # Prepare primitive\n",
    "    rt_estimator = RuntimeEstimator(session=session)\n",
    "    # Set up algorithm\n",
    "    custom_vqe = CustomVQE(rt_estimator, ansatz_opt, optimizer, callback=callback_sim)\n",
    "    # Run algorithm\n",
    "    result = custom_vqe.compute_minimum_eigenvalue(ham_16)\n",
    "end = time()\n",
    "print(f'execution time (s): {end - start:.2f}')"
   ]
  },
  {
   "cell_type": "code",
   "execution_count": null,
   "id": "a35dc309-ea85-42c3-8897-50e4e5a22625",
   "metadata": {},
   "outputs": [],
   "source": [
    "plt.plot(intermediate_info_sim_backend, color='purple', lw=2, label='Simulated VQE')\n",
    "plt.ylabel('Energy')\n",
    "plt.xlabel('Iterations')\n",
    "plt.axhline(y=gs_energy, color=\"tab:red\", ls=\"--\", lw=2, label=\"Target: \" + str(gs_energy))\n",
    "plt.legend()\n",
    "plt.grid()\n",
    "plt.show()"
   ]
  },
  {
   "cell_type": "code",
   "execution_count": null,
   "id": "0ca08bb6",
   "metadata": {},
   "outputs": [],
   "source": [
    "# Compute the relative error between the expected ground state energy and the measured\n",
    "rel_error = rel_err(gs_energy, result.eigenvalue)\n",
    "\n",
    "print(f'Expected ground state energy: {gs_energy:.10f}')\n",
    "print(f'Computed ground state energy: {result.eigenvalue:.10f}')\n",
    "print(f'Relative error: {rel_error:.8f}')"
   ]
  },
  {
   "cell_type": "markdown",
   "id": "968daf3c-f592-4ae3-88e8-6a64aa93b5ad",
   "metadata": {},
   "source": [
    "## 3-2 Qiskit runtime Real backend (ibmq_guadalupe)\n",
    "\n",
    "If our `qiskit_ibm_runtime` code is working on the cloud simulator backend, we can simply change the backend to the ibmq_guadalupe to run on the real backend. This may take a couple hours. Your performance score will be determined by the calculated relative error between the true ground state energy of -18.0 and the measured energy from the real ibmq_guadalupe backend."
   ]
  },
  {
   "cell_type": "code",
   "execution_count": null,
   "id": "3d14c493-4bdc-4142-9c3c-de6ccd9150d7",
   "metadata": {},
   "outputs": [],
   "source": [
    "service = QiskitRuntimeService(channel='ibm_quantum')\n",
    "\n",
    "backend = 'ibmq_guadalupe'"
   ]
  },
  {
   "cell_type": "code",
   "execution_count": null,
   "id": "9925cf63-088c-421d-995b-98691595e864",
   "metadata": {},
   "outputs": [],
   "source": [
    "# Define a simple callback function\n",
    "intermediate_info_real_backend = []\n",
    "def callback_real(value):\n",
    "        intermediate_info_real_backend.append(value)"
   ]
  },
  {
   "cell_type": "code",
   "execution_count": null,
   "id": "95b2a311-0acd-4a9f-b915-2733e08f4d50",
   "metadata": {},
   "outputs": [],
   "source": [
    "# Setup Estimator\n",
    "start = time()\n",
    "with Session(service=service, backend=backend) as session:\n",
    "    # Prepare primitive\n",
    "    rt_estimator = RuntimeEstimator(session=session)\n",
    "    # set up algorithm\n",
    "    custom_vqe = CustomVQE(rt_estimator, ansatz_opt, optimizer, callback=callback_real)\n",
    "    # run algorithm\n",
    "    result = custom_vqe.compute_minimum_eigenvalue(ham_16)\n",
    "end = time()\n",
    "print(f'execution time (s): {end - start:.2f}')"
   ]
  },
  {
   "cell_type": "code",
   "execution_count": null,
   "id": "a0a9c908-d6bf-4e6a-ac77-dc130c7667db",
   "metadata": {},
   "outputs": [],
   "source": [
    "plt.plot(intermediate_info_real_backend, color='purple', lw=2, label='VQE')\n",
    "plt.ylabel('Energy')\n",
    "plt.xlabel('Iterations')\n",
    "plt.axhline(y=gs_energy, color=\"tab:red\", ls=\"--\", lw=2, label=\"Target: \" + str(gs_energy))\n",
    "plt.legend()\n",
    "plt.grid()\n",
    "plt.show()"
   ]
  },
  {
   "cell_type": "markdown",
   "id": "1a924187-ad99-41ec-83f8-f8ac87a95750",
   "metadata": {},
   "source": [
    "## 3-3 Performance Score\n",
    "Compute the relative error between the expected ground state energy and the VQE result."
   ]
  },
  {
   "cell_type": "code",
   "execution_count": null,
   "id": "46ef4ecd-547f-43d0-b184-e7f82680f50d",
   "metadata": {},
   "outputs": [],
   "source": [
    "computed_gse = intermediate_info_real_backend[-1]\n",
    "\n",
    "print(f'Expected ground state energy: {gs_energy:.8f}')\n",
    "print(f'Computed ground state energy: {computed_gse:.8f}')\n",
    "print(f'Relative error: {100 * rel_err(gs_energy, computed_gse):.8f} %')"
   ]
  },
  {
   "cell_type": "markdown",
   "id": "355fe933-de34-4ce8-a6d8-11c00f6232f2",
   "metadata": {},
   "source": [
    "# Considerations\n",
    "Feeling stuck? Below are a list of questions and considerations to help spark new ideas for your VQE implementation.\n",
    "\n",
    "**Ansatz.** Carefully consult research literature for the best approach of ansatz selection. How might errors affect your ansatz? How many parameters are needed to reach the ground state? What properties of the Hamiltonian could help simplify the ansatz?\n",
    "\n",
    "**Classical optimizer.** What optimizer will pair well with for your choice of ansatz and measurement parameters? What noise do you expect from the quantum computer, and what noise sensitivity can the classical optimizer withstand? How many iterations will be needed?\n",
    "\n",
    "**Initial state/point.** Is there an initial quantum state that really helps things get going? What about a starting point for the circuit parameters? Does the VQE give the same results for different initial parameter values?\n",
    "\n",
    "**Number of measurements.** How does the number of shots affect the VQE's convergence to the ground state energy? The expectation value of the Hamiltonian is a sum of the expectation values of each of the 54 terms. What is the least number of circuit executions necessary to compute the expectation value of the Hamiltonian? What is the optimal number of circuit executions for stable convergence?\n",
    "\n",
    "**Many qubits.** Working with larger numbers of qubits is its own challenge. For example, what's a concise way of writing down or even visualizing the 4096 digit ground state? What methods and techniques will not scale well? What techniques would scale well if this VQE were to be done on a larger system? How can you reduce your execution time of the real device?\n",
    "\n",
    "**Error mitigation.** What errors are most prevalent, and how can you reduce them efficiently? What error mitigation techniques will scale well?"
   ]
  },
  {
   "cell_type": "code",
   "execution_count": null,
   "id": "10a0d2c6-091a-439c-864a-8d791a39eec9",
   "metadata": {},
   "outputs": [],
   "source": [
    "import qiskit_ibm_runtime\n",
    "qiskit_ibm_runtime.version.get_version_info()"
   ]
  },
  {
   "cell_type": "code",
   "execution_count": null,
   "id": "6044f597-1557-4a1a-8f00-d22ce4ff3a10",
   "metadata": {},
   "outputs": [],
   "source": [
    "import qiskit.tools.jupyter\n",
    "%qiskit_version_table"
   ]
  }
 ],
 "metadata": {
  "kernelspec": {
   "display_name": "Python 3 (ipykernel)",
   "language": "python",
   "name": "python3"
  },
  "language_info": {
   "codemirror_mode": {
    "name": "ipython",
    "version": 3
   },
   "file_extension": ".py",
   "mimetype": "text/x-python",
   "name": "python",
   "nbconvert_exporter": "python",
   "pygments_lexer": "ipython3",
   "version": "3.9.13"
  }
 },
 "nbformat": 4,
 "nbformat_minor": 5
}
