{
 "cells": [
  {
   "cell_type": "markdown",
   "id": "2dbd38d0-fbf4-4e9d-8253-4f549f7e052e",
   "metadata": {},
   "source": [
    "# 1 Introduction\n",
    "## 1-1 Quantum State Preparation\n",
    "Quantum state preparation is fundamental to quantum computing. It lies at the heart of quantum algorithms, quantum machine learning, quantum error correction, and quantum physics research, but it can be very difficult to start from an initial state $|0\\dots 0 \\rangle$ and efficiently prepare an arbitrary state $|\\psi \\rangle$ with high fidelity. Your objective for this year's Open Science Prize is to significantly improve state-of-the-art state preparation in the context of the Variational Quantum Eigensolver (VQE) algorithm.\n",
    "\n",
    "The state you will prepare is the highly entangled ground state of a Heisenberg spin-1/2 model on a kagome lattice. That sentence is jam packed with physics jargon, but do not despair. Though the problem statement originates deep within quantum physics research, we will avoid jargon as much as possible. A deep dive into the physics literature (which is very fascinating) is left as an exercise for the reader.\n",
    "\n",
    "Why the ground state of a Heisenberg model? Well, the ground state of a system is it's lowest energy configuration, and the ground state tends to be where exciting and unexpected quantum affects flourish. For example, when the element Mercury is cooled down near its ground state (below 4 Kelvin), it has no electrical resistance. None. Zero! Near its thermal ground state, a chunk of Mercury is [a superconductor](https://en.wikipedia.org/wiki/History_of_superconductivity). Researchers have been trying to understand what materials exhibit superconductivity and how it's even possible ever since it was first discovered. If that isn't cool enough for you, consider the [Bose-Einstein condensate](https://en.wikipedia.org/wiki/Bose–Einstein_condensate). This is quantum phase of matter where a dilute gas of individual atoms (bosonic atoms such as [Rubidium](https://en.wikipedia.org/wiki/Rubidium))--when cooled to their ground state--effectively become one giant particle!\n",
    "\n",
    "A system's ground state determines important and fascinating physical properties (see the two examples highlighted above), yet some quantum systems have ground states (and their associated energies) which are difficult to make and measure in the lab as well as being intractable for classical computers to calculate. The Variational Quantum Eigensolver (VQE) is a promising quantum algorithm that could find these ground states and their energies.\n",
    "\n",
    "You will implement the VQE algorithm on [ibmq_guadalupe](https://quantum-computing.ibm.com/services/resources?system=ibmq_guadalupe) a 16 qubit [heavy-hex](https://research.ibm.com/blog/heavy-hex-lattice) device. This is the largest device used in an Open Science Prize to date. Working with more qubits presents its own challenges. Be mindful of how your solution scales as this will be part of the judging criteria this year.\n",
    "\n",
    "We'll get more into the principles of VQE later, but for now, remember that VQE relies on iterative cycles of quantum and classical computation. Fast iterations and fast communication between the classical and quantum computer are essential for a fast VQE, and [Qiskit runtime](https://github.com/Qiskit/qiskit-ibm-runtime) does just that. [Qiskit runtime](https://medium.com/qiskit/so-what-is-qiskit-runtime-anyway-c78aecf3742) is a programming model and containerized environment designed to reduce the computational cycle time between quantum and classical computers. Later in this notebook, we will demonstrate how to leverage the latest release of runtime for fast VQE.\n",
    "\n",
    "The notebook is organized as follows: Section 1 gives a brief introduction to the Heisenberg model, the kagome lattice, and VQE algorithm. It also provides a classical calculation of the ground state(s) energy. Section 2 introduces how to construct a VQE experiment and simulate it on your local computer. Section 3 introduces Qiskit runtime and how to run VQE on a cloud simulator or real backend. Finally, if you are feeling stuck, we've provided some questions to consider as you design and implement your solution.\n",
    "\n",
    "#### Objective\n",
    "**Your task is to use the VQE algorithm to compute the ground state of a Heisenberg spin-1/2 system on a kagome lattice unit cell with the lowest possible relative error of the measured state's energy expectation value wrt to the exact value.** There are actually two ground states in this specific case, and you may prepare any combination of the two including only one or the other.\n"
   ]
  },
  {
   "cell_type": "markdown",
   "id": "446e775d-5c57-447e-9c93-84c70509a64a",
   "metadata": {},
   "source": [
    "## 1-2 Heisenberg spin-1/2 model on the kagome lattice\n",
    "For the Open Science Prize, (get ready for some jargon) you will work with the antiferromagnetic $XXX$ Heisenberg model arranged on a kagome lattice. The $XXX$ Heisenberg model Hamiltonian for this Prize will be defined as\n",
    "$$\n",
    "\\begin{equation}\n",
    "H = \\sum_{\\langle i j \\rangle}^N X_i X_{j} + Y_i Y_{j} + Z_i Z_{j}\n",
    "\\end{equation}\n",
    "$$\n",
    "where $\\langle i j \\rangle$ is sum over neighboring spins and $X$, $Y$, and $Z$ are the usual Pauli matrices. The Heisenberg model hosts a wide variety of exotic quantum physics all of which heavily depend on the arrangement of the spins. The arrangement we are interested in is a kagome lattice.\n",
    "\n",
    "![title](kagome_unit_cell.png)\n",
    "\n",
    "The kagome lattice is a unique lattice structure made up of corner-sharing triangles (see the unit cell above). In general, the kagome lattice (i.e. many unit cells tiled together) is theorized to host a fascinating quantum phase of matter called a quantum spin liquid--a research topic at the forefront of quantum physics [1-3]. Additionally, excitations from that ground state are theorized to show exotic quantum behavior such a fractionalized particle excitations [1-3]. For those interested in a deeper dive into the physics check out Refs. [1-3] and other papers.\n",
    "\n",
    "This year's Prize will focus on a single unit cell (the base pattern shown above) which has 12 spin-1/2 particles represented in as blue dots in the image below. Each spin will be represented by a single qubit. The lines connecting the spin-1/2 particles called edges--borrowing a term from [graph theory](https://en.wikipedia.org/wiki/Graph_theory)--and they specify which spins are neighbors.\n",
    "\n",
    "\\[1\\] \"Modern condensed matter physics.\" Girvin, Steven M., and Kun Yang. Cambridge University Press, (2019).\n",
    "\n",
    "\\[2\\] \"Spin liquids in frustrated magnets.\" Balents, Leon. [Nature 464, 199–208](https://doi.org/10.1038/nature08917) (2010). \n",
    "\n",
    "\\[3\\] \"Probing topological spin liquids on a programmable quantum simulator.\" Semeghini, Giulia, et al. [Science 374.6572: 1242-1247.](https://www.science.org/doi/10.1126/science.abi8794) (2021). [arXiv link](https://arxiv.org/abs/2104.04119)\n",
    "\n",
    "\\[4\\] \"Kagome: The Story of the Basketweave Lattice.\" Mekata, Mamoru. [Physics Today 56, 2, 12](https://physicstoday.scitation.org/doi/10.1063/1.1564329) (2003)."
   ]
  },
  {
   "cell_type": "markdown",
   "id": "4af4910d-a71a-47ac-8953-20cda5d5c04f",
   "metadata": {},
   "source": [
    "## 1-3 VQE\n",
    "The Variational Quantum Eigensolver (VQE) is a quantum algorithm that can find the ground state(s) of a given Hamiltonian [5-7]. The VQE algorithm is based on the [variational principle](https://en.wikipedia.org/wiki/Variational_method_(quantum_mechanics)) of quantum mechanics and relies on both quantum and classical computations. Below, we briefly sketch out the main principles of VQE, and encourage you to review educational material and the research literature for details.\n",
    "\n",
    "Given a Hamiltonian $H$ and ground state $|\\psi_g \\rangle$, the variational principle says that even if we don't know the exact ground state an approximate ground state $|\\tilde{ \\psi}_g\\rangle \\approx |\\psi_g \\rangle$ can be found. To find the approximate ground state $|\\tilde{ \\psi}_g\\rangle$, we start with a parameterized state called an ansatz $|\\psi(\\boldsymbol{\\theta})\\rangle$ where $\\boldsymbol{\\theta} \\equiv (\\theta_1, \\theta_2,\\dots)$ are the parameters. In theory, there is a combination of parameter values where the anstaz approximates the ground state $|\\psi(\\boldsymbol{\\theta})\\rangle \\approx |\\psi_g\\rangle$, but we need a way to find those parameter values. This is done with a combination of quantum and classical computing.\n",
    "\n",
    "To optimize the parameters, many cycles of quantum and classical computing drive the ansatz toward the approximate ground state. The quantum computer computes the energy expectation value of Hamiltonian $H$ acting on the the parameterized anstaz for a given set of parameter values\n",
    "$$\n",
    "E(\\boldsymbol{\\theta}) = \\langle \\psi(\\boldsymbol{\\theta}) | H | \\psi(\\boldsymbol{\\theta}) \\rangle \\;.\n",
    "$$\n",
    "For those familiar with optimization terminology this is the cost function. A classical computer uses the measurement data from the quantum computer to determine how the parameters values should be adjusted to further minimize the energy $E(\\boldsymbol{\\theta})$. As the classical and quantum computer loop through many iterations, they search the parameter space and converge to the approximate ground state.\n",
    "\n",
    "How can we know the state that gives the minimum energy expectation value is the ground state? The variation principle guarantees that the minimal energy expectation value can only be achieved if the quantum state is the ground state. No other state can give a lower energy--hence the name ground state. In this way, we can be confident that minimizing $E(\\boldsymbol{\\theta})$ with respect to the parameters $\\boldsymbol{\\theta}$ will drive the ansatz toward an accurate approximation of the true ground state and not some other state.\n",
    "\n",
    "Of course, the actual implementation of the algorithm comes with challenges. The ansatz $|\\psi(\\boldsymbol{\\theta})\\rangle$ may never reach the ground state for any combination of parameters. The ansatz could have too many parameters and encounter a barren plateau during optimization. When implementing the VQE, it may take an unreasonable amount of time to execute the ansatz or measure the expectation value on quantum hardware. The quantum hardware may be too noisy. The classical optimizer may not pair well with the optimization landscape or the level of noise from the quantum measurements. Etc.\n",
    "\n",
    "To jump into more details about VQE, we included three review articles on the topic below. We encourage you to review additional educational material and research literature as you work out your solution.\n",
    "\n",
    "\\[5\\] \"A variational eigenvalue solver on a quantum processor.\" A. Peruzzo, et al. [arXiv:1304.3061](https://arxiv.org/abs/1304.3061) [quant-ph] (2013).\n",
    "\n",
    "\\[6\\] \"Variational quantum algorithms.\" M. Cerezo, et al. [arXiv:2012.09265v2](https://arxiv.org/abs/2012.09265v2) [quant-ph] (2021).\n",
    "\n",
    "\\[7\\] \"The Variational Quantum Eigensolver: a review of methods and best practices.\" J. Tilly, et al. [arXiv:2111.05176v3](https://arxiv.org/abs/2111.05176v3) [quant-ph] (2022).\n"
   ]
  },
  {
   "cell_type": "code",
   "execution_count": 3,
   "id": "fb3b2e13-9651-49eb-9f8a-0012d3fb21ed",
   "metadata": {},
   "outputs": [],
   "source": [
    "import numpy as np\n",
    "\n",
    "from time import time\n",
    "\n",
    "import matplotlib.pyplot as plt\n",
    "plt.rcParams.update({\"font.size\": 16})  # enlarge matplotlib fonts"
   ]
  },
  {
   "cell_type": "markdown",
   "id": "23557032",
   "metadata": {},
   "source": [
    "## 1-4 Classical computation of ground state energy\n",
    "The twelve qubit state space isn't terribly large $2^{12} = 4096$, but it also isn't small. A classical computer can still diagonalize the Hamiltonian and thus compute the ground state and its associated energy. For the Open Science Prize, we don't need a full energy spectrum, just a calculation of the ground state energy. When working on your solution, remember that brute force approaches that work on 5 or 7-qubit devices may not work as well with ibmq_guadalupe's 16 qubits.\n",
    "\n",
    "Below is an example classical calculation of the ground state energy. It will be used as a reference to your VQE results. First, the kagome lattice is defined on a graph. Second, we built the Hamiltonian from the graph edges. Finally, the expected ground state energy is calculated.\n",
    "\n",
    "### Qiskit nature kagome unit cell\n",
    "Using Qiskit nature's [`Lattice` object](https://qiskit.org/documentation/nature/tutorials/10_lattice_models.html), we can represent any spin lattice as a graph. Here we construct the unit cell of a kagome lattice by defining a list of edges between the twelve sites. This `Lattice` representation will be convenient to use when defining the $XXX$ Hamiltonian terms."
   ]
  },
  {
   "cell_type": "code",
   "execution_count": 4,
   "id": "3565f61a-2fa8-4af8-83d9-5a8c8679ccf7",
   "metadata": {},
   "outputs": [],
   "source": [
    "import rustworkx as rx\n",
    "\n",
    "from qiskit_nature.problems.second_quantization.lattice import Lattice\n",
    "\n",
    "# Custom Heisenberg couplings\n",
    "import sys\n",
    "sys.path.append(r'.')  # may be needed if running notebook on a cloud service\n",
    "from heisenberg_model import HeisenbergModel, HeisenbergModelX,  HeisenbergModelY, HeisenbergModelZ\n"
   ]
  },
  {
   "cell_type": "code",
   "execution_count": 5,
   "id": "5839d6d3-ee8a-4d01-9af4-e654ae915778",
   "metadata": {},
   "outputs": [
    {
     "data": {
      "image/png": "[encoded data removed]",
      "text/plain": [
       "<Figure size 640x480 with 1 Axes>"
      ]
     },
     "metadata": {},
     "output_type": "display_data"
    }
   ],
   "source": [
    "# Kagome unit cell\n",
    "num_sites = 12\n",
    "# Edge weight\n",
    "t = 1.0\n",
    "\n",
    "# Generate graph of kagome unit cell\n",
    "# Start by defining all the edges\n",
    "graph = rx.PyGraph(multigraph=False)\n",
    "graph.add_nodes_from(range(num_sites))\n",
    "edge_list = [\n",
    "    (0, 1, t),\n",
    "    (1, 2, t),\n",
    "    (2, 3, t),\n",
    "    (3, 4, t),\n",
    "    (4, 5, t),\n",
    "    (5, 0, t),\n",
    "    (0, 6, t),\n",
    "    (1, 6, t),\n",
    "    (1, 7, t),\n",
    "    (2, 7, t),\n",
    "    (2, 8, t),\n",
    "    (3, 8, t),\n",
    "    (3, 9, t),\n",
    "    (4, 9, t),\n",
    "    (4, 10, t),\n",
    "    (5, 10, t),\n",
    "    (5, 11, t),\n",
    "    (0, 11, t),\n",
    "]\n",
    "# Generate graph from the list of edges\n",
    "graph.add_edges_from(edge_list)\n",
    "\n",
    "# Make a Lattice from graph\n",
    "kagome_unit_cell = Lattice(graph)\n",
    "\n",
    "# Draw Lattice\n",
    "kagome_unit_cell.draw(style={'node_color':'purple'})\n",
    "# plt.savefig('kagome_unit_cell.png')\n",
    "plt.show()"
   ]
  },
  {
   "cell_type": "markdown",
   "id": "77e7a794-04c3-48f7-aa62-1f020c241282",
   "metadata": {},
   "source": [
    "Now that we have the lattice geometry, we can place each term in the Hamiltonian on its corresponding edge. This is done by using the custom `HeisenbergModel` found in the heisenberg_model.py file. This model is based on Qiskit Nature's [`IsingModel` class](https://qiskit.org/documentation/nature/stubs/qiskit_nature.second_q.hamiltonians.IsingModel.html) . It places $XX + YY + ZZ$ on each edge of the lattice (per the Hamiltonian's definition).\n",
    "\n",
    "We will also need to specify how the spin-1/2 particles map to qubits. Using Qiskit nature's `LogarithmicMapper`, we can map each spin-1/2 site to a single qubit. For more information on Qiskit nature's spin mappings see [here](https://qiskit.org/documentation/nature/stubs/qiskit_nature.second_q.mappers.SpinMapper.html#spinmapper)."
   ]
  },
  {
   "cell_type": "code",
   "execution_count": 6,
   "id": "b63edd90-b02d-4c6b-8d9d-3692e05feec4",
   "metadata": {},
   "outputs": [],
   "source": [
    "from qiskit_nature.mappers.second_quantization import LogarithmicMapper"
   ]
  },
  {
   "cell_type": "code",
   "execution_count": 7,
   "id": "2d0f1fa1-ad52-4c82-bc10-b971b227b8ec",
   "metadata": {},
   "outputs": [
    {
     "data": {
      "text/plain": [
       "PauliSumOp(SparsePauliOp(['ZIIIIIZIIIII', 'IZIIIIZIIIII', 'IZIIIIIZIIII', 'IIZIIIIZIIII', 'IIIIIIZZIIII', 'IIZIIIIIZIII', 'IIIZIIIIZIII', 'IIIIIIIZZIII', 'IIIZIIIIIZII', 'IIIIZIIIIZII', 'IIIIIIIIZZII', 'IIIIZIIIIIZI', 'IIIIIZIIIIZI', 'IIIIIIIIIZZI', 'ZIIIIIIIIIIZ', 'IIIIIZIIIIIZ', 'IIIIIIZIIIIZ', 'IIIIIIIIIIZZ', 'YIIIIIYIIIII', 'IYIIIIYIIIII', 'IYIIIIIYIIII', 'IIYIIIIYIIII', 'IIIIIIYYIIII', 'IIYIIIIIYIII', 'IIIYIIIIYIII', 'IIIIIIIYYIII', 'IIIYIIIIIYII', 'IIIIYIIIIYII', 'IIIIIIIIYYII', 'IIIIYIIIIIYI', 'IIIIIYIIIIYI', 'IIIIIIIIIYYI', 'YIIIIIIIIIIY', 'IIIIIYIIIIIY', 'IIIIIIYIIIIY', 'IIIIIIIIIIYY', 'XIIIIIXIIIII', 'IXIIIIXIIIII', 'IXIIIIIXIIII', 'IIXIIIIXIIII', 'IIIIIIXXIIII', 'IIXIIIIIXIII', 'IIIXIIIIXIII', 'IIIIIIIXXIII', 'IIIXIIIIIXII', 'IIIIXIIIIXII', 'IIIIIIIIXXII', 'IIIIXIIIIIXI', 'IIIIIXIIIIXI', 'IIIIIIIIIXXI', 'XIIIIIIIIIIX', 'IIIIIXIIIIIX', 'IIIIIIXIIIIX', 'IIIIIIIIIIXX'],\n",
       "              coeffs=[1.+0.j, 1.+0.j, 1.+0.j, 1.+0.j, 1.+0.j, 1.+0.j, 1.+0.j, 1.+0.j, 1.+0.j,\n",
       " 1.+0.j, 1.+0.j, 1.+0.j, 1.+0.j, 1.+0.j, 1.+0.j, 1.+0.j, 1.+0.j, 1.+0.j,\n",
       " 1.+0.j, 1.+0.j, 1.+0.j, 1.+0.j, 1.+0.j, 1.+0.j, 1.+0.j, 1.+0.j, 1.+0.j,\n",
       " 1.+0.j, 1.+0.j, 1.+0.j, 1.+0.j, 1.+0.j, 1.+0.j, 1.+0.j, 1.+0.j, 1.+0.j,\n",
       " 1.+0.j, 1.+0.j, 1.+0.j, 1.+0.j, 1.+0.j, 1.+0.j, 1.+0.j, 1.+0.j, 1.+0.j,\n",
       " 1.+0.j, 1.+0.j, 1.+0.j, 1.+0.j, 1.+0.j, 1.+0.j, 1.+0.j, 1.+0.j, 1.+0.j]), coeff=1)"
      ]
     },
     "execution_count": 7,
     "metadata": {},
     "output_type": "execute_result"
    }
   ],
   "source": [
    "# Build Hamiltonian from graph edges\n",
    "heis = HeisenbergModel.uniform_parameters(\n",
    "    lattice=kagome_unit_cell,\n",
    "    uniform_interaction=1.0,  # same spin-spin interaction weight as used in graph\n",
    "    uniform_onsite_potential=0.0,  # No singe site external field\n",
    ")\n",
    "\n",
    "# The Lattice needs an explicit mapping to the qubit states.\n",
    "# We map 1 qubit for 1 spin-1/2 particle using the LogarithmicMapper\n",
    "log_mapper = LogarithmicMapper()\n",
    "# Multiply by factor of 4 to account for (1/2)^2 terms from spin operators in the HeisenbergModel\n",
    "ham = 4 * log_mapper.map(heis.second_q_ops().simplify())\n",
    "# Print Hamiltonian to check it's what we expect.\n",
    "# There are 18 edges and 3 terms per edge (XX, YY, and ZZ),\n",
    "# so there should be 54 equally weighted terms.\n",
    "ham"
   ]
  },
  {
   "cell_type": "markdown",
   "id": "e7c2fe6a-98c3-413d-8ee5-ab635184da80",
   "metadata": {},
   "source": [
    "### Compute ground state energy\n",
    "With the Hamiltonian in hand, we can now calculate the expected ground state and its energy. Qiskit offers different methods to do this. The method [here](https://qiskit.org/documentation/apidoc/algorithms.html#minimum-eigensolvers) computes the ground state energy. This [method](https://qiskit.org/documentation/apidoc/algorithms.html#eigensolvers) computes the ground state ($k=0$) and potentially higher energy states if the users wishes ($k>0$).\n",
    "\n",
    "Below is an example calculation of finding the lowest 3 energies ($k=3$) of the system using the second method. Remember that for this year's Prize, you will only need to use VQE to find the ground state energy and not any excited state energies."
   ]
  },
  {
   "cell_type": "code",
   "execution_count": 8,
   "id": "f7bf1d65-0883-4180-985c-bfa88b47e334",
   "metadata": {},
   "outputs": [
    {
     "name": "stdout",
     "output_type": "stream",
     "text": [
      "[-18.         -18.         -16.96132284]\n"
     ]
    }
   ],
   "source": [
    "from qiskit.algorithms import NumPyEigensolver\n",
    "\n",
    "# find the first three (k=3) eigenvalues\n",
    "exact_solver = NumPyEigensolver(k=3)\n",
    "exact_result = exact_solver.compute_eigenvalues(ham)\n",
    "print(exact_result.eigenvalues.real)\n",
    "\n",
    "# Save ground state energy for later\n",
    "gs_energy = np.round(exact_result.eigenvalues[0], 4).real"
   ]
  },
  {
   "cell_type": "markdown",
   "id": "5148f389-84b9-4608-bde5-d1151e45fdec",
   "metadata": {},
   "source": [
    "You'll note that -18 is found twice. This means there are actually two ground states for this system. The -16.96 energy is the first excited state, which is not part of this year's challenge. **For this year's Prize, we will only be judging based off the measured ground state energy. This means it does not matter which of the two ground states, or combination of them, your VQE implementation finds.**"
   ]
  },
  {
   "cell_type": "markdown",
   "id": "b7dc18ef-d6b7-4594-b7ea-a93f922f9997",
   "metadata": {},
   "source": [
    "## 2-1 VQE with local runtime primitives\n",
    "\n",
    "To compute the ground state energy using VQE, we first pick an appropriate device. This year's Prize will use ibmq_guadalupe which has 16 qubits. This is 4 extra qubits than the Hamiltonian, so we will need to \"inflate\" the Hamiltonian with identity operators so we can measure 12 qubit Hamiltonian's energy expectation value on a 16 qubit device.\n",
    "After inflating the Hamiltonian, the anstaz and classical optimizer components are built up. Finally, a class is defined to bring everything together for the VQE algorithm, and it's executed on a local simulator.\n",
    "\n",
    "The code below is largely based off of this example [tutorial](https://github.com/mberna/qce22-qiskit-runtime-tutorial/blob/main/docs/tutorials/Building%20algorithms%20with%20Qiskit%20Runtime.ipynb) of using qiskit runtime primitives from IEEE week. Feel free to read through to learn more about qiskit runtime and VQE."
   ]
  },
  {
   "cell_type": "markdown",
   "id": "9d8e4acf-fcf6-490d-bda9-76b663d10d4b",
   "metadata": {},
   "source": [
    "## 2-2 Qiskit runtime\n",
    "\n",
    "[Qiskit runtime](https://github.com/Qiskit/qiskit-ibm-runtime) is a paradigm which brings classical and quantum computing resources closer together--speeding up quantum algorithms especially variational ones. We will be using runtime because of its [speed boost](https://research.ibm.com/blog/120x-quantum-speedup) relative to the traditional way quantum circuits are executed using qiskit. In this notebook, we'll demonstrate an example VQE executed with qiskit runtime, but we encourage you to get a deeper understanding of the tool by checking out an overview of qiskit runtime and some tutorials on the [qiskit docs section on runtime](https://qiskit.org/documentation/partners/qiskit_ibm_runtime/) as well as the IBM [research blog](https://research.ibm.com/blog/qiskit-runtime-capabilities-integration)."
   ]
  },
  {
   "cell_type": "code",
   "execution_count": 9,
   "id": "45fc1701-e9b9-4c83-b326-7d897cfd68d7",
   "metadata": {},
   "outputs": [],
   "source": [
    "from qiskit import QuantumCircuit, transpile\n",
    "from qiskit.circuit import Parameter\n",
    "\n",
    "from qiskit import IBMQ"
   ]
  },
  {
   "cell_type": "code",
   "execution_count": 10,
   "id": "817c5c82",
   "metadata": {},
   "outputs": [],
   "source": [
    "# Doc for loading IBMQ account https://quantum-computing.ibm.com/lab/docs/iql/manage/account/ibmq#the-account\n",
    "IBMQ.save_account('a31caad39519f6f302e0c199c269fdf896dfd354849c28e42091c464a09318abb156bb93cb5e1f73ef095093072d01ade10d5136a7aeebf5c00a3d769a1fccac',overwrite=True)\n",
    "IBMQ.load_account() # Load account from disk\n",
    "provider = IBMQ.get_provider(hub='ibm-q-community', group='ibmquantumawards', project='open-science-22')\n",
    "\n",
    "# Real backend; needed for transpilation later on\n",
    "guadalupe = provider.get_backend(\"ibmq_guadalupe\")\n",
    "\n",
    "# Get fake backend if you like\n",
    "from qiskit.providers.fake_provider import FakeGuadalupe, FakePerth, FakeJakarta\n",
    "\n",
    "# Noisy simulator backend\n",
    "backend = FakeGuadalupe()"
   ]
  },
  {
   "cell_type": "markdown",
   "id": "1cf78fbd",
   "metadata": {},
   "source": [
    "As mentioned at the beginning of this section, the system Hamiltonian is defined over 12 qubits, but ibmq_guadalupe has 16 qubits. To execute VQE on ibmq_guadalupe, we will \"inflate\" the Hamilontian from 12 qubits to 16 qubits to match ibmq_guadalupe, but those extra 4 qubits will not participate in the energy expectation value. Here, we've chosen the 4 qubits that won't participate to be 0, 6, 9, 15. You may pick different qubits."
   ]
  },
  {
   "cell_type": "code",
   "execution_count": 11,
   "id": "22017474-5890-44cd-821c-22ca1b143d6b",
   "metadata": {},
   "outputs": [
    {
     "data": {
      "image/png": "[encoded data removed]",
      "text/plain": [
       "<Figure size 640x480 with 1 Axes>"
      ]
     },
     "metadata": {},
     "output_type": "display_data"
    }
   ],
   "source": [
    "# Kagome unit cell\n",
    "num_qubits = 16\n",
    "# Edge weight\n",
    "t = 1.0\n",
    "\n",
    "# Generate graph of kagome unit cell\n",
    "# Start by defining all the edges\n",
    "graph_16 = rx.PyGraph(multigraph=False)\n",
    "graph_16.add_nodes_from(range(num_qubits))\n",
    "edge_list = [\n",
    "    (1, 2, t),\n",
    "    (2, 3, t),\n",
    "    (3, 5, t),\n",
    "    (5, 8, t),\n",
    "    (8, 11, t),\n",
    "    (11, 14, t),\n",
    "    (14, 13, t),\n",
    "    (13, 12, t),\n",
    "    (12, 10, t),\n",
    "    (10, 7, t),\n",
    "    (7, 4, t),\n",
    "    (4, 1, t),\n",
    "    (4, 2, t),\n",
    "    (2, 5, t),\n",
    "    (5, 11, t),\n",
    "    (11, 13, t),\n",
    "    (13, 10, t),\n",
    "    (10, 4, t),\n",
    "]\n",
    "# Generate graph from the list of edges\n",
    "graph_16.add_edges_from(edge_list)\n",
    "\n",
    "# Make a Lattice from graph\n",
    "kagome_unit_cell_16 = Lattice(graph_16)\n",
    "\n",
    "# Draw Lattice and include labels to check we exclude the right spins\n",
    "# Specify node locations for better visualizations\n",
    "kagome_pos = {0:[1,-1], 6:[1.5,-1], 9:[2,-1], 15:[2.5,-1], \n",
    "              1:[0,-0.8], 2:[-0.6,1], 4:[0.6,1], 10:[1.2,3], \n",
    "              13:[0.6,5], 11:[-0.6,5], 5:[-1.2,3], 3:[-1.8,0.9], \n",
    "              8:[-1.8,5.1], 14:[0,6.8], 7:[1.8,0.9], 12:[1.8,5.1]}\n",
    "kagome_unit_cell_16.draw(style={'with_labels':True, 'font_color':'white', 'node_color':'purple', 'pos':kagome_pos})\n",
    "plt.show()"
   ]
  },
  {
   "cell_type": "code",
   "execution_count": 12,
   "id": "a44d6279-a630-4e15-859c-a68dfbee6550",
   "metadata": {},
   "outputs": [
    {
     "data": {
      "text/plain": [
       "PauliSumOp(SparsePauliOp(['IZZIIIIIIIIIIIII', 'IIZZIIIIIIIIIIII', 'IZIIZIIIIIIIIIII', 'IIZIZIIIIIIIIIII', 'IIZIIZIIIIIIIIII', 'IIIZIZIIIIIIIIII', 'IIIIZIIZIIIIIIII', 'IIIIIZIIZIIIIIII', 'IIIIZIIIIIZIIIII', 'IIIIIIIZIIZIIIII', 'IIIIIZIIIIIZIIII', 'IIIIIIIIZIIZIIII', 'IIIIIIIIIIZIZIII', 'IIIIIIIIIIZIIZII', 'IIIIIIIIIIIZIZII', 'IIIIIIIIIIIIZZII', 'IIIIIIIIIIIZIIZI', 'IIIIIIIIIIIIIZZI', 'IYYIIIIIIIIIIIII', 'IIYYIIIIIIIIIIII', 'IYIIYIIIIIIIIIII', 'IIYIYIIIIIIIIIII', 'IIYIIYIIIIIIIIII', 'IIIYIYIIIIIIIIII', 'IIIIYIIYIIIIIIII', 'IIIIIYIIYIIIIIII', 'IIIIYIIIIIYIIIII', 'IIIIIIIYIIYIIIII', 'IIIIIYIIIIIYIIII', 'IIIIIIIIYIIYIIII', 'IIIIIIIIIIYIYIII', 'IIIIIIIIIIYIIYII', 'IIIIIIIIIIIYIYII', 'IIIIIIIIIIIIYYII', 'IIIIIIIIIIIYIIYI', 'IIIIIIIIIIIIIYYI', 'IXXIIIIIIIIIIIII', 'IIXXIIIIIIIIIIII', 'IXIIXIIIIIIIIIII', 'IIXIXIIIIIIIIIII', 'IIXIIXIIIIIIIIII', 'IIIXIXIIIIIIIIII', 'IIIIXIIXIIIIIIII', 'IIIIIXIIXIIIIIII', 'IIIIXIIIIIXIIIII', 'IIIIIIIXIIXIIIII', 'IIIIIXIIIIIXIIII', 'IIIIIIIIXIIXIIII', 'IIIIIIIIIIXIXIII', 'IIIIIIIIIIXIIXII', 'IIIIIIIIIIIXIXII', 'IIIIIIIIIIIIXXII', 'IIIIIIIIIIIXIIXI', 'IIIIIIIIIIIIIXXI'],\n",
       "              coeffs=[1.+0.j, 1.+0.j, 1.+0.j, 1.+0.j, 1.+0.j, 1.+0.j, 1.+0.j, 1.+0.j, 1.+0.j,\n",
       " 1.+0.j, 1.+0.j, 1.+0.j, 1.+0.j, 1.+0.j, 1.+0.j, 1.+0.j, 1.+0.j, 1.+0.j,\n",
       " 1.+0.j, 1.+0.j, 1.+0.j, 1.+0.j, 1.+0.j, 1.+0.j, 1.+0.j, 1.+0.j, 1.+0.j,\n",
       " 1.+0.j, 1.+0.j, 1.+0.j, 1.+0.j, 1.+0.j, 1.+0.j, 1.+0.j, 1.+0.j, 1.+0.j,\n",
       " 1.+0.j, 1.+0.j, 1.+0.j, 1.+0.j, 1.+0.j, 1.+0.j, 1.+0.j, 1.+0.j, 1.+0.j,\n",
       " 1.+0.j, 1.+0.j, 1.+0.j, 1.+0.j, 1.+0.j, 1.+0.j, 1.+0.j, 1.+0.j, 1.+0.j]), coeff=1)"
      ]
     },
     "execution_count": 12,
     "metadata": {},
     "output_type": "execute_result"
    }
   ],
   "source": [
    "# Build Hamiltonian from graph edges\n",
    "heis = HeisenbergModel.uniform_parameters(\n",
    "    lattice=kagome_unit_cell_16,\n",
    "    uniform_interaction=t,\n",
    "    uniform_onsite_potential=0.0,  # No singe site external field\n",
    ")\n",
    "\n",
    "# Map from SpinOp to qubits just as before.\n",
    "log_mapper = LogarithmicMapper()\n",
    "ham_16 = 4 * log_mapper.map(heis.second_q_ops().simplify())\n",
    "# Print Hamiltonian to check it's what we expect:\n",
    "# 18 ZZ, 18 YY, and 18 XX terms over 16 qubits instead of over 12 qubits\n",
    "ham_16"
   ]
  },
  {
   "cell_type": "code",
   "execution_count": 13,
   "id": "ad4e1ef0-3880-49f7-88f2-7763dd438068",
   "metadata": {},
   "outputs": [],
   "source": [
    "from qiskit.circuit.library import EfficientSU2"
   ]
  },
  {
   "cell_type": "code",
   "execution_count": 14,
   "id": "4a4cbe59-08d1-4175-bd23-3ebb8a9cd620",
   "metadata": {},
   "outputs": [
    {
     "data": {
      "text/html": [
       "<pre style=\"word-wrap: normal;white-space: pre;background: #fff0;line-height: 1.1;font-family: &quot;Courier New&quot;,Courier,monospace\">       ┌──────────┐┌───────────┐                                                                                                                                                                                    ┌───────────┐┌───────────┐                                                        »\n",
       " q_0: ─┤ Ry(θ[0]) ├┤ Rz(θ[12]) ├──■────■─────────■─────────■──────────────■──────────────■───────────────────■───────────────────■────────────────────────■────────────────────────■─────────────────────────────■──┤ Ry(θ[24]) ├┤ Rz(θ[36]) ├───────────────────────────────────────────■────────────»\n",
       "       ├──────────┤├───────────┤┌─┴─┐  │         │         │              │              │                   │                   │                        │                        │                             │  └───────────┘└───────────┘               ┌───────────┐┌───────────┐┌─┴─┐          »\n",
       " q_1: ─┤ Ry(θ[1]) ├┤ Rz(θ[13]) ├┤ X ├──┼────■────┼────■────┼─────────■────┼─────────■────┼──────────────■────┼──────────────■────┼───────────────────■────┼───────────────────■────┼────────────────────────■────┼────────────────────────────────────────■──┤ Ry(θ[25]) ├┤ Rz(θ[37]) ├┤ X ├──────────»\n",
       "       ├──────────┤├───────────┤└───┘┌─┴─┐┌─┴─┐  │    │    │         │    │         │    │              │    │              │    │                   │    │                   │    │                        │    │                                        │  └───────────┘└───────────┘└───┘          »\n",
       " q_2: ─┤ Ry(θ[2]) ├┤ Rz(θ[14]) ├─────┤ X ├┤ X ├──┼────┼────┼────■────┼────┼────■────┼────┼─────────■────┼────┼─────────■────┼────┼──────────────■────┼────┼──────────────■────┼────┼───────────────────■────┼────┼───────────────────────────────────■────┼────────────────────────────────────────■──»\n",
       "       ├──────────┤├───────────┤     └───┘└───┘┌─┴─┐┌─┴─┐  │  ┌─┴─┐  │    │    │    │    │         │    │    │         │    │    │              │    │    │              │    │    │                   │    │    │                                   │    │                                        │  »\n",
       " q_3: ─┤ Ry(θ[3]) ├┤ Rz(θ[15]) ├───────────────┤ X ├┤ X ├──┼──┤ X ├──┼────┼────┼────┼────┼────■────┼────┼────┼────■────┼────┼────┼─────────■────┼────┼────┼─────────■────┼────┼────┼──────────────■────┼────┼────┼──────────────────────────────■────┼────┼───────────────────────────────────■────┼──»\n",
       "       ├──────────┤├───────────┤               └───┘└───┘┌─┴─┐└───┘┌─┴─┐  │  ┌─┴─┐  │    │  ┌─┴─┐  │    │    │    │    │    │    │         │    │    │    │         │    │    │    │              │    │    │    │                              │    │    │                                   │    │  »\n",
       " q_4: ─┤ Ry(θ[4]) ├┤ Rz(θ[16]) ├─────────────────────────┤ X ├─────┤ X ├──┼──┤ X ├──┼────┼──┤ X ├──┼────┼────┼────┼────┼────┼────┼────■────┼────┼────┼────┼────■────┼────┼────┼────┼─────────■────┼────┼────┼────┼─────────────────────■────────┼────┼────┼──────────────────────────────■────┼────┼──»\n",
       "       ├──────────┤├───────────┤                         └───┘     └───┘┌─┴─┐└───┘┌─┴─┐  │  └───┘┌─┴─┐  │    │  ┌─┴─┐  │    │    │  ┌─┴─┐  │    │    │    │    │    │    │    │    │         │    │    │    │    │                     │        │    │    │                              │    │    │  »\n",
       " q_5: ─┤ Ry(θ[5]) ├┤ Rz(θ[17]) ├────────────────────────────────────────┤ X ├─────┤ X ├──┼───────┤ X ├──┼────┼──┤ X ├──┼────┼────┼──┤ X ├──┼────┼────┼────┼────┼────┼────┼────┼────┼────■────┼────┼────┼────┼────┼────────■────────────┼────────┼────┼────┼─────────────────────■────────┼────┼────┼──»\n",
       "       ├──────────┤├───────────┤                                        └───┘     └───┘┌─┴─┐     └───┘┌─┴─┐  │  └───┘┌─┴─┐  │    │  └───┘┌─┴─┐  │    │    │  ┌─┴─┐  │    │    │    │  ┌─┴─┐  │    │    │    │    │        │            │        │    │    │                     │        │    │    │  »\n",
       " q_6: ─┤ Ry(θ[6]) ├┤ Rz(θ[18]) ├───────────────────────────────────────────────────────┤ X ├──────────┤ X ├──┼───────┤ X ├──┼────┼───────┤ X ├──┼────┼────┼──┤ X ├──┼────┼────┼────┼──┤ X ├──┼────┼────┼────┼────┼────────┼────────────┼────────┼────┼────┼────────■────────────┼────────┼────┼────┼──»\n",
       "       ├──────────┤├───────────┤                                                       └───┘          └───┘┌─┴─┐     └───┘┌─┴─┐  │       └───┘┌─┴─┐  │    │  └───┘┌─┴─┐  │    │    │  └───┘┌─┴─┐  │    │    │    │      ┌─┴─┐          │        │    │    │      ┌─┴─┐          │        │    │    │  »\n",
       " q_7: ─┤ Ry(θ[7]) ├┤ Rz(θ[19]) ├───────────────────────────────────────────────────────────────────────────┤ X ├──────────┤ X ├──┼────────────┤ X ├──┼────┼───────┤ X ├──┼────┼────┼───────┤ X ├──┼────┼────┼────┼──────┤ X ├──────────┼────────┼────┼────┼──────┤ X ├──────────┼────────┼────┼────┼──»\n",
       "       ├──────────┤├───────────┤                                                                           └───┘          └───┘┌─┴─┐          └───┘┌─┴─┐  │       └───┘┌─┴─┐  │    │       └───┘┌─┴─┐  │    │    │      └───┘        ┌─┴─┐      │    │    │      └───┘        ┌─┴─┐      │    │    │  »\n",
       " q_8: ─┤ Ry(θ[8]) ├┤ Rz(θ[20]) ├───────────────────────────────────────────────────────────────────────────────────────────────┤ X ├───────────────┤ X ├──┼────────────┤ X ├──┼────┼────────────┤ X ├──┼────┼────┼───────────────────┤ X ├──────┼────┼────┼───────────────────┤ X ├──────┼────┼────┼──»\n",
       "       ├──────────┤├───────────┤                                                                                               └───┘               └───┘┌─┴─┐          └───┘┌─┴─┐  │            └───┘┌─┴─┐  │    │                   └───┘    ┌─┴─┐  │    │                   └───┘    ┌─┴─┐  │    │  »\n",
       " q_9: ─┤ Ry(θ[9]) ├┤ Rz(θ[21]) ├────────────────────────────────────────────────────────────────────────────────────────────────────────────────────────┤ X ├───────────────┤ X ├──┼─────────────────┤ X ├──┼────┼────────────────────────────┤ X ├──┼────┼────────────────────────────┤ X ├──┼────┼──»\n",
       "      ┌┴──────────┤├───────────┤                                                                                                                        └───┘               └───┘┌─┴─┐               └───┘┌─┴─┐  │                            └───┘┌─┴─┐  │                            └───┘┌─┴─┐  │  »\n",
       "q_10: ┤ Ry(θ[10]) ├┤ Rz(θ[22]) ├─────────────────────────────────────────────────────────────────────────────────────────────────────────────────────────────────────────────────┤ X ├────────────────────┤ X ├──┼─────────────────────────────────┤ X ├──┼─────────────────────────────────┤ X ├──┼──»\n",
       "      ├───────────┤├───────────┤                                                                                                                                                 └───┘                    └───┘┌─┴─┐                               └───┘┌─┴─┐                               └───┘┌─┴─┐»\n",
       "q_11: ┤ Ry(θ[11]) ├┤ Rz(θ[23]) ├───────────────────────────────────────────────────────────────────────────────────────────────────────────────────────────────────────────────────────────────────────────────┤ X ├────────────────────────────────────┤ X ├────────────────────────────────────┤ X ├»\n",
       "      └───────────┘└───────────┘                                                                                                                                                                               └───┘                                    └───┘                                    └───┘»\n",
       "«                                                                                                                                                                                                                                                                                                      »\n",
       "« q_0: ────────────────────────────■───────────────────────────────────■───────────────────────────────────■──────────────────────────────■──────────────────────────────────■──────────────────────────────────────■───────────────────────────────────────■────────────────────────■─────────────────»\n",
       "«                                  │                                   │                                   │                              │                                  │                                      │                                       │                        │                 »\n",
       "« q_1: ────────────────────────────┼────■──────────────────────────────┼────■──────────────────────────────┼────────■─────────────────────┼────────■─────────────────────────┼─────────────────────────■────────────┼──────────────────────────────────■────┼───────────────────■────┼─────────────────»\n",
       "«      ┌───────────┐┌───────────┐┌─┴─┐┌─┴─┐                            │    │                              │        │                     │        │                         │                         │            │                                  │    │                   │    │                 »\n",
       "« q_2: ┤ Ry(θ[26]) ├┤ Rz(θ[38]) ├┤ X ├┤ X ├────────────────────────────┼────┼────────■─────────────────────┼────────┼────────────■────────┼────────┼─────────────────────────┼────────────■────────────┼────────────┼─────────────────────────■────────┼────┼──────────────■────┼────┼──────────────■──»\n",
       "«      └───────────┘└───────────┘└───┘└───┘┌───────────┐┌───────────┐┌─┴─┐┌─┴─┐    ┌─┴─┐                   │        │            │        │        │                         │            │            │            │                         │        │    │              │    │    │              │  »\n",
       "« q_3: ─────────────────────────────────■──┤ Ry(θ[27]) ├┤ Rz(θ[39]) ├┤ X ├┤ X ├────┤ X ├───────────────────┼────────┼────────────┼────────┼────────┼────────────■────────────┼────────────┼────────────┼────────────┼────────────■────────────┼────────┼────┼─────────■────┼────┼────┼─────────■────┼──»\n",
       "«                                       │  └───────────┘└───────────┘└───┘└───┘┌───┴───┴───┐┌───────────┐┌─┴─┐    ┌─┴─┐        ┌─┴─┐      │        │          ┌─┴─┐          │            │            │            │            │            │        │    │         │    │    │    │         │    │  »\n",
       "« q_4: ────────────────────────────■────┼───────────────────────────────────■──┤ Ry(θ[28]) ├┤ Rz(θ[40]) ├┤ X ├────┤ X ├────────┤ X ├──────┼────────┼──────────┤ X ├──────────┼────────────┼────────────┼────────────┼────────────┼────────────┼────────┼────┼────■────┼────┼────┼────┼────■────┼────┼──»\n",
       "«                                  │    │                                   │  └───────────┘└───────────┘└───┘┌───┴───┴───┐┌───┴───┴───┐┌─┴─┐    ┌─┴─┐        └───┘          │          ┌─┴─┐          │            │          ┌─┴─┐          │        │    │  ┌─┴─┐  │    │    │    │    │    │    │  »\n",
       "« q_5: ───────────────────■────────┼────┼──────────────────────────────■────┼──────────────────────────────■──┤ Ry(θ[29]) ├┤ Rz(θ[41]) ├┤ X ├────┤ X ├───────────────────────┼──────────┤ X ├──────────┼────────────┼──────────┤ X ├──────────┼────────┼────┼──┤ X ├──┼────┼────┼────┼────┼────┼────┼──»\n",
       "«                         │        │    │                              │    │                              │  └───────────┘└───────────┘└───┘┌───┴───┴───┐┌───────────┐    ┌─┴─┐        └───┘        ┌─┴─┐          │          └───┘        ┌─┴─┐      │    │  └───┘┌─┴─┐  │    │    │  ┌─┴─┐  │    │  »\n",
       "« q_6: ──────■────────────┼────────┼────┼─────────────────────■────────┼────┼─────────────────────■────────┼──────────────────────────────■──┤ Ry(θ[30]) ├┤ Rz(θ[42]) ├────┤ X ├─────────────────────┤ X ├──────────┼───────────────────────┤ X ├──────┼────┼───────┤ X ├──┼────┼────┼──┤ X ├──┼────┼──»\n",
       "«            │            │        │    │                     │        │    │                     │        │                              │  └───────────┘└───────────┘┌───┴───┴───┐┌───────────┐    └───┘        ┌─┴─┐                     └───┘    ┌─┴─┐  │       └───┘┌─┴─┐  │    │  └───┘┌─┴─┐  │  »\n",
       "« q_7: ──────┼────────────┼────────┼────┼────────■────────────┼────────┼────┼────────■────────────┼────────┼─────────────────────■────────┼─────────────────────■──────┤ Ry(θ[31]) ├┤ Rz(θ[43]) ├─────────────────┤ X ├──────────────────────────────┤ X ├──┼────────────┤ X ├──┼────┼───────┤ X ├──┼──»\n",
       "«          ┌─┴─┐          │        │    │      ┌─┴─┐          │        │    │        │            │        │                     │        │                     │      └───────────┘└───────────┘┌───────────┐┌───┴───┴───┐                          └───┘┌─┴─┐          └───┘┌─┴─┐  │       └───┘┌─┴─┐»\n",
       "« q_8: ────┤ X ├──────────┼────────┼────┼──────┤ X ├──────────┼────────┼────┼────────┼────────────┼────────┼────────■────────────┼────────┼────────■────────────┼─────────────────────────■──────┤ Ry(θ[32]) ├┤ Rz(θ[44]) ├───────────────────────────────┤ X ├───────────────┤ X ├──┼────────────┤ X ├»\n",
       "«          └───┘        ┌─┴─┐      │    │      └───┘        ┌─┴─┐      │    │      ┌─┴─┐          │        │      ┌─┴─┐          │        │        │            │                         │      └───────────┘├───────────┤┌───────────┐                  └───┘               └───┘┌─┴─┐          └───┘»\n",
       "« q_9: ─────────────────┤ X ├──────┼────┼───────────────────┤ X ├──────┼────┼──────┤ X ├──────────┼────────┼──────┤ X ├──────────┼────────┼────────┼────────────┼────────────■────────────┼────────────■──────┤ Ry(θ[33]) ├┤ Rz(θ[45]) ├───────────────────────────────────────────┤ X ├───────────────»\n",
       "«                       └───┘    ┌─┴─┐  │                   └───┘    ┌─┴─┐  │      └───┘        ┌─┴─┐      │      └───┘        ┌─┴─┐      │      ┌─┴─┐          │          ┌─┴─┐          │            │      └───────────┘├───────────┤┌───────────┐                              └───┘               »\n",
       "«q_10: ──────────────────────────┤ X ├──┼────────────────────────────┤ X ├──┼───────────────────┤ X ├──────┼───────────────────┤ X ├──────┼──────┤ X ├──────────┼──────────┤ X ├──────────┼────────────┼────────────■──────┤ Ry(θ[34]) ├┤ Rz(θ[46]) ├──────────────────────────────────────────────────»\n",
       "«                                └───┘┌─┴─┐                          └───┘┌─┴─┐                 └───┘    ┌─┴─┐                 └───┘    ┌─┴─┐    └───┘        ┌─┴─┐        └───┘        ┌─┴─┐        ┌─┴─┐        ┌─┴─┐    ├───────────┤├───────────┤                                                  »\n",
       "«q_11: ───────────────────────────────┤ X ├───────────────────────────────┤ X ├──────────────────────────┤ X ├──────────────────────────┤ X ├─────────────────┤ X ├─────────────────────┤ X ├────────┤ X ├────────┤ X ├────┤ Ry(θ[35]) ├┤ Rz(θ[47]) ├──────────────────────────────────────────────────»\n",
       "«                                     └───┘                               └───┘                          └───┘                          └───┘                 └───┘                     └───┘        └───┘        └───┘    └───────────┘└───────────┘                                                  »\n",
       "«                                    ┌───────────┐┌───────────┐                                                                                                                                                                                                                                          »\n",
       "« q_0: ──■────────────────────────■──┤ Ry(θ[48]) ├┤ Rz(θ[60]) ├───────────────────────────────────────────■────────────────────────────────────────■───────────────────────────────────■───────────────────────────────────■──────────────────────────────■──────────────────────────────■───────────────»\n",
       "«        │                        │  └───────────┘└───────────┘               ┌───────────┐┌───────────┐┌─┴─┐                                      │                                   │                                   │                              │                              │               »\n",
       "« q_1: ──┼────■───────────────────┼────────■───────────────────────────────■──┤ Ry(θ[49]) ├┤ Rz(θ[61]) ├┤ X ├──────────────────────────────────────┼────■──────────────────────────────┼────■──────────────────────────────┼────────■─────────────────────┼────────■─────────────────────┼───────────────»\n",
       "«        │    │                   │        │                               │  └───────────┘└───────────┘└───┘          ┌───────────┐┌───────────┐┌─┴─┐┌─┴─┐                            │    │                              │        │                     │        │                     │               »\n",
       "« q_2: ──┼────┼───────────────────┼────────┼────────────■──────────────────┼────────■───────────────────────────────■──┤ Ry(θ[50]) ├┤ Rz(θ[62]) ├┤ X ├┤ X ├────────────────────────────┼────┼────────■─────────────────────┼────────┼────────────■────────┼────────┼─────────────────────┼────────■──────»\n",
       "«        │    │                   │        │            │                  │        │                               │  └───────────┘└───────────┘└───┘└───┘┌───────────┐┌───────────┐┌─┴─┐┌─┴─┐    ┌─┴─┐                   │        │            │        │        │                     │        │      »\n",
       "« q_3: ──┼────┼──────────────■────┼────────┼────────────┼──────────────────┼────────┼────────────■──────────────────┼────────■──────────────────────────■──┤ Ry(θ[51]) ├┤ Rz(θ[63]) ├┤ X ├┤ X ├────┤ X ├───────────────────┼────────┼────────────┼────────┼────────┼────────────■────────┼────────┼──────»\n",
       "«        │    │              │    │        │            │                  │        │            │                  │        │                          │  └───────────┘└───────────┘└───┘└───┘┌───┴───┴───┐┌───────────┐┌─┴─┐    ┌─┴─┐        ┌─┴─┐      │        │          ┌─┴─┐      │        │      »\n",
       "« q_4: ──┼────┼─────────■────┼────┼────────┼────────────┼─────────────■────┼────────┼────────────┼──────────────────┼────────┼────────────■─────────────┼────────■──────────────────────────■──┤ Ry(θ[52]) ├┤ Rz(θ[64]) ├┤ X ├────┤ X ├────────┤ X ├──────┼────────┼──────────┤ X ├──────┼────────┼──────»\n",
       "«        │    │         │    │    │        │            │             │    │        │            │                  │        │            │             │        │                          │  └───────────┘└───────────┘└───┘┌───┴───┴───┐┌───┴───┴───┐┌─┴─┐    ┌─┴─┐        └───┘      │      ┌─┴─┐    »\n",
       "« q_5: ──┼────┼────■────┼────┼────┼────────┼────────────┼────────■────┼────┼────────┼────────────┼─────────────■────┼────────┼────────────┼─────────────┼────────┼────────────■─────────────┼────────■─────────────────────■──┤ Ry(θ[53]) ├┤ Rz(θ[65]) ├┤ X ├────┤ X ├───────────────────┼──────┤ X ├────»\n",
       "«        │    │  ┌─┴─┐  │    │    │        │            │        │    │    │        │            │             │    │        │            │             │        │            │             │        │                     │  └───────────┘└───────────┘└───┘┌───┴───┴───┐┌───────────┐┌─┴─┐    └───┘    »\n",
       "« q_6: ──┼────┼──┤ X ├──┼────┼────┼────────┼────────────┼────────┼────┼────┼────────┼────────────┼────────■────┼────┼────────┼────────────┼────────■────┼────────┼────────────┼─────────────┼────────┼────────────■────────┼────────■─────────────────────■──┤ Ry(θ[54]) ├┤ Rz(θ[66]) ├┤ X ├─────────────»\n",
       "«        │    │  └───┘┌─┴─┐  │    │        │            │      ┌─┴─┐  │    │        │            │      ┌─┴─┐  │    │        │            │        │    │        │            │             │        │            │        │        │                     │  └───────────┘└───────────┘└───┘┌───────────┐»\n",
       "« q_7: ──┼────┼───────┤ X ├──┼────┼────────┼────────────┼──────┤ X ├──┼────┼────────┼────────────┼──────┤ X ├──┼────┼────────┼────────────┼────────┼────┼────────┼────────────┼────────■────┼────────┼────────────┼────────┼────────┼────────────■────────┼────────■─────────────────────■──┤ Ry(θ[55]) ├»\n",
       "«        │    │       └───┘┌─┴─┐  │        │            │      └───┘┌─┴─┐  │        │            │      └───┘┌─┴─┐  │        │            │      ┌─┴─┐  │        │            │      ┌─┴─┐  │        │            │        │        │            │        │        │                     │  └───────────┘»\n",
       "« q_8: ──┼────┼────────────┤ X ├──┼────────┼────────────┼───────────┤ X ├──┼────────┼────────────┼───────────┤ X ├──┼────────┼────────────┼──────┤ X ├──┼────────┼────────────┼──────┤ X ├──┼────────┼────────────┼────────┼────────┼────────────┼────────┼────────┼────────────■────────┼────────■──────»\n",
       "«        │  ┌─┴─┐          └───┘  │        │          ┌─┴─┐         └───┘  │        │          ┌─┴─┐         └───┘  │        │          ┌─┴─┐    └───┘  │        │          ┌─┴─┐    └───┘  │        │          ┌─┴─┐      │        │          ┌─┴─┐      │        │          ┌─┴─┐      │        │      »\n",
       "« q_9: ──┼──┤ X ├─────────────────┼────────┼──────────┤ X ├────────────────┼────────┼──────────┤ X ├────────────────┼────────┼──────────┤ X ├───────────┼────────┼──────────┤ X ├───────────┼────────┼──────────┤ X ├──────┼────────┼──────────┤ X ├──────┼────────┼──────────┤ X ├──────┼────────┼──────»\n",
       "«      ┌─┴─┐└───┘                 │      ┌─┴─┐        └───┘                │      ┌─┴─┐        └───┘                │      ┌─┴─┐        └───┘           │      ┌─┴─┐        └───┘           │      ┌─┴─┐        └───┘      │      ┌─┴─┐        └───┘      │      ┌─┴─┐        └───┘      │      ┌─┴─┐    »\n",
       "«q_10: ┤ X ├──────────────────────┼──────┤ X ├─────────────────────────────┼──────┤ X ├─────────────────────────────┼──────┤ X ├────────────────────────┼──────┤ X ├────────────────────────┼──────┤ X ├───────────────────┼──────┤ X ├───────────────────┼──────┤ X ├───────────────────┼──────┤ X ├────»\n",
       "«      └───┘                    ┌─┴─┐    └───┘                           ┌─┴─┐    └───┘                           ┌─┴─┐    └───┘                      ┌─┴─┐    └───┘                      ┌─┴─┐    └───┘                 ┌─┴─┐    └───┘                 ┌─┴─┐    └───┘                 ┌─┴─┐    └───┘    »\n",
       "«q_11: ─────────────────────────┤ X ├────────────────────────────────────┤ X ├────────────────────────────────────┤ X ├───────────────────────────────┤ X ├───────────────────────────────┤ X ├──────────────────────────┤ X ├──────────────────────────┤ X ├──────────────────────────┤ X ├─────────────»\n",
       "«                               └───┘                                    └───┘                                    └───┘                               └───┘                               └───┘                          └───┘                          └───┘                          └───┘             »\n",
       "«                                                                                                                                                                                                                                                                                                      »\n",
       "« q_0: ───────────────────■───────────────────────────────────────────────────■────────────────────────────■───────────────────■────────────────────────■──────────────────────────────────────────────────────────────────────────────────────────────────────────────────────────────────────────────»\n",
       "«                         │                                                   │                            │                   │                        │                                                                                                                                              »\n",
       "« q_1: ──────■────────────┼──────────────────────────────────────■────────────┼───────────────────────■────┼───────────────────┼────■───────────────────┼────■───────────────────■─────────────────────────────────────────────────────────────────────────────────────────────────────────────────────»\n",
       "«            │            │                                      │            │                       │    │                   │    │                   │    │                   │                                                                                                                     »\n",
       "« q_2: ──────┼────────────┼─────────────────────────■────────────┼────────────┼──────────────────■────┼────┼──────────────■────┼────┼───────────────────┼────┼────■──────────────┼────■───────────────────■────────────────────────────────────────────────────────────────────────────────────────────»\n",
       "«            │            │                         │            │            │                  │    │    │              │    │    │                   │    │    │              │    │                   │                                                                                            »\n",
       "« q_3: ──────┼────────────┼────────────■────────────┼────────────┼────────────┼─────────────■────┼────┼────┼─────────■────┼────┼────┼──────────────■────┼────┼────┼──────────────┼────┼────■──────────────┼────■──────────────■────────────────────────────────────────────────────────────────────────»\n",
       "«            │            │            │            │            │            │             │    │    │    │         │    │    │    │              │    │    │    │              │    │    │              │    │              │                                                                        »\n",
       "« q_4: ──────┼────────────┼────────────┼────────────┼────────────┼────────────┼────────■────┼────┼────┼────┼────■────┼────┼────┼────┼─────────■────┼────┼────┼────┼─────────■────┼────┼────┼──────────────┼────┼────■─────────┼────■──────────────■────────────────────────────────────────────────────»\n",
       "«            │            │          ┌─┴─┐          │            │            │      ┌─┴─┐  │    │    │    │    │    │    │    │    │         │    │    │    │    │         │    │    │    │              │    │    │         │    │              │                                                    »\n",
       "« q_5: ──────┼────────────┼──────────┤ X ├──────────┼────────────┼────────────┼──────┤ X ├──┼────┼────┼────┼────┼────┼────┼────┼────┼────■────┼────┼────┼────┼────┼────■────┼────┼────┼────┼─────────■────┼────┼────┼─────────┼────┼────■─────────┼────■─────────■─────────────────────────────────────»\n",
       "«          ┌─┴─┐          │          └───┘        ┌─┴─┐          │            │      └───┘┌─┴─┐  │    │    │  ┌─┴─┐  │    │    │    │  ┌─┴─┐  │    │    │    │    │    │    │    │    │    │         │    │    │    │         │    │    │         │    │         │                                     »\n",
       "« q_6: ────┤ X ├──────────┼───────────────────────┤ X ├──────────┼────────────┼───────────┤ X ├──┼────┼────┼──┤ X ├──┼────┼────┼────┼──┤ X ├──┼────┼────┼────┼────┼────┼────┼────┼────┼────┼────■────┼────┼────┼────┼────■────┼────┼────┼─────────┼────┼────■────┼────■─────────■──────────────────────»\n",
       "«      ┌───┴───┴───┐    ┌─┴─┐                     └───┘        ┌─┴─┐          │           └───┘┌─┴─┐  │    │  └───┘┌─┴─┐  │    │    │  └───┘┌─┴─┐  │    │    │    │  ┌─┴─┐  │    │    │    │  ┌─┴─┐  │    │    │    │    │    │    │    │         │    │    │    │    │         │                      »\n",
       "« q_7: ┤ Rz(θ[67]) ├────┤ X ├──────────────────────────────────┤ X ├──────────┼────────────────┤ X ├──┼────┼───────┤ X ├──┼────┼────┼───────┤ X ├──┼────┼────┼────┼──┤ X ├──┼────┼────┼────┼──┤ X ├──┼────┼────┼────┼────┼────┼────┼────┼────■────┼────┼────┼────┼────┼────■────┼────■─────────■───────»\n",
       "«      └───────────┘┌───┴───┴───┐┌───────────┐                 └───┘        ┌─┴─┐              └───┘┌─┴─┐  │       └───┘┌─┴─┐  │    │       └───┘┌─┴─┐  │    │    │  └───┘┌─┴─┐  │    │    │  └───┘┌─┴─┐  │    │    │  ┌─┴─┐  │    │    │  ┌─┴─┐  │    │    │    │    │    │    │    │         │       »\n",
       "« q_8: ──────■──────┤ Ry(θ[56]) ├┤ Rz(θ[68]) ├──────────────────────────────┤ X ├───────────────────┤ X ├──┼────────────┤ X ├──┼────┼────────────┤ X ├──┼────┼────┼───────┤ X ├──┼────┼────┼───────┤ X ├──┼────┼────┼──┤ X ├──┼────┼────┼──┤ X ├──┼────┼────┼────┼────┼────┼────┼────┼────■────┼────■──»\n",
       "«            │      └───────────┘└───────────┘┌───────────┐┌───────────┐    └───┘                   └───┘┌─┴─┐          └───┘  │  ┌─┴─┐          └───┘  │    │  ┌─┴─┐     └───┘  │    │  ┌─┴─┐     └───┘  │    │  ┌─┴─┐└───┘  │    │  ┌─┴─┐└───┘  │    │  ┌─┴─┐  │    │  ┌─┴─┐  │    │  ┌─┴─┐  │    │  »\n",
       "« q_9: ──────┼────────────■────────────■──────┤ Ry(θ[57]) ├┤ Rz(θ[69]) ├─────────────────────────────────┤ X ├─────────────────┼──┤ X ├─────────────────┼────┼──┤ X ├────────────┼────┼──┤ X ├────────────┼────┼──┤ X ├───────┼────┼──┤ X ├───────┼────┼──┤ X ├──┼────┼──┤ X ├──┼────┼──┤ X ├──┼────┼──»\n",
       "«            │          ┌─┴─┐          │      └───────────┘├───────────┤┌───────────┐                    └───┘               ┌─┴─┐└───┘                 │  ┌─┴─┐└───┘            │  ┌─┴─┐└───┘            │  ┌─┴─┐└───┘       │  ┌─┴─┐└───┘       │  ┌─┴─┐└───┘  │  ┌─┴─┐└───┘  │  ┌─┴─┐└───┘  │  ┌─┴─┐»\n",
       "«q_10: ──────┼──────────┤ X ├──────────┼────────────■──────┤ Ry(θ[58]) ├┤ Rz(θ[70]) ├────────────────────────────────────────┤ X ├──────────────────────┼──┤ X ├─────────────────┼──┤ X ├─────────────────┼──┤ X ├────────────┼──┤ X ├────────────┼──┤ X ├───────┼──┤ X ├───────┼──┤ X ├───────┼──┤ X ├»\n",
       "«          ┌─┴─┐        └───┘        ┌─┴─┐        ┌─┴─┐    ├───────────┤├───────────┤                                        └───┘                    ┌─┴─┐└───┘               ┌─┴─┐└───┘               ┌─┴─┐└───┘          ┌─┴─┐└───┘          ┌─┴─┐└───┘     ┌─┴─┐└───┘     ┌─┴─┐└───┘     ┌─┴─┐└───┘»\n",
       "«q_11: ────┤ X ├─────────────────────┤ X ├────────┤ X ├────┤ Ry(θ[59]) ├┤ Rz(θ[71]) ├─────────────────────────────────────────────────────────────────┤ X ├────────────────────┤ X ├────────────────────┤ X ├───────────────┤ X ├───────────────┤ X ├──────────┤ X ├──────────┤ X ├──────────┤ X ├─────»\n",
       "«          └───┘                     └───┘        └───┘    └───────────┘└───────────┘                                                                 └───┘                    └───┘                    └───┘               └───┘               └───┘          └───┘          └───┘          └───┘     »\n",
       "«                          \n",
       "« q_0: ────────────────────\n",
       "«                          \n",
       "« q_1: ────────────────────\n",
       "«                          \n",
       "« q_2: ────────────────────\n",
       "«                          \n",
       "« q_3: ────────────────────\n",
       "«                          \n",
       "« q_4: ────────────────────\n",
       "«                          \n",
       "« q_5: ────────────────────\n",
       "«                          \n",
       "« q_6: ────────────────────\n",
       "«                          \n",
       "« q_7: ────────────────────\n",
       "«                          \n",
       "« q_8: ──■─────────────────\n",
       "«        │                 \n",
       "« q_9: ──┼────■────■───────\n",
       "«        │  ┌─┴─┐  │       \n",
       "«q_10: ──┼──┤ X ├──┼────■──\n",
       "«      ┌─┴─┐└───┘┌─┴─┐┌─┴─┐\n",
       "«q_11: ┤ X ├─────┤ X ├┤ X ├\n",
       "«      └───┘     └───┘└───┘</pre>"
      ],
      "text/plain": [
       "       ┌──────────┐┌───────────┐                                                                                                                                                                                    ┌───────────┐┌───────────┐                                                        »\n",
       " q_0: ─┤ Ry(θ[0]) ├┤ Rz(θ[12]) ├──■────■─────────■─────────■──────────────■──────────────■───────────────────■───────────────────■────────────────────────■────────────────────────■─────────────────────────────■──┤ Ry(θ[24]) ├┤ Rz(θ[36]) ├───────────────────────────────────────────■────────────»\n",
       "       ├──────────┤├───────────┤┌─┴─┐  │         │         │              │              │                   │                   │                        │                        │                             │  └───────────┘└───────────┘               ┌───────────┐┌───────────┐┌─┴─┐          »\n",
       " q_1: ─┤ Ry(θ[1]) ├┤ Rz(θ[13]) ├┤ X ├──┼────■────┼────■────┼─────────■────┼─────────■────┼──────────────■────┼──────────────■────┼───────────────────■────┼───────────────────■────┼────────────────────────■────┼────────────────────────────────────────■──┤ Ry(θ[25]) ├┤ Rz(θ[37]) ├┤ X ├──────────»\n",
       "       ├──────────┤├───────────┤└───┘┌─┴─┐┌─┴─┐  │    │    │         │    │         │    │              │    │              │    │                   │    │                   │    │                        │    │                                        │  └───────────┘└───────────┘└───┘          »\n",
       " q_2: ─┤ Ry(θ[2]) ├┤ Rz(θ[14]) ├─────┤ X ├┤ X ├──┼────┼────┼────■────┼────┼────■────┼────┼─────────■────┼────┼─────────■────┼────┼──────────────■────┼────┼──────────────■────┼────┼───────────────────■────┼────┼───────────────────────────────────■────┼────────────────────────────────────────■──»\n",
       "       ├──────────┤├───────────┤     └───┘└───┘┌─┴─┐┌─┴─┐  │  ┌─┴─┐  │    │    │    │    │         │    │    │         │    │    │              │    │    │              │    │    │                   │    │    │                                   │    │                                        │  »\n",
       " q_3: ─┤ Ry(θ[3]) ├┤ Rz(θ[15]) ├───────────────┤ X ├┤ X ├──┼──┤ X ├──┼────┼────┼────┼────┼────■────┼────┼────┼────■────┼────┼────┼─────────■────┼────┼────┼─────────■────┼────┼────┼──────────────■────┼────┼────┼──────────────────────────────■────┼────┼───────────────────────────────────■────┼──»\n",
       "       ├──────────┤├───────────┤               └───┘└───┘┌─┴─┐└───┘┌─┴─┐  │  ┌─┴─┐  │    │  ┌─┴─┐  │    │    │    │    │    │    │         │    │    │    │         │    │    │    │              │    │    │    │                              │    │    │                                   │    │  »\n",
       " q_4: ─┤ Ry(θ[4]) ├┤ Rz(θ[16]) ├─────────────────────────┤ X ├─────┤ X ├──┼──┤ X ├──┼────┼──┤ X ├──┼────┼────┼────┼────┼────┼────┼────■────┼────┼────┼────┼────■────┼────┼────┼────┼─────────■────┼────┼────┼────┼─────────────────────■────────┼────┼────┼──────────────────────────────■────┼────┼──»\n",
       "       ├──────────┤├───────────┤                         └───┘     └───┘┌─┴─┐└───┘┌─┴─┐  │  └───┘┌─┴─┐  │    │  ┌─┴─┐  │    │    │  ┌─┴─┐  │    │    │    │    │    │    │    │    │         │    │    │    │    │                     │        │    │    │                              │    │    │  »\n",
       " q_5: ─┤ Ry(θ[5]) ├┤ Rz(θ[17]) ├────────────────────────────────────────┤ X ├─────┤ X ├──┼───────┤ X ├──┼────┼──┤ X ├──┼────┼────┼──┤ X ├──┼────┼────┼────┼────┼────┼────┼────┼────┼────■────┼────┼────┼────┼────┼────────■────────────┼────────┼────┼────┼─────────────────────■────────┼────┼────┼──»\n",
       "       ├──────────┤├───────────┤                                        └───┘     └───┘┌─┴─┐     └───┘┌─┴─┐  │  └───┘┌─┴─┐  │    │  └───┘┌─┴─┐  │    │    │  ┌─┴─┐  │    │    │    │  ┌─┴─┐  │    │    │    │    │        │            │        │    │    │                     │        │    │    │  »\n",
       " q_6: ─┤ Ry(θ[6]) ├┤ Rz(θ[18]) ├───────────────────────────────────────────────────────┤ X ├──────────┤ X ├──┼───────┤ X ├──┼────┼───────┤ X ├──┼────┼────┼──┤ X ├──┼────┼────┼────┼──┤ X ├──┼────┼────┼────┼────┼────────┼────────────┼────────┼────┼────┼────────■────────────┼────────┼────┼────┼──»\n",
       "       ├──────────┤├───────────┤                                                       └───┘          └───┘┌─┴─┐     └───┘┌─┴─┐  │       └───┘┌─┴─┐  │    │  └───┘┌─┴─┐  │    │    │  └───┘┌─┴─┐  │    │    │    │      ┌─┴─┐          │        │    │    │      ┌─┴─┐          │        │    │    │  »\n",
       " q_7: ─┤ Ry(θ[7]) ├┤ Rz(θ[19]) ├───────────────────────────────────────────────────────────────────────────┤ X ├──────────┤ X ├──┼────────────┤ X ├──┼────┼───────┤ X ├──┼────┼────┼───────┤ X ├──┼────┼────┼────┼──────┤ X ├──────────┼────────┼────┼────┼──────┤ X ├──────────┼────────┼────┼────┼──»\n",
       "       ├──────────┤├───────────┤                                                                           └───┘          └───┘┌─┴─┐          └───┘┌─┴─┐  │       └───┘┌─┴─┐  │    │       └───┘┌─┴─┐  │    │    │      └───┘        ┌─┴─┐      │    │    │      └───┘        ┌─┴─┐      │    │    │  »\n",
       " q_8: ─┤ Ry(θ[8]) ├┤ Rz(θ[20]) ├───────────────────────────────────────────────────────────────────────────────────────────────┤ X ├───────────────┤ X ├──┼────────────┤ X ├──┼────┼────────────┤ X ├──┼────┼────┼───────────────────┤ X ├──────┼────┼────┼───────────────────┤ X ├──────┼────┼────┼──»\n",
       "       ├──────────┤├───────────┤                                                                                               └───┘               └───┘┌─┴─┐          └───┘┌─┴─┐  │            └───┘┌─┴─┐  │    │                   └───┘    ┌─┴─┐  │    │                   └───┘    ┌─┴─┐  │    │  »\n",
       " q_9: ─┤ Ry(θ[9]) ├┤ Rz(θ[21]) ├────────────────────────────────────────────────────────────────────────────────────────────────────────────────────────┤ X ├───────────────┤ X ├──┼─────────────────┤ X ├──┼────┼────────────────────────────┤ X ├──┼────┼────────────────────────────┤ X ├──┼────┼──»\n",
       "      ┌┴──────────┤├───────────┤                                                                                                                        └───┘               └───┘┌─┴─┐               └───┘┌─┴─┐  │                            └───┘┌─┴─┐  │                            └───┘┌─┴─┐  │  »\n",
       "q_10: ┤ Ry(θ[10]) ├┤ Rz(θ[22]) ├─────────────────────────────────────────────────────────────────────────────────────────────────────────────────────────────────────────────────┤ X ├────────────────────┤ X ├──┼─────────────────────────────────┤ X ├──┼─────────────────────────────────┤ X ├──┼──»\n",
       "      ├───────────┤├───────────┤                                                                                                                                                 └───┘                    └───┘┌─┴─┐                               └───┘┌─┴─┐                               └───┘┌─┴─┐»\n",
       "q_11: ┤ Ry(θ[11]) ├┤ Rz(θ[23]) ├───────────────────────────────────────────────────────────────────────────────────────────────────────────────────────────────────────────────────────────────────────────────┤ X ├────────────────────────────────────┤ X ├────────────────────────────────────┤ X ├»\n",
       "      └───────────┘└───────────┘                                                                                                                                                                               └───┘                                    └───┘                                    └───┘»\n",
       "«                                                                                                                                                                                                                                                                                                      »\n",
       "« q_0: ────────────────────────────■───────────────────────────────────■───────────────────────────────────■──────────────────────────────■──────────────────────────────────■──────────────────────────────────────■───────────────────────────────────────■────────────────────────■─────────────────»\n",
       "«                                  │                                   │                                   │                              │                                  │                                      │                                       │                        │                 »\n",
       "« q_1: ────────────────────────────┼────■──────────────────────────────┼────■──────────────────────────────┼────────■─────────────────────┼────────■─────────────────────────┼─────────────────────────■────────────┼──────────────────────────────────■────┼───────────────────■────┼─────────────────»\n",
       "«      ┌───────────┐┌───────────┐┌─┴─┐┌─┴─┐                            │    │                              │        │                     │        │                         │                         │            │                                  │    │                   │    │                 »\n",
       "« q_2: ┤ Ry(θ[26]) ├┤ Rz(θ[38]) ├┤ X ├┤ X ├────────────────────────────┼────┼────────■─────────────────────┼────────┼────────────■────────┼────────┼─────────────────────────┼────────────■────────────┼────────────┼─────────────────────────■────────┼────┼──────────────■────┼────┼──────────────■──»\n",
       "«      └───────────┘└───────────┘└───┘└───┘┌───────────┐┌───────────┐┌─┴─┐┌─┴─┐    ┌─┴─┐                   │        │            │        │        │                         │            │            │            │                         │        │    │              │    │    │              │  »\n",
       "« q_3: ─────────────────────────────────■──┤ Ry(θ[27]) ├┤ Rz(θ[39]) ├┤ X ├┤ X ├────┤ X ├───────────────────┼────────┼────────────┼────────┼────────┼────────────■────────────┼────────────┼────────────┼────────────┼────────────■────────────┼────────┼────┼─────────■────┼────┼────┼─────────■────┼──»\n",
       "«                                       │  └───────────┘└───────────┘└───┘└───┘┌───┴───┴───┐┌───────────┐┌─┴─┐    ┌─┴─┐        ┌─┴─┐      │        │          ┌─┴─┐          │            │            │            │            │            │        │    │         │    │    │    │         │    │  »\n",
       "« q_4: ────────────────────────────■────┼───────────────────────────────────■──┤ Ry(θ[28]) ├┤ Rz(θ[40]) ├┤ X ├────┤ X ├────────┤ X ├──────┼────────┼──────────┤ X ├──────────┼────────────┼────────────┼────────────┼────────────┼────────────┼────────┼────┼────■────┼────┼────┼────┼────■────┼────┼──»\n",
       "«                                  │    │                                   │  └───────────┘└───────────┘└───┘┌───┴───┴───┐┌───┴───┴───┐┌─┴─┐    ┌─┴─┐        └───┘          │          ┌─┴─┐          │            │          ┌─┴─┐          │        │    │  ┌─┴─┐  │    │    │    │    │    │    │  »\n",
       "« q_5: ───────────────────■────────┼────┼──────────────────────────────■────┼──────────────────────────────■──┤ Ry(θ[29]) ├┤ Rz(θ[41]) ├┤ X ├────┤ X ├───────────────────────┼──────────┤ X ├──────────┼────────────┼──────────┤ X ├──────────┼────────┼────┼──┤ X ├──┼────┼────┼────┼────┼────┼────┼──»\n",
       "«                         │        │    │                              │    │                              │  └───────────┘└───────────┘└───┘┌───┴───┴───┐┌───────────┐    ┌─┴─┐        └───┘        ┌─┴─┐          │          └───┘        ┌─┴─┐      │    │  └───┘┌─┴─┐  │    │    │  ┌─┴─┐  │    │  »\n",
       "« q_6: ──────■────────────┼────────┼────┼─────────────────────■────────┼────┼─────────────────────■────────┼──────────────────────────────■──┤ Ry(θ[30]) ├┤ Rz(θ[42]) ├────┤ X ├─────────────────────┤ X ├──────────┼───────────────────────┤ X ├──────┼────┼───────┤ X ├──┼────┼────┼──┤ X ├──┼────┼──»\n",
       "«            │            │        │    │                     │        │    │                     │        │                              │  └───────────┘└───────────┘┌───┴───┴───┐┌───────────┐    └───┘        ┌─┴─┐                     └───┘    ┌─┴─┐  │       └───┘┌─┴─┐  │    │  └───┘┌─┴─┐  │  »\n",
       "« q_7: ──────┼────────────┼────────┼────┼────────■────────────┼────────┼────┼────────■────────────┼────────┼─────────────────────■────────┼─────────────────────■──────┤ Ry(θ[31]) ├┤ Rz(θ[43]) ├─────────────────┤ X ├──────────────────────────────┤ X ├──┼────────────┤ X ├──┼────┼───────┤ X ├──┼──»\n",
       "«          ┌─┴─┐          │        │    │      ┌─┴─┐          │        │    │        │            │        │                     │        │                     │      └───────────┘└───────────┘┌───────────┐┌───┴───┴───┐                          └───┘┌─┴─┐          └───┘┌─┴─┐  │       └───┘┌─┴─┐»\n",
       "« q_8: ────┤ X ├──────────┼────────┼────┼──────┤ X ├──────────┼────────┼────┼────────┼────────────┼────────┼────────■────────────┼────────┼────────■────────────┼─────────────────────────■──────┤ Ry(θ[32]) ├┤ Rz(θ[44]) ├───────────────────────────────┤ X ├───────────────┤ X ├──┼────────────┤ X ├»\n",
       "«          └───┘        ┌─┴─┐      │    │      └───┘        ┌─┴─┐      │    │      ┌─┴─┐          │        │      ┌─┴─┐          │        │        │            │                         │      └───────────┘├───────────┤┌───────────┐                  └───┘               └───┘┌─┴─┐          └───┘»\n",
       "« q_9: ─────────────────┤ X ├──────┼────┼───────────────────┤ X ├──────┼────┼──────┤ X ├──────────┼────────┼──────┤ X ├──────────┼────────┼────────┼────────────┼────────────■────────────┼────────────■──────┤ Ry(θ[33]) ├┤ Rz(θ[45]) ├───────────────────────────────────────────┤ X ├───────────────»\n",
       "«                       └───┘    ┌─┴─┐  │                   └───┘    ┌─┴─┐  │      └───┘        ┌─┴─┐      │      └───┘        ┌─┴─┐      │      ┌─┴─┐          │          ┌─┴─┐          │            │      └───────────┘├───────────┤┌───────────┐                              └───┘               »\n",
       "«q_10: ──────────────────────────┤ X ├──┼────────────────────────────┤ X ├──┼───────────────────┤ X ├──────┼───────────────────┤ X ├──────┼──────┤ X ├──────────┼──────────┤ X ├──────────┼────────────┼────────────■──────┤ Ry(θ[34]) ├┤ Rz(θ[46]) ├──────────────────────────────────────────────────»\n",
       "«                                └───┘┌─┴─┐                          └───┘┌─┴─┐                 └───┘    ┌─┴─┐                 └───┘    ┌─┴─┐    └───┘        ┌─┴─┐        └───┘        ┌─┴─┐        ┌─┴─┐        ┌─┴─┐    ├───────────┤├───────────┤                                                  »\n",
       "«q_11: ───────────────────────────────┤ X ├───────────────────────────────┤ X ├──────────────────────────┤ X ├──────────────────────────┤ X ├─────────────────┤ X ├─────────────────────┤ X ├────────┤ X ├────────┤ X ├────┤ Ry(θ[35]) ├┤ Rz(θ[47]) ├──────────────────────────────────────────────────»\n",
       "«                                     └───┘                               └───┘                          └───┘                          └───┘                 └───┘                     └───┘        └───┘        └───┘    └───────────┘└───────────┘                                                  »\n",
       "«                                    ┌───────────┐┌───────────┐                                                                                                                                                                                                                                          »\n",
       "« q_0: ──■────────────────────────■──┤ Ry(θ[48]) ├┤ Rz(θ[60]) ├───────────────────────────────────────────■────────────────────────────────────────■───────────────────────────────────■───────────────────────────────────■──────────────────────────────■──────────────────────────────■───────────────»\n",
       "«        │                        │  └───────────┘└───────────┘               ┌───────────┐┌───────────┐┌─┴─┐                                      │                                   │                                   │                              │                              │               »\n",
       "« q_1: ──┼────■───────────────────┼────────■───────────────────────────────■──┤ Ry(θ[49]) ├┤ Rz(θ[61]) ├┤ X ├──────────────────────────────────────┼────■──────────────────────────────┼────■──────────────────────────────┼────────■─────────────────────┼────────■─────────────────────┼───────────────»\n",
       "«        │    │                   │        │                               │  └───────────┘└───────────┘└───┘          ┌───────────┐┌───────────┐┌─┴─┐┌─┴─┐                            │    │                              │        │                     │        │                     │               »\n",
       "« q_2: ──┼────┼───────────────────┼────────┼────────────■──────────────────┼────────■───────────────────────────────■──┤ Ry(θ[50]) ├┤ Rz(θ[62]) ├┤ X ├┤ X ├────────────────────────────┼────┼────────■─────────────────────┼────────┼────────────■────────┼────────┼─────────────────────┼────────■──────»\n",
       "«        │    │                   │        │            │                  │        │                               │  └───────────┘└───────────┘└───┘└───┘┌───────────┐┌───────────┐┌─┴─┐┌─┴─┐    ┌─┴─┐                   │        │            │        │        │                     │        │      »\n",
       "« q_3: ──┼────┼──────────────■────┼────────┼────────────┼──────────────────┼────────┼────────────■──────────────────┼────────■──────────────────────────■──┤ Ry(θ[51]) ├┤ Rz(θ[63]) ├┤ X ├┤ X ├────┤ X ├───────────────────┼────────┼────────────┼────────┼────────┼────────────■────────┼────────┼──────»\n",
       "«        │    │              │    │        │            │                  │        │            │                  │        │                          │  └───────────┘└───────────┘└───┘└───┘┌───┴───┴───┐┌───────────┐┌─┴─┐    ┌─┴─┐        ┌─┴─┐      │        │          ┌─┴─┐      │        │      »\n",
       "« q_4: ──┼────┼─────────■────┼────┼────────┼────────────┼─────────────■────┼────────┼────────────┼──────────────────┼────────┼────────────■─────────────┼────────■──────────────────────────■──┤ Ry(θ[52]) ├┤ Rz(θ[64]) ├┤ X ├────┤ X ├────────┤ X ├──────┼────────┼──────────┤ X ├──────┼────────┼──────»\n",
       "«        │    │         │    │    │        │            │             │    │        │            │                  │        │            │             │        │                          │  └───────────┘└───────────┘└───┘┌───┴───┴───┐┌───┴───┴───┐┌─┴─┐    ┌─┴─┐        └───┘      │      ┌─┴─┐    »\n",
       "« q_5: ──┼────┼────■────┼────┼────┼────────┼────────────┼────────■────┼────┼────────┼────────────┼─────────────■────┼────────┼────────────┼─────────────┼────────┼────────────■─────────────┼────────■─────────────────────■──┤ Ry(θ[53]) ├┤ Rz(θ[65]) ├┤ X ├────┤ X ├───────────────────┼──────┤ X ├────»\n",
       "«        │    │  ┌─┴─┐  │    │    │        │            │        │    │    │        │            │             │    │        │            │             │        │            │             │        │                     │  └───────────┘└───────────┘└───┘┌───┴───┴───┐┌───────────┐┌─┴─┐    └───┘    »\n",
       "« q_6: ──┼────┼──┤ X ├──┼────┼────┼────────┼────────────┼────────┼────┼────┼────────┼────────────┼────────■────┼────┼────────┼────────────┼────────■────┼────────┼────────────┼─────────────┼────────┼────────────■────────┼────────■─────────────────────■──┤ Ry(θ[54]) ├┤ Rz(θ[66]) ├┤ X ├─────────────»\n",
       "«        │    │  └───┘┌─┴─┐  │    │        │            │      ┌─┴─┐  │    │        │            │      ┌─┴─┐  │    │        │            │        │    │        │            │             │        │            │        │        │                     │  └───────────┘└───────────┘└───┘┌───────────┐»\n",
       "« q_7: ──┼────┼───────┤ X ├──┼────┼────────┼────────────┼──────┤ X ├──┼────┼────────┼────────────┼──────┤ X ├──┼────┼────────┼────────────┼────────┼────┼────────┼────────────┼────────■────┼────────┼────────────┼────────┼────────┼────────────■────────┼────────■─────────────────────■──┤ Ry(θ[55]) ├»\n",
       "«        │    │       └───┘┌─┴─┐  │        │            │      └───┘┌─┴─┐  │        │            │      └───┘┌─┴─┐  │        │            │      ┌─┴─┐  │        │            │      ┌─┴─┐  │        │            │        │        │            │        │        │                     │  └───────────┘»\n",
       "« q_8: ──┼────┼────────────┤ X ├──┼────────┼────────────┼───────────┤ X ├──┼────────┼────────────┼───────────┤ X ├──┼────────┼────────────┼──────┤ X ├──┼────────┼────────────┼──────┤ X ├──┼────────┼────────────┼────────┼────────┼────────────┼────────┼────────┼────────────■────────┼────────■──────»\n",
       "«        │  ┌─┴─┐          └───┘  │        │          ┌─┴─┐         └───┘  │        │          ┌─┴─┐         └───┘  │        │          ┌─┴─┐    └───┘  │        │          ┌─┴─┐    └───┘  │        │          ┌─┴─┐      │        │          ┌─┴─┐      │        │          ┌─┴─┐      │        │      »\n",
       "« q_9: ──┼──┤ X ├─────────────────┼────────┼──────────┤ X ├────────────────┼────────┼──────────┤ X ├────────────────┼────────┼──────────┤ X ├───────────┼────────┼──────────┤ X ├───────────┼────────┼──────────┤ X ├──────┼────────┼──────────┤ X ├──────┼────────┼──────────┤ X ├──────┼────────┼──────»\n",
       "«      ┌─┴─┐└───┘                 │      ┌─┴─┐        └───┘                │      ┌─┴─┐        └───┘                │      ┌─┴─┐        └───┘           │      ┌─┴─┐        └───┘           │      ┌─┴─┐        └───┘      │      ┌─┴─┐        └───┘      │      ┌─┴─┐        └───┘      │      ┌─┴─┐    »\n",
       "«q_10: ┤ X ├──────────────────────┼──────┤ X ├─────────────────────────────┼──────┤ X ├─────────────────────────────┼──────┤ X ├────────────────────────┼──────┤ X ├────────────────────────┼──────┤ X ├───────────────────┼──────┤ X ├───────────────────┼──────┤ X ├───────────────────┼──────┤ X ├────»\n",
       "«      └───┘                    ┌─┴─┐    └───┘                           ┌─┴─┐    └───┘                           ┌─┴─┐    └───┘                      ┌─┴─┐    └───┘                      ┌─┴─┐    └───┘                 ┌─┴─┐    └───┘                 ┌─┴─┐    └───┘                 ┌─┴─┐    └───┘    »\n",
       "«q_11: ─────────────────────────┤ X ├────────────────────────────────────┤ X ├────────────────────────────────────┤ X ├───────────────────────────────┤ X ├───────────────────────────────┤ X ├──────────────────────────┤ X ├──────────────────────────┤ X ├──────────────────────────┤ X ├─────────────»\n",
       "«                               └───┘                                    └───┘                                    └───┘                               └───┘                               └───┘                          └───┘                          └───┘                          └───┘             »\n",
       "«                                                                                                                                                                                                                                                                                                      »\n",
       "« q_0: ───────────────────■───────────────────────────────────────────────────■────────────────────────────■───────────────────■────────────────────────■──────────────────────────────────────────────────────────────────────────────────────────────────────────────────────────────────────────────»\n",
       "«                         │                                                   │                            │                   │                        │                                                                                                                                              »\n",
       "« q_1: ──────■────────────┼──────────────────────────────────────■────────────┼───────────────────────■────┼───────────────────┼────■───────────────────┼────■───────────────────■─────────────────────────────────────────────────────────────────────────────────────────────────────────────────────»\n",
       "«            │            │                                      │            │                       │    │                   │    │                   │    │                   │                                                                                                                     »\n",
       "« q_2: ──────┼────────────┼─────────────────────────■────────────┼────────────┼──────────────────■────┼────┼──────────────■────┼────┼───────────────────┼────┼────■──────────────┼────■───────────────────■────────────────────────────────────────────────────────────────────────────────────────────»\n",
       "«            │            │                         │            │            │                  │    │    │              │    │    │                   │    │    │              │    │                   │                                                                                            »\n",
       "« q_3: ──────┼────────────┼────────────■────────────┼────────────┼────────────┼─────────────■────┼────┼────┼─────────■────┼────┼────┼──────────────■────┼────┼────┼──────────────┼────┼────■──────────────┼────■──────────────■────────────────────────────────────────────────────────────────────────»\n",
       "«            │            │            │            │            │            │             │    │    │    │         │    │    │    │              │    │    │    │              │    │    │              │    │              │                                                                        »\n",
       "« q_4: ──────┼────────────┼────────────┼────────────┼────────────┼────────────┼────────■────┼────┼────┼────┼────■────┼────┼────┼────┼─────────■────┼────┼────┼────┼─────────■────┼────┼────┼──────────────┼────┼────■─────────┼────■──────────────■────────────────────────────────────────────────────»\n",
       "«            │            │          ┌─┴─┐          │            │            │      ┌─┴─┐  │    │    │    │    │    │    │    │    │         │    │    │    │    │         │    │    │    │              │    │    │         │    │              │                                                    »\n",
       "« q_5: ──────┼────────────┼──────────┤ X ├──────────┼────────────┼────────────┼──────┤ X ├──┼────┼────┼────┼────┼────┼────┼────┼────┼────■────┼────┼────┼────┼────┼────■────┼────┼────┼────┼─────────■────┼────┼────┼─────────┼────┼────■─────────┼────■─────────■─────────────────────────────────────»\n",
       "«          ┌─┴─┐          │          └───┘        ┌─┴─┐          │            │      └───┘┌─┴─┐  │    │    │  ┌─┴─┐  │    │    │    │  ┌─┴─┐  │    │    │    │    │    │    │    │    │    │         │    │    │    │         │    │    │         │    │         │                                     »\n",
       "« q_6: ────┤ X ├──────────┼───────────────────────┤ X ├──────────┼────────────┼───────────┤ X ├──┼────┼────┼──┤ X ├──┼────┼────┼────┼──┤ X ├──┼────┼────┼────┼────┼────┼────┼────┼────┼────┼────■────┼────┼────┼────┼────■────┼────┼────┼─────────┼────┼────■────┼────■─────────■──────────────────────»\n",
       "«      ┌───┴───┴───┐    ┌─┴─┐                     └───┘        ┌─┴─┐          │           └───┘┌─┴─┐  │    │  └───┘┌─┴─┐  │    │    │  └───┘┌─┴─┐  │    │    │    │  ┌─┴─┐  │    │    │    │  ┌─┴─┐  │    │    │    │    │    │    │    │         │    │    │    │    │         │                      »\n",
       "« q_7: ┤ Rz(θ[67]) ├────┤ X ├──────────────────────────────────┤ X ├──────────┼────────────────┤ X ├──┼────┼───────┤ X ├──┼────┼────┼───────┤ X ├──┼────┼────┼────┼──┤ X ├──┼────┼────┼────┼──┤ X ├──┼────┼────┼────┼────┼────┼────┼────┼────■────┼────┼────┼────┼────┼────■────┼────■─────────■───────»\n",
       "«      └───────────┘┌───┴───┴───┐┌───────────┐                 └───┘        ┌─┴─┐              └───┘┌─┴─┐  │       └───┘┌─┴─┐  │    │       └───┘┌─┴─┐  │    │    │  └───┘┌─┴─┐  │    │    │  └───┘┌─┴─┐  │    │    │  ┌─┴─┐  │    │    │  ┌─┴─┐  │    │    │    │    │    │    │    │         │       »\n",
       "« q_8: ──────■──────┤ Ry(θ[56]) ├┤ Rz(θ[68]) ├──────────────────────────────┤ X ├───────────────────┤ X ├──┼────────────┤ X ├──┼────┼────────────┤ X ├──┼────┼────┼───────┤ X ├──┼────┼────┼───────┤ X ├──┼────┼────┼──┤ X ├──┼────┼────┼──┤ X ├──┼────┼────┼────┼────┼────┼────┼────┼────■────┼────■──»\n",
       "«            │      └───────────┘└───────────┘┌───────────┐┌───────────┐    └───┘                   └───┘┌─┴─┐          └───┘  │  ┌─┴─┐          └───┘  │    │  ┌─┴─┐     └───┘  │    │  ┌─┴─┐     └───┘  │    │  ┌─┴─┐└───┘  │    │  ┌─┴─┐└───┘  │    │  ┌─┴─┐  │    │  ┌─┴─┐  │    │  ┌─┴─┐  │    │  »\n",
       "« q_9: ──────┼────────────■────────────■──────┤ Ry(θ[57]) ├┤ Rz(θ[69]) ├─────────────────────────────────┤ X ├─────────────────┼──┤ X ├─────────────────┼────┼──┤ X ├────────────┼────┼──┤ X ├────────────┼────┼──┤ X ├───────┼────┼──┤ X ├───────┼────┼──┤ X ├──┼────┼──┤ X ├──┼────┼──┤ X ├──┼────┼──»\n",
       "«            │          ┌─┴─┐          │      └───────────┘├───────────┤┌───────────┐                    └───┘               ┌─┴─┐└───┘                 │  ┌─┴─┐└───┘            │  ┌─┴─┐└───┘            │  ┌─┴─┐└───┘       │  ┌─┴─┐└───┘       │  ┌─┴─┐└───┘  │  ┌─┴─┐└───┘  │  ┌─┴─┐└───┘  │  ┌─┴─┐»\n",
       "«q_10: ──────┼──────────┤ X ├──────────┼────────────■──────┤ Ry(θ[58]) ├┤ Rz(θ[70]) ├────────────────────────────────────────┤ X ├──────────────────────┼──┤ X ├─────────────────┼──┤ X ├─────────────────┼──┤ X ├────────────┼──┤ X ├────────────┼──┤ X ├───────┼──┤ X ├───────┼──┤ X ├───────┼──┤ X ├»\n",
       "«          ┌─┴─┐        └───┘        ┌─┴─┐        ┌─┴─┐    ├───────────┤├───────────┤                                        └───┘                    ┌─┴─┐└───┘               ┌─┴─┐└───┘               ┌─┴─┐└───┘          ┌─┴─┐└───┘          ┌─┴─┐└───┘     ┌─┴─┐└───┘     ┌─┴─┐└───┘     ┌─┴─┐└───┘»\n",
       "«q_11: ────┤ X ├─────────────────────┤ X ├────────┤ X ├────┤ Ry(θ[59]) ├┤ Rz(θ[71]) ├─────────────────────────────────────────────────────────────────┤ X ├────────────────────┤ X ├────────────────────┤ X ├───────────────┤ X ├───────────────┤ X ├──────────┤ X ├──────────┤ X ├──────────┤ X ├─────»\n",
       "«          └───┘                     └───┘        └───┘    └───────────┘└───────────┘                                                                 └───┘                    └───┘                    └───┘               └───┘               └───┘          └───┘          └───┘          └───┘     »\n",
       "«                          \n",
       "« q_0: ────────────────────\n",
       "«                          \n",
       "« q_1: ────────────────────\n",
       "«                          \n",
       "« q_2: ────────────────────\n",
       "«                          \n",
       "« q_3: ────────────────────\n",
       "«                          \n",
       "« q_4: ────────────────────\n",
       "«                          \n",
       "« q_5: ────────────────────\n",
       "«                          \n",
       "« q_6: ────────────────────\n",
       "«                          \n",
       "« q_7: ────────────────────\n",
       "«                          \n",
       "« q_8: ──■─────────────────\n",
       "«        │                 \n",
       "« q_9: ──┼────■────■───────\n",
       "«        │  ┌─┴─┐  │       \n",
       "«q_10: ──┼──┤ X ├──┼────■──\n",
       "«      ┌─┴─┐└───┘┌─┴─┐┌─┴─┐\n",
       "«q_11: ┤ X ├─────┤ X ├┤ X ├\n",
       "«      └───┘     └───┘└───┘"
      ]
     },
     "execution_count": 14,
     "metadata": {},
     "output_type": "execute_result"
    }
   ],
   "source": [
    "# Construct ansatz from qiskit circuit library functions\n",
    "# See docs for full details\n",
    "ansatz = EfficientSU2(12, entanglement='full', reps=3, skip_final_rotation_layer=True).decompose()\n",
    "ansatz.draw(fold=300)"
   ]
  },
  {
   "cell_type": "markdown",
   "id": "bf77fa73-acdf-4b9f-8808-8eb7284512eb",
   "metadata": {},
   "source": [
    "Here's an example of building a custom ansatz. We'll continue using this one for the rest of the notebook."
   ]
  },
  {
   "cell_type": "code",
   "execution_count": 15,
   "id": "b9c0727e-502b-43a8-8717-f19e09f6c3e0",
   "metadata": {},
   "outputs": [
    {
     "data": {
      "text/html": [
       "<pre style=\"word-wrap: normal;white-space: pre;background: #fff0;line-height: 1.1;font-family: &quot;Courier New&quot;,Courier,monospace\">      ┌───┐┌───┐                         ┌───────────┐             ┌───────────┐                         ┌─────────────┐┌─────────────┐\n",
       " q_0: ┤ X ├┤ H ├──■───■──────────────────┤1          ├─────────────┤1          ├──────────────■──────────┤0            ├┤0            ├\n",
       "      ├───┤└───┘┌─┴─┐ │                  │           │┌───────────┐│           │┌───────────┐ │ZZ(gamma) │  Ryy(gamma) ││  Rxx(gamma) │\n",
       " q_1: ┤ X ├─────┤ X ├─┼─────────■────────┤           ├┤0          ├┤           ├┤0          ├─■──────────┤1            ├┤1            ├\n",
       "      ├───┤┌───┐└───┘ │         │ZZ(phi) │           ││  Ryy(phi) ││           ││  Rxx(phi) │            ├─────────────┤├─────────────┤\n",
       " q_2: ┤ X ├┤ H ├──■───┼─────────■────────┤           ├┤1          ├┤           ├┤1          ├─■──────────┤0            ├┤0            ├\n",
       "      ├───┤└───┘┌─┴─┐ │                  │           │├───────────┤│           │├───────────┤ │ZZ(gamma) │  Ryy(gamma) ││  Rxx(gamma) │\n",
       " q_3: ┤ X ├─────┤ X ├─┼─────────■────────┤           ├┤0          ├┤           ├┤0          ├─■──────────┤1            ├┤1            ├\n",
       "      ├───┤┌───┐└───┘ │         │ZZ(phi) │           ││  Ryy(phi) ││           ││  Rxx(phi) │            ├─────────────┤├─────────────┤\n",
       " q_4: ┤ X ├┤ H ├──■───┼─────────■────────┤           ├┤1          ├┤           ├┤1          ├─■──────────┤0            ├┤0            ├\n",
       "      ├───┤└───┘┌─┴─┐ │                  │           │├───────────┤│           │├───────────┤ │ZZ(gamma) │  Ryy(gamma) ││  Rxx(gamma) │\n",
       " q_5: ┤ X ├─────┤ X ├─┼─────────■────────┤           ├┤0          ├┤           ├┤0          ├─■──────────┤1            ├┤1            ├\n",
       "      ├───┤┌───┐└───┘ │         │ZZ(phi) │  Ryy(phi) ││  Ryy(phi) ││  Rxx(phi) ││  Rxx(phi) │            ├─────────────┤├─────────────┤\n",
       " q_6: ┤ X ├┤ H ├──■───┼─────────■────────┤           ├┤1          ├┤           ├┤1          ├─■──────────┤0            ├┤0            ├\n",
       "      ├───┤└───┘┌─┴─┐ │                  │           │├───────────┤│           │├───────────┤ │ZZ(gamma) │  Ryy(gamma) ││  Rxx(gamma) │\n",
       " q_7: ┤ X ├─────┤ X ├─┼─────────■────────┤           ├┤0          ├┤           ├┤0          ├─■──────────┤1            ├┤1            ├\n",
       "      ├───┤┌───┐└───┘ │         │ZZ(phi) │           ││  Ryy(phi) ││           ││  Rxx(phi) │            ├─────────────┤├─────────────┤\n",
       " q_8: ┤ X ├┤ H ├──■───┼─────────■────────┤           ├┤1          ├┤           ├┤1          ├─■──────────┤0            ├┤0            ├\n",
       "      ├───┤└───┘┌─┴─┐ │                  │           │├───────────┤│           │├───────────┤ │ZZ(gamma) │  Ryy(gamma) ││  Rxx(gamma) │\n",
       " q_9: ┤ X ├─────┤ X ├─┼─────────■────────┤           ├┤0          ├┤           ├┤0          ├─■──────────┤1            ├┤1            ├\n",
       "      ├───┤┌───┐└───┘ │         │ZZ(phi) │           ││  Ryy(phi) ││           ││  Rxx(phi) │            ├─────────────┤├─────────────┤\n",
       "q_10: ┤ X ├┤ H ├──■───┼─────────■────────┤           ├┤1          ├┤           ├┤1          ├─■──────────┤0            ├┤0            ├\n",
       "      ├───┤└───┘┌─┴─┐ │ZZ(phi)           │           │└───────────┘│           │└───────────┘ │ZZ(gamma) │  Ryy(gamma) ││  Rxx(gamma) │\n",
       "q_11: ┤ X ├─────┤ X ├─■──────────────────┤0          ├─────────────┤0          ├──────────────■──────────┤1            ├┤1            ├\n",
       "      └───┘     └───┘                    └───────────┘             └───────────┘                         └─────────────┘└─────────────┘</pre>"
      ],
      "text/plain": [
       "      ┌───┐┌───┐                         ┌───────────┐             ┌───────────┐                         ┌─────────────┐┌─────────────┐\n",
       " q_0: ┤ X ├┤ H ├──■───■──────────────────┤1          ├─────────────┤1          ├──────────────■──────────┤0            ├┤0            ├\n",
       "      ├───┤└───┘┌─┴─┐ │                  │           │┌───────────┐│           │┌───────────┐ │ZZ(gamma) │  Ryy(gamma) ││  Rxx(gamma) │\n",
       " q_1: ┤ X ├─────┤ X ├─┼─────────■────────┤           ├┤0          ├┤           ├┤0          ├─■──────────┤1            ├┤1            ├\n",
       "      ├───┤┌───┐└───┘ │         │ZZ(phi) │           ││  Ryy(phi) ││           ││  Rxx(phi) │            ├─────────────┤├─────────────┤\n",
       " q_2: ┤ X ├┤ H ├──■───┼─────────■────────┤           ├┤1          ├┤           ├┤1          ├─■──────────┤0            ├┤0            ├\n",
       "      ├───┤└───┘┌─┴─┐ │                  │           │├───────────┤│           │├───────────┤ │ZZ(gamma) │  Ryy(gamma) ││  Rxx(gamma) │\n",
       " q_3: ┤ X ├─────┤ X ├─┼─────────■────────┤           ├┤0          ├┤           ├┤0          ├─■──────────┤1            ├┤1            ├\n",
       "      ├───┤┌───┐└───┘ │         │ZZ(phi) │           ││  Ryy(phi) ││           ││  Rxx(phi) │            ├─────────────┤├─────────────┤\n",
       " q_4: ┤ X ├┤ H ├──■───┼─────────■────────┤           ├┤1          ├┤           ├┤1          ├─■──────────┤0            ├┤0            ├\n",
       "      ├───┤└───┘┌─┴─┐ │                  │           │├───────────┤│           │├───────────┤ │ZZ(gamma) │  Ryy(gamma) ││  Rxx(gamma) │\n",
       " q_5: ┤ X ├─────┤ X ├─┼─────────■────────┤           ├┤0          ├┤           ├┤0          ├─■──────────┤1            ├┤1            ├\n",
       "      ├───┤┌───┐└───┘ │         │ZZ(phi) │  Ryy(phi) ││  Ryy(phi) ││  Rxx(phi) ││  Rxx(phi) │            ├─────────────┤├─────────────┤\n",
       " q_6: ┤ X ├┤ H ├──■───┼─────────■────────┤           ├┤1          ├┤           ├┤1          ├─■──────────┤0            ├┤0            ├\n",
       "      ├───┤└───┘┌─┴─┐ │                  │           │├───────────┤│           │├───────────┤ │ZZ(gamma) │  Ryy(gamma) ││  Rxx(gamma) │\n",
       " q_7: ┤ X ├─────┤ X ├─┼─────────■────────┤           ├┤0          ├┤           ├┤0          ├─■──────────┤1            ├┤1            ├\n",
       "      ├───┤┌───┐└───┘ │         │ZZ(phi) │           ││  Ryy(phi) ││           ││  Rxx(phi) │            ├─────────────┤├─────────────┤\n",
       " q_8: ┤ X ├┤ H ├──■───┼─────────■────────┤           ├┤1          ├┤           ├┤1          ├─■──────────┤0            ├┤0            ├\n",
       "      ├───┤└───┘┌─┴─┐ │                  │           │├───────────┤│           │├───────────┤ │ZZ(gamma) │  Ryy(gamma) ││  Rxx(gamma) │\n",
       " q_9: ┤ X ├─────┤ X ├─┼─────────■────────┤           ├┤0          ├┤           ├┤0          ├─■──────────┤1            ├┤1            ├\n",
       "      ├───┤┌───┐└───┘ │         │ZZ(phi) │           ││  Ryy(phi) ││           ││  Rxx(phi) │            ├─────────────┤├─────────────┤\n",
       "q_10: ┤ X ├┤ H ├──■───┼─────────■────────┤           ├┤1          ├┤           ├┤1          ├─■──────────┤0            ├┤0            ├\n",
       "      ├───┤└───┘┌─┴─┐ │ZZ(phi)           │           │└───────────┘│           │└───────────┘ │ZZ(gamma) │  Ryy(gamma) ││  Rxx(gamma) │\n",
       "q_11: ┤ X ├─────┤ X ├─■──────────────────┤0          ├─────────────┤0          ├──────────────■──────────┤1            ├┤1            ├\n",
       "      └───┘     └───┘                    └───────────┘             └───────────┘                         └─────────────┘└─────────────┘"
      ]
     },
     "execution_count": 15,
     "metadata": {},
     "output_type": "execute_result"
    }
   ],
   "source": [
    "p = 1\n",
    "phi = Parameter('phi')\n",
    "gamma = Parameter('gamma')\n",
    "\n",
    "n = 12\n",
    "# Build a custom ansatz from scratch\n",
    "ansatz_custom = QuantumCircuit(n)\n",
    "\n",
    "# build initial state\n",
    "for i in range(0,n):\n",
    "    ansatz_custom.x(i)\n",
    "\n",
    "# build bell state\n",
    "for i in range(0,n):\n",
    "    if i % 2 == 0:\n",
    "        ansatz_custom.h(i)\n",
    "        ansatz_custom.cx(i,i+1)\n",
    "\n",
    "# loop for number of layer\n",
    "for j in range(p):\n",
    "    # odd Hamiltonian\n",
    "    for i in range(n-1,0,-2):\n",
    "        if i < n-1:\n",
    "            ansatz_custom.rzz(phi,i,i+1)\n",
    "            ansatz_custom.ryy(phi,i,i+1)\n",
    "            ansatz_custom.rxx(phi,i,i+1)\n",
    "        else:\n",
    "            ansatz_custom.rzz(phi,i,0)\n",
    "            ansatz_custom.ryy(phi,i,0)\n",
    "            ansatz_custom.rxx(phi,i,0)\n",
    "\n",
    "    # even Hamiltonian\n",
    "    for i in range(0,n,2):\n",
    "        ansatz_custom.rzz(gamma,i,i+1)\n",
    "        ansatz_custom.ryy(gamma,i,i+1)\n",
    "        ansatz_custom.rxx(gamma,i,i+1)\n",
    "    # ansatz_custom.barrier()\n",
    "\n",
    "\n",
    "ansatz_custom.decompose()\n",
    "ansatz_custom.draw(fold=250)"
   ]
  },
  {
   "cell_type": "code",
   "execution_count": 19,
   "id": "5147316e",
   "metadata": {},
   "outputs": [],
   "source": [
    "import string\n",
    "import random\n",
    "\n",
    "def rvb_circ():\n",
    "    circ = QuantumCircuit(2)\n",
    "    circ.cnot(1, 0)\n",
    "    #circ.crx(phi, control_qubit=0, target_qubit=1)\n",
    "    circ.crx(Parameter(''.join(random.choices(string.ascii_uppercase +\n",
    "                           string.digits, k=7))), control_qubit=0, target_qubit=1)\n",
    "    circ.x(0)\n",
    "    #circ.rz(-phi/2, 0)\n",
    "    #circ.x(0)\n",
    "    circ.rz(-Parameter(''.join(random.choices(string.ascii_uppercase +\n",
    "                            string.digits, k=7)))/2, 0)\n",
    "   \n",
    "    circ.cnot(1,0)\n",
    "    return circ.to_gate()"
   ]
  },
  {
   "cell_type": "markdown",
   "id": "ea718658",
   "metadata": {},
   "source": [
    "Trying resonating-valence-bond ansatz"
   ]
  },
  {
   "cell_type": "code",
   "execution_count": 20,
   "id": "96aa799e",
   "metadata": {},
   "outputs": [
    {
     "data": {
      "text/html": [
       "<pre style=\"word-wrap: normal;white-space: pre;background: #fff0;line-height: 1.1;font-family: &quot;Courier New&quot;,Courier,monospace\">                                                       \n",
       "q_0: ──────────────────────────────────────────────────\n",
       "     ┌───┐               ┌───┐┌──────────────────┐┌───┐\n",
       "q_1: ┤ X ├───────■───────┤ X ├┤ Rz(-0.5*V8CEIHN) ├┤ X ├\n",
       "     └─┬─┘       │       └───┘└──────────────────┘└─┬─┘\n",
       "q_2: ──┼─────────┼──────────────────────────────────┼──\n",
       "       │  ┌──────┴──────┐                           │  \n",
       "q_3: ──■──┤ Rx(VD4KIER) ├───────────────────────────■──\n",
       "          └─────────────┘                              </pre>"
      ],
      "text/plain": [
       "                                                       \n",
       "q_0: ──────────────────────────────────────────────────\n",
       "     ┌───┐               ┌───┐┌──────────────────┐┌───┐\n",
       "q_1: ┤ X ├───────■───────┤ X ├┤ Rz(-0.5*V8CEIHN) ├┤ X ├\n",
       "     └─┬─┘       │       └───┘└──────────────────┘└─┬─┘\n",
       "q_2: ──┼─────────┼──────────────────────────────────┼──\n",
       "       │  ┌──────┴──────┐                           │  \n",
       "q_3: ──■──┤ Rx(VD4KIER) ├───────────────────────────■──\n",
       "          └─────────────┘                              "
      ]
     },
     "execution_count": 20,
     "metadata": {},
     "output_type": "execute_result"
    }
   ],
   "source": [
    "new_circ = QuantumCircuit(4)\n",
    "new_circ.append(rvb_circ(), [1,3])\n",
    "new_circ.decompose().draw()"
   ]
  },
  {
   "cell_type": "code",
   "execution_count": 21,
   "id": "d67c1ad8",
   "metadata": {},
   "outputs": [
    {
     "data": {
      "text/html": [
       "<pre style=\"word-wrap: normal;white-space: pre;background: #fff0;line-height: 1.1;font-family: &quot;Courier New&quot;,Courier,monospace\">      ┌───┐┌───┐     ┌───────────────────────────────┐»\n",
       " q_0: ┤ X ├┤ H ├──■──┤1                              ├»\n",
       "      ├───┤└───┘┌─┴─┐│                               │»\n",
       " q_1: ┤ X ├─────┤ X ├┤                               ├»\n",
       "      ├───┤┌───┐└───┘│                               │»\n",
       " q_2: ┤ X ├┤ H ├──■──┤                               ├»\n",
       "      ├───┤└───┘┌─┴─┐│                               │»\n",
       " q_3: ┤ X ├─────┤ X ├┤                               ├»\n",
       "      ├───┤┌───┐└───┘│                               │»\n",
       " q_4: ┤ X ├┤ H ├──■──┤                               ├»\n",
       "      ├───┤└───┘┌─┴─┐│                               │»\n",
       " q_5: ┤ X ├─────┤ X ├┤                               ├»\n",
       "      ├───┤┌───┐└───┘│  circuit-450(12LI98M,WSEY1OW) │»\n",
       " q_6: ┤ X ├┤ H ├──■──┤                               ├»\n",
       "      ├───┤└───┘┌─┴─┐│                               │»\n",
       " q_7: ┤ X ├─────┤ X ├┤                               ├»\n",
       "      ├───┤┌───┐└───┘│                               │»\n",
       " q_8: ┤ X ├┤ H ├──■──┤                               ├»\n",
       "      ├───┤└───┘┌─┴─┐│                               │»\n",
       " q_9: ┤ X ├─────┤ X ├┤                               ├»\n",
       "      ├───┤┌───┐└───┘│                               │»\n",
       "q_10: ┤ X ├┤ H ├──■──┤                               ├»\n",
       "      ├───┤└───┘┌─┴─┐│                               │»\n",
       "q_11: ┤ X ├─────┤ X ├┤0                              ├»\n",
       "      └───┘     └───┘└───────────────────────────────┘»\n",
       "«                                       ┌───────────────────────────────┐\n",
       "« q_0: ─────────────────────────────────┤0                              ├\n",
       "«      ┌───────────────────────────────┐│  circuit-468(61OZPXX,S3UPKQ5) │\n",
       "« q_1: ┤0                              ├┤1                              ├\n",
       "«      │  circuit-465(LIKAS5H,RYRKDGM) │├───────────────────────────────┤\n",
       "« q_2: ┤1                              ├┤0                              ├\n",
       "«      ├───────────────────────────────┤│  circuit-471(7TIEACA,JD7OBP9) │\n",
       "« q_3: ┤0                              ├┤1                              ├\n",
       "«      │  circuit-462(9CH6F0S,XEP48LH) │├───────────────────────────────┤\n",
       "« q_4: ┤1                              ├┤0                              ├\n",
       "«      ├───────────────────────────────┤│  circuit-474(KZCOS60,L9CMYYR) │\n",
       "« q_5: ┤0                              ├┤1                              ├\n",
       "«      │  circuit-459(05J0655,L7QOMHO) │├───────────────────────────────┤\n",
       "« q_6: ┤1                              ├┤0                              ├\n",
       "«      ├───────────────────────────────┤│  circuit-477(5L8890K,WSAZBAI) │\n",
       "« q_7: ┤0                              ├┤1                              ├\n",
       "«      │  circuit-456(51J7FYJ,WA5BX8Y) │├───────────────────────────────┤\n",
       "« q_8: ┤1                              ├┤0                              ├\n",
       "«      ├───────────────────────────────┤│  circuit-480(4IV3EJ7,RI2F2Z8) │\n",
       "« q_9: ┤0                              ├┤1                              ├\n",
       "«      │  circuit-453(7U9I6KA,9GNBV18) │├───────────────────────────────┤\n",
       "«q_10: ┤1                              ├┤0                              ├\n",
       "«      └───────────────────────────────┘│  circuit-483(Q1B3PNA,YEGI132) │\n",
       "«q_11: ─────────────────────────────────┤1                              ├\n",
       "«                                       └───────────────────────────────┘</pre>"
      ],
      "text/plain": [
       "      ┌───┐┌───┐     ┌───────────────────────────────┐»\n",
       " q_0: ┤ X ├┤ H ├──■──┤1                              ├»\n",
       "      ├───┤└───┘┌─┴─┐│                               │»\n",
       " q_1: ┤ X ├─────┤ X ├┤                               ├»\n",
       "      ├───┤┌───┐└───┘│                               │»\n",
       " q_2: ┤ X ├┤ H ├──■──┤                               ├»\n",
       "      ├───┤└───┘┌─┴─┐│                               │»\n",
       " q_3: ┤ X ├─────┤ X ├┤                               ├»\n",
       "      ├───┤┌───┐└───┘│                               │»\n",
       " q_4: ┤ X ├┤ H ├──■──┤                               ├»\n",
       "      ├───┤└───┘┌─┴─┐│                               │»\n",
       " q_5: ┤ X ├─────┤ X ├┤                               ├»\n",
       "      ├───┤┌───┐└───┘│  circuit-450(12LI98M,WSEY1OW) │»\n",
       " q_6: ┤ X ├┤ H ├──■──┤                               ├»\n",
       "      ├───┤└───┘┌─┴─┐│                               │»\n",
       " q_7: ┤ X ├─────┤ X ├┤                               ├»\n",
       "      ├───┤┌───┐└───┘│                               │»\n",
       " q_8: ┤ X ├┤ H ├──■──┤                               ├»\n",
       "      ├───┤└───┘┌─┴─┐│                               │»\n",
       " q_9: ┤ X ├─────┤ X ├┤                               ├»\n",
       "      ├───┤┌───┐└───┘│                               │»\n",
       "q_10: ┤ X ├┤ H ├──■──┤                               ├»\n",
       "      ├───┤└───┘┌─┴─┐│                               │»\n",
       "q_11: ┤ X ├─────┤ X ├┤0                              ├»\n",
       "      └───┘     └───┘└───────────────────────────────┘»\n",
       "«                                       ┌───────────────────────────────┐\n",
       "« q_0: ─────────────────────────────────┤0                              ├\n",
       "«      ┌───────────────────────────────┐│  circuit-468(61OZPXX,S3UPKQ5) │\n",
       "« q_1: ┤0                              ├┤1                              ├\n",
       "«      │  circuit-465(LIKAS5H,RYRKDGM) │├───────────────────────────────┤\n",
       "« q_2: ┤1                              ├┤0                              ├\n",
       "«      ├───────────────────────────────┤│  circuit-471(7TIEACA,JD7OBP9) │\n",
       "« q_3: ┤0                              ├┤1                              ├\n",
       "«      │  circuit-462(9CH6F0S,XEP48LH) │├───────────────────────────────┤\n",
       "« q_4: ┤1                              ├┤0                              ├\n",
       "«      ├───────────────────────────────┤│  circuit-474(KZCOS60,L9CMYYR) │\n",
       "« q_5: ┤0                              ├┤1                              ├\n",
       "«      │  circuit-459(05J0655,L7QOMHO) │├───────────────────────────────┤\n",
       "« q_6: ┤1                              ├┤0                              ├\n",
       "«      ├───────────────────────────────┤│  circuit-477(5L8890K,WSAZBAI) │\n",
       "« q_7: ┤0                              ├┤1                              ├\n",
       "«      │  circuit-456(51J7FYJ,WA5BX8Y) │├───────────────────────────────┤\n",
       "« q_8: ┤1                              ├┤0                              ├\n",
       "«      ├───────────────────────────────┤│  circuit-480(4IV3EJ7,RI2F2Z8) │\n",
       "« q_9: ┤0                              ├┤1                              ├\n",
       "«      │  circuit-453(7U9I6KA,9GNBV18) │├───────────────────────────────┤\n",
       "«q_10: ┤1                              ├┤0                              ├\n",
       "«      └───────────────────────────────┘│  circuit-483(Q1B3PNA,YEGI132) │\n",
       "«q_11: ─────────────────────────────────┤1                              ├\n",
       "«                                       └───────────────────────────────┘"
      ]
     },
     "execution_count": 21,
     "metadata": {},
     "output_type": "execute_result"
    }
   ],
   "source": [
    "d = 1\n",
    "n = 12\n",
    "# Build a custom ansatz from scratch\n",
    "ansatz_rvb = QuantumCircuit(n)\n",
    "\n",
    "# build initial state\n",
    "for i in range(0,n):\n",
    "    ansatz_rvb.x(i)\n",
    "\n",
    "# build bell state\n",
    "for i in range(0,n):\n",
    "    if i % 2 == 0:\n",
    "        ansatz_rvb.h(i)\n",
    "        ansatz_rvb.cx(i,i+1)\n",
    "\n",
    "for j in range(d):\n",
    "    for i in range(n-1,0,-2):\n",
    "        \n",
    "            if i < n-1:\n",
    "                #ansatz_rvb.append(rvb_circ(), [i,i+1])\n",
    "                ansatz_rvb.append(rvb_circ(), [i,i+1])\n",
    "            else:\n",
    "                #ansatz_rvb.append(rvb_circ(), [i,0])\n",
    "                ansatz_rvb.append(rvb_circ(), [i,0])\n",
    "                \n",
    "    for i in range(0, n-1, 2):\n",
    "     #           ansatz_rvb.append(rvb_circ(), [i,i+1])\n",
    "        ansatz_rvb.append(rvb_circ(), [i,i+1])\n",
    "    \n",
    "\n",
    "ansatz_rvb.draw()"
   ]
  },
  {
   "cell_type": "markdown",
   "id": "bc27992c-3d55-47d1-a767-208bbf0334fe",
   "metadata": {},
   "source": [
    "### Match qubit layout\n",
    "The ansatz is currently defined over 12 qubits, but it will be executed on guadalupe which has 16 qubits. To make the ansatz compatible with guadalupe and the inflated Hamiltonian, we can specify the qubit layout on the real device using the transpiler (shown below). We exclude the four qubits with fewest neighbors."
   ]
  },
  {
   "cell_type": "code",
   "execution_count": 22,
   "id": "339d7b82",
   "metadata": {},
   "outputs": [
    {
     "name": "stdout",
     "output_type": "stream",
     "text": [
      "number and type of gates in the rvb cirucit: OrderedDict([('cx', 93), ('rz', 82), ('sx', 54), ('x', 18)])\n",
      "number of parameters in the rvb circuit: 24\n",
      "number and type of gates in the hva cirucit: OrderedDict([('rz', 120), ('cx', 119), ('sx', 78), ('x', 6)])\n",
      "number of parameters in the hva circuit: 2\n"
     ]
    }
   ],
   "source": [
    "# Force anstaz to be applied to qubits in the heavy hex.\n",
    "# Avoid the outer qubits 0, 6, 9, and 15 which we accounted for in the lattice definition.\n",
    "q_layout = [1, 2, 3, 4, 5, 7, 8, 10, 11, 12, 13, 14, ]\n",
    "ansatz_opt_rvb = transpile(ansatz_rvb, backend=backend, initial_layout=q_layout, optimization_level = 2)\n",
    "ansatz_opt_custom = transpile(ansatz_custom, backend=backend, initial_layout=q_layout, optimization_level = 2)\n",
    "\n",
    "#ansatz_opt_sampler = transpile(ansatz_rvb, backend=backend, initial_layout=q_layout, optimization_level = 2)\n",
    "\n",
    "\n",
    "#ansatz_opt_sampler.measure_all()\n",
    "\n",
    "print('number and type of gates in the rvb cirucit:', ansatz_opt_rvb.count_ops())\n",
    "print('number of parameters in the rvb circuit:', ansatz_opt_rvb.num_parameters)\n",
    "\n",
    "print('number and type of gates in the hva cirucit:', ansatz_opt_custom.count_ops())\n",
    "print('number of parameters in the hva circuit:', ansatz_opt_custom.num_parameters)\n",
    "#ansatz_opt.draw(fold=300)"
   ]
  },
  {
   "cell_type": "markdown",
   "id": "5409199f-031b-4b4d-bba5-ac30b97cae60",
   "metadata": {},
   "source": [
    "## 2-4 Choose a classical optimizer\n",
    "Select a [classical optimizer](https://qiskit.org/documentation/stubs/qiskit.algorithms.optimizers.html#local-optimizers). The classical optimizer will encounter errored and stochastic results from the quantum computer due to gate errors, measurement errors, and other noise sources as well as finite sampling affects [8]. Choose a classical optimizer that pairs well with your approach to VQE. Along with choosing a classical optimizer, picking an initial set of parameters plays a significant role in VQE. In this example, a random set of values is picked (shown in the `CustomVQE` class section 2-5).\n",
    "\n",
    "\\[8\\] \"Using models to improve optimizers for variational quantum algorithms\" K. Sung, et al. [arXiv:2005.11011v2](https://arxiv.org/abs/2005.11011v2) [quant-ph] (2020)"
   ]
  },
  {
   "cell_type": "code",
   "execution_count": 105,
   "id": "4dfc540b-1a31-4481-b37c-90e840ca6e19",
   "metadata": {},
   "outputs": [],
   "source": [
    "from qiskit.algorithms.optimizers import SPSA, ADAM\n",
    "\n",
    "optimizer = SPSA(maxiter=100, learning_rate=0.01, perturbation=0.01)\n",
    "#optimizer = ADAM(maxiter = 100, lr=0.01)"
   ]
  },
  {
   "cell_type": "markdown",
   "id": "dbbe9fdd-f6cf-472a-8955-5356919c8c98",
   "metadata": {},
   "source": [
    "## 2-5 Define custom VQE program\n",
    "The VQE calculation can be efficiently orchestrated between the quantum and classical computer using qiskit's [primitives](https://qiskit.org/documentation/apidoc/primitives.html). Below is a simple example of using the [Estimator primitive](https://qiskit.org/documentation/apidoc/primitives.html#overview-of-estimator) with your computer as a local simulator of a quantum computer. It's convenient to bring the components of VQE together into a custom class which we've called `CustomVQE`.\n",
    "\n",
    "If you want more control over the measurement results and how the expectation values are computed, use the [Sampler primitive](https://qiskit.org/documentation/apidoc/primitives.html#overview-of-sampler) which will output the probabilities (or quasi-probabilities) of every measured state instead of expectation values."
   ]
  },
  {
   "cell_type": "code",
   "execution_count": 106,
   "id": "25c2d053-97fb-4597-b716-d30b025d2a6f",
   "metadata": {},
   "outputs": [],
   "source": [
    "from qiskit.algorithms import MinimumEigensolver, VQEResult\n",
    "\n",
    "# Define a custome VQE class to orchestra the ansatz, classical optimizers, \n",
    "# initial point, callback, and final result\n",
    "class CustomVQE(MinimumEigensolver):\n",
    "    \n",
    "    def __init__(self, estimator, circuit, optimizer, callback=None):\n",
    "        self._estimator = estimator\n",
    "        self._circuit = circuit\n",
    "        self._optimizer = optimizer\n",
    "        self._callback = callback\n",
    "        \n",
    "    def compute_minimum_eigenvalue(self, operators, aux_operators=None):\n",
    "        opt_parameters = []       \n",
    "        # Define objective function to classically minimize over\n",
    "        def objective(x):\n",
    "            \n",
    "            \n",
    "            # Execute job with estimator primitive\n",
    "            job = self._estimator.run([self._circuit], [operators], [x])\n",
    "            # Get results from jobs\n",
    "            est_result = job.result()\n",
    "            # Get the measured energy value\n",
    "            value = est_result.values[0]\n",
    "            # Save result information using callback function\n",
    "            if self._callback is not None:\n",
    "                self._callback(value)\n",
    "            opt_parameters.append(x[0])\n",
    "            return value\n",
    "            \n",
    "        # Select an initial point for the ansatzs' parameters\n",
    "        x0 = np.pi/4 * np.random.rand(self._circuit.num_parameters)\n",
    "        #x0 = 0.01392025\n",
    "        #x0 = [-0.3, 0.2]\n",
    "        \n",
    "\n",
    "        \n",
    "        # Run optimization\n",
    "        res = self._optimizer.minimize(objective, x0=x0)\n",
    "        \n",
    "        # Populate VQE result\n",
    "        result = VQEResult()\n",
    "        result.cost_function_evals = res.nfev\n",
    "        result.eigenvalue = res.fun\n",
    "        result.optimal_parameters = res.x\n",
    "        return [result, opt_parameters]\n"
   ]
  },
  {
   "cell_type": "markdown",
   "id": "763b523a-94e5-40ae-89c1-caa045ffa563",
   "metadata": {},
   "source": [
    "### Callback\n",
    "It's important to know what's going on between the classical and quantum computer during the optimization. What parameter values is the classical optimizer picking? How does the convergence to the ground state energy behave?\n",
    "\n",
    "Defining a callback function gives us a chance to peek in. A simple callback method is defined below. See [this tutorial](https://qiskit.org/documentation/tutorials/algorithms/02_vqe_convergence.html) for more information and be sure to read the classical [optimizers' docs](https://qiskit.org/documentation/stubs/qiskit.algorithms.optimizers.html) for what specific values can be extracted during optimization. For example [SPSA](https://qiskit.org/documentation/stubs/qiskit.algorithms.optimizers.SPSA.html#qiskit.algorithms.optimizers.SPSA) returns: (nfev, parameters, value, stepsize, accepted)."
   ]
  },
  {
   "cell_type": "code",
   "execution_count": 107,
   "id": "3c9f48d3-186e-419a-8e03-53d3e81d1fca",
   "metadata": {},
   "outputs": [],
   "source": [
    "# Define a simple callback function\n",
    "intermediate_info = []\n",
    "def callback(value):\n",
    "        intermediate_info.append(value)"
   ]
  },
  {
   "cell_type": "markdown",
   "id": "03488a94-62da-4f09-9b91-d6857e7dcc91",
   "metadata": {},
   "source": [
    "## 2-6 Execute simulated VQE\n",
    "The VQE is built! Time to test it out on a simulator. This may take a few seconds."
   ]
  },
  {
   "cell_type": "code",
   "execution_count": 108,
   "id": "4f793a4d",
   "metadata": {},
   "outputs": [],
   "source": [
    "from qiskit.primitives import Estimator, Sampler"
   ]
  },
  {
   "cell_type": "code",
   "execution_count": 109,
   "id": "c8dbd7f2",
   "metadata": {},
   "outputs": [
    {
     "name": "stdout",
     "output_type": "stream",
     "text": [
      "{   'aux_operator_eigenvalues': None,\n",
      "    'cost_function_evals': 200,\n",
      "    'eigenstate': None,\n",
      "    'eigenvalue': -17.999999525347175,\n",
      "    'optimal_circuit': None,\n",
      "    'optimal_parameters': array([0.00039777]),\n",
      "    'optimal_point': None,\n",
      "    'optimal_value': None,\n",
      "    'optimizer_evals': None,\n",
      "    'optimizer_result': None,\n",
      "    'optimizer_time': None}\n",
      "execution time (s): 33.74\n"
     ]
    }
   ],
   "source": [
    "# Define instance of qiskit-terra's Estimator primitive\n",
    "estimator = Estimator([ansatz_opt_rvb], [ham_16])\n",
    "\n",
    "# Setup VQE algorithm\n",
    "custom_vqe = CustomVQE(estimator, ansatz_opt_rvb, optimizer, callback=callback)\n",
    "\n",
    "# Run the custom VQE function and monitor execution time\n",
    "start = time()\n",
    "result = custom_vqe.compute_minimum_eigenvalue(ham_16)\n",
    "end = time()\n",
    "\n",
    "print(result[0])\n",
    "print(f'execution time (s): {end - start:.2f}')\n"
   ]
  },
  {
   "cell_type": "code",
   "execution_count": 110,
   "id": "19bd8db2",
   "metadata": {},
   "outputs": [
    {
     "data": {
      "image/png": "[encoded data removed]",
      "text/plain": [
       "<Figure size 640x480 with 1 Axes>"
      ]
     },
     "metadata": {},
     "output_type": "display_data"
    }
   ],
   "source": [
    "plt.plot(intermediate_info, color='purple', lw=2, label='Simulated VQE')\n",
    "plt.ylabel('Energy')\n",
    "plt.xlabel('Iterations')\n",
    "# Exact ground state energy value\n",
    "plt.axhline(y=gs_energy, color=\"tab:red\", ls=\"--\", lw=2, label=\"Target: \" + str(gs_energy))\n",
    "plt.legend()\n",
    "plt.grid()\n",
    "plt.show()"
   ]
  },
  {
   "cell_type": "code",
   "execution_count": 111,
   "id": "17fa9823-dd6f-40a5-938a-744662133b00",
   "metadata": {},
   "outputs": [
    {
     "name": "stdout",
     "output_type": "stream",
     "text": [
      "Expected ground state energy: -18.0000000000\n",
      "Computed ground state energy: -17.9999995253\n",
      "Relative error: 0.00000003\n"
     ]
    }
   ],
   "source": [
    "def rel_err(target, measured):\n",
    "    return abs((target - measured) / target)\n",
    "\n",
    "# Compute the relative error between the expected ground state energy and the VQE's output\n",
    "rel_error = rel_err(gs_energy, result[0].eigenvalue)\n",
    "\n",
    "print(f'Expected ground state energy: {gs_energy:.10f}')\n",
    "print(f'Computed ground state energy: {result[0].eigenvalue:.10f}')\n",
    "print(f'Relative error: {rel_error:.8f}')"
   ]
  },
  {
   "cell_type": "markdown",
   "id": "7519917a-8605-4445-bee2-efc839283604",
   "metadata": {},
   "source": [
    "## 3-1 Qiskit runtime (cloud simulator)\n",
    "\n",
    "Next we demonstrate how to run VQE using [qiskit_ibm_runtime](https://github.com/Qiskit/qiskit-ibm-runtime) **which has different syntax from qiskit terra's runtime**. The qiskit_ibm_runtime module includes the same programming model as qiskit terra, but qiskit_ibm_runtime has access to a cloud simulator and more importantly the ibmq_guadalupe device. To learn more about qiskit_ibm_runtime check out these tutorials from the docs: [a tutorial on the estimator](https://github.com/Qiskit/qiskit-ibm-runtime/blob/main/docs/tutorials/how-to-getting-started-with-estimator.ipynb) and [a tutorial on the sampler](https://github.com/Qiskit/qiskit-ibm-runtime/blob/main/docs/tutorials/how-to-getting-started-with-sampler.ipynb).\n",
    "\n",
    "We will use all the same VQE components we've built up so far, but the syntax for executing on the hardware is wrapped in [a session](https://quantum-computing.ibm.com/lab/docs/iql/manage/systems/sessions/) as shown in the following cells.\n",
    "\n",
    "We first demonstrate running VQE with the cloud simulator backend to check everything is working correctly. This may take a few minutes. After running on the cloud simulator, we make a simple switch of backends to the real ibmq_guadalupe device to get the final result. Depending on how your VQE is setup, this may take a couple hours."
   ]
  },
  {
   "cell_type": "code",
   "execution_count": null,
   "id": "1e42ae96-a23b-40dc-af63-f7067e708c98",
   "metadata": {},
   "outputs": [],
   "source": [
    "from qiskit_ibm_runtime import (QiskitRuntimeService, Session, Options,\n",
    "                                Estimator as RuntimeEstimator)\n",
    "from qiskit_ibm_runtime import QiskitRuntimeService, Session, Sampler\n",
    "\n",
    "from qiskit.providers.fake_provider import FakeGuadalupe, FakePerth\n",
    "from qiskit_aer.noise import NoiseModel\n",
    "from qiskit_aer import QasmSimulator\n",
    "\n",
    "\n",
    "# Save an IBM Quantum account. See docs for credential security warning\n",
    "# https://github.com/Qiskit/qiskit-ibm-runtime/tree/stable/0.7#saving-account-on-disk\n",
    "QiskitRuntimeService.save_account(channel=\"ibm_quantum\", token=\"0d2574407112372f5497e62ca75fc500b18bbb493d8a3c8924696f203a36b1ee8582a62186d36fcaab48973f1cd98106f4f985353e032da7279d3dcae22466be\", overwrite=True)\n",
    "service = QiskitRuntimeService(\n",
    "    channel='ibm_quantum',\n",
    "    #instance='ibm-q-research-2/kyung-hee-uni-1/main',\n",
    "    #hub='ibm-q-research-2', group='kyung-hee-uni-1', project='main'\n",
    ")"
   ]
  },
  {
   "cell_type": "code",
   "execution_count": null,
   "id": "e2002574",
   "metadata": {},
   "outputs": [],
   "source": [
    "from qiskit import IBMQ, Aer\n",
    "provider = IBMQ.load_account()\n",
    "available_cloud_backends = provider.backends() \n",
    "print('\\nHere is the list of cloud backends that are available to you:')\n",
    "for i in available_cloud_backends: print(i)\n",
    "\n",
    "available_local_backends = Aer.backends() \n",
    "print('\\nHere is the list of local backends that are available to you: ')\n",
    "for i in available_local_backends: print(i)"
   ]
  },
  {
   "cell_type": "code",
   "execution_count": null,
   "id": "cd58da58-d42c-4a83-b72a-b289009e4004",
   "metadata": {},
   "outputs": [],
   "source": [
    "# print available backend and select one\n",
    "print('Simulators:', service.backends(simulator=True))\n",
    "\n",
    "# Select a simulator backend\n",
    "fake_backend = FakeGuadalupe()\n",
    "\n",
    "\n",
    "backend = 'simulator_statevector'\n"
   ]
  },
  {
   "cell_type": "code",
   "execution_count": null,
   "id": "357107d9",
   "metadata": {},
   "outputs": [],
   "source": [
    "# Import FakeBackend\n",
    "#fake_backend = FakeGuadalupe()\n",
    "noise_model = NoiseModel.from_backend(fake_backend)\n",
    "\n",
    "options_with_em = Options(\n",
    "    simulator={\n",
    "         \"noise_model\": noise_model,},\n",
    "      #   \"seed_simulator\": 42,\n",
    "     #},\n",
    "    resilience_level=2,\n",
    "    optimization_level=0# You may change the value here. resilience_level = 1 will activate TREX\n",
    ")"
   ]
  },
  {
   "cell_type": "code",
   "execution_count": null,
   "id": "82c84117-6239-42c2-964d-7a3df3f709e1",
   "metadata": {},
   "outputs": [],
   "source": [
    "# Define a simple callback function\n",
    "intermediate_info_sim_backend = []\n",
    "def callback_sim(value):\n",
    "        intermediate_info_sim_backend.append(value)"
   ]
  },
  {
   "cell_type": "code",
   "execution_count": null,
   "id": "a6d49729",
   "metadata": {},
   "outputs": [],
   "source": [
    "import signal, time\n",
    "\n",
    "from qiskit_ibm_runtime import Estimator, Session\n",
    "from qiskit.providers import JobStatus\n",
    "\n",
    "def timeout_handler(signum, frame):\n",
    "    raise Exception('Iteration timed out')\n",
    "    \n",
    "class RetryEstimator(Estimator):\n",
    "    \"\"\"RuntimeRetryEstimator class.\n",
    "    \n",
    "    This class inherits from Qiskit IBM Runtime's Estimator and overwrites its run method such that it retries calling it\n",
    "    a maximum of 'max_retries' consecutive times, if it encounters one of the following randomly occuring errors:\n",
    "    \n",
    "    * An Estimator error (in this case \"Job.ERROR\" is printed, and the job is cancelled automatically)\n",
    "    * A timeout error where the job either remains running or completes but does not return anything, for a time larger \n",
    "      than 'timeout' (in this case the job is cancelled by the patch and \"Job.CANCELLED\" is printed)\n",
    "    * A creation error, where the job fails to be created because connection is lost between the runtime server and the\n",
    "      quantum computer (in this case \"Failed to create job.\" is printed). If this error occurs, the patch connects the user\n",
    "      to a new Session (to be handled with care! also, this will unfortunately put the next job in the queue). \n",
    "    \"\"\"\n",
    "    \n",
    "    def __init__(self, *args, max_retries: int = 5, timeout: int = 3600, **kwargs) -> None:\n",
    "        super().__init__(*args, **kwargs)\n",
    "        self.max_retries = max_retries\n",
    "        self.timeout = timeout\n",
    "        self.backend = super().session._backend\n",
    "        signal.signal(signal.SIGALRM, timeout_handler)\n",
    "    \n",
    "    def run(self, circuits, observables, parameter_values, **kwargs):\n",
    "        result = None\n",
    "        for i in range(self.max_retries):\n",
    "            try:\n",
    "                job = super().run(circuits, observables, parameter_values, **kwargs)\n",
    "                while job.status() in [JobStatus.INITIALIZING, JobStatus.QUEUED, JobStatus.VALIDATING]:\n",
    "                    time.sleep(5) # Check every 5 seconds whether job status has changed\n",
    "                signal.alarm(self.timeout) # Once job starts running, set timeout to 1 hour by default\n",
    "                result = job.result()\n",
    "                if result is not None:\n",
    "                    signal.alarm(0) # reset timer\n",
    "                    return job\n",
    "            except Exception as e:\n",
    "                print(\"\\nSomething went wrong...\")\n",
    "                print(f\"\\n\\nERROR MESSAGE:\\n{e}\\n\\n\")\n",
    "                if 'job' in locals(): # Sometimes job fails to create\n",
    "                    print(f\"Job ID: {job.job_id}. Job status: {job.status()}.\")\n",
    "                    if job.status() not in [JobStatus.DONE, JobStatus.ERROR, JobStatus.CANCELLED]:\n",
    "                        job.cancel()\n",
    "                else:\n",
    "                    print(\"Failed to create job.\")\n",
    "                print(f\"Starting trial number {i+2}...\\n\")\n",
    "                print(f\"Creating new session...\\n\")\n",
    "                signal.alarm(0) # reset timer\n",
    "                super().session.close()\n",
    "                self._session = Session(backend=self.backend)\n",
    "        if result is None:\n",
    "            raise RuntimeError(f\"Program failed! Maximum number of retries ({self.max_retries}) exceeded\")"
   ]
  },
  {
   "cell_type": "code",
   "execution_count": null,
   "id": "293371d8-25cf-4daf-944e-05fa38ba4156",
   "metadata": {},
   "outputs": [],
   "source": [
    "# Setup Estimator with session error handling reconnection work around\n",
    "start = time.time()\n",
    "with Session(service=service, backend=backend) as session:\n",
    "    # Prepare extended primitive\n",
    "    rt_estimator = RetryEstimator(session=session, options=options_with_em)\n",
    "    # set up algorithm\n",
    "    custom_vqe = CustomVQE(rt_estimator, ansatz_opt_rvb, optimizer, callback=callback_sim)\n",
    "    # run algorithm\n",
    "    result = custom_vqe.compute_minimum_eigenvalue(ham_16)\n",
    "end = time.time()\n",
    "print(f'execution time (s): {end - start:.2f}')"
   ]
  },
  {
   "cell_type": "code",
   "execution_count": null,
   "id": "3be7fe16-6208-4e07-aa69-845baa874257",
   "metadata": {},
   "outputs": [],
   "source": [
    "# # Setup Estimator (standard method)\n",
    "# start = time()\n",
    "# with Session(service=service, backend=backend) as session:\n",
    "#     # Prepare primitive\n",
    "#     rt_estimator = RuntimeEstimator(session=session)\n",
    "#     # Set up algorithm\n",
    "#     custom_vqe = CustomVQE(rt_estimator, ansatz_opt, optimizer, callback=callback_sim)\n",
    "#     # Run algorithm\n",
    "#     result = custom_vqe.compute_minimum_eigenvalue(ham_16)\n",
    "# end = time()\n",
    "# print(f'execution time (s): {end - start:.2f}')"
   ]
  },
  {
   "cell_type": "code",
   "execution_count": null,
   "id": "a35dc309-ea85-42c3-8897-50e4e5a22625",
   "metadata": {},
   "outputs": [],
   "source": [
    "plt.plot(intermediate_info_sim_backend, color='purple', lw=2, label='Simulated VQE')\n",
    "plt.ylabel('Energy')\n",
    "plt.xlabel('Iterations')\n",
    "plt.axhline(y=gs_energy, color=\"tab:red\", ls=\"--\", lw=2, label=\"Target: \" + str(gs_energy))\n",
    "plt.legend()\n",
    "plt.grid()\n",
    "plt.show()"
   ]
  },
  {
   "cell_type": "code",
   "execution_count": null,
   "id": "0ca08bb6",
   "metadata": {},
   "outputs": [],
   "source": [
    "# Compute the relative error between the expected ground state energy and the measured\n",
    "rel_error = rel_err(gs_energy, result[0].eigenvalue)\n",
    "\n",
    "print(f'Expected ground state energy: {gs_energy:.10f}')\n",
    "print(f'Computed ground state energy: {result[0].eigenvalue:.10f}')\n",
    "print(f'Relative error: {rel_error:.8f}')"
   ]
  },
  {
   "cell_type": "code",
   "execution_count": null,
   "id": "4c1c572d",
   "metadata": {},
   "outputs": [],
   "source": [
    "intermediate_info_sim_backend = []\n",
    "\n",
    "\n",
    "start = time.time()\n",
    "with Session(service=service, backend=backend) as session:\n",
    "    # Prepare extended primitive\n",
    "    rt_estimator = RetryEstimator(session=session,)#options=options_with_em)\n",
    "    # set up algorithm\n",
    "    custom_vqe = CustomVQE(rt_estimator, ansatz_opt_hva, optimizer, callback=callback_sim)\n",
    "    # run algorithm\n",
    "    result = custom_vqe.compute_minimum_eigenvalue(ham_16)\n",
    "end = time.time()\n",
    "print(f'execution time (s): {end - start:.2f}')"
   ]
  },
  {
   "cell_type": "code",
   "execution_count": null,
   "id": "a4baccad",
   "metadata": {},
   "outputs": [],
   "source": [
    "plt.plot(intermediate_info_sim_backend, color='purple', lw=2, label='Simulated VQE')\n",
    "plt.ylabel('Energy')\n",
    "plt.xlabel('Iterations')\n",
    "plt.axhline(y=gs_energy, color=\"tab:red\", ls=\"--\", lw=2, label=\"Target: \" + str(gs_energy))\n",
    "plt.legend()\n",
    "plt.grid()\n",
    "plt.show()"
   ]
  },
  {
   "cell_type": "code",
   "execution_count": null,
   "id": "3fe2db56",
   "metadata": {},
   "outputs": [],
   "source": [
    "# Compute the relative error between the expected ground state energy and the measured\n",
    "rel_error = rel_err(gs_energy, result[0].eigenvalue)\n",
    "\n",
    "print(f'Expected ground state energy: {gs_energy:.10f}')\n",
    "print(f'Computed ground state energy: {result[0].eigenvalue:.10f}')\n",
    "print(f'Relative error: {rel_error:.8f}')"
   ]
  },
  {
   "cell_type": "markdown",
   "id": "968daf3c-f592-4ae3-88e8-6a64aa93b5ad",
   "metadata": {},
   "source": [
    "## 3-2 Qiskit runtime Real backend (ibmq_guadalupe)\n",
    "\n",
    "If our `qiskit_ibm_runtime` code is working on the cloud simulator backend, we can simply change the backend to the ibmq_guadalupe to run on the real backend. This may take a couple hours. Your performance score will be determined by the calculated relative error between the true ground state energy of -18.0 and the measured energy from the real ibmq_guadalupe backend."
   ]
  },
  {
   "cell_type": "code",
   "execution_count": null,
   "id": "3d14c493-4bdc-4142-9c3c-de6ccd9150d7",
   "metadata": {},
   "outputs": [],
   "source": [
    "# service = QiskitRuntimeService(channel='ibm_quantum')\n",
    "service = QiskitRuntimeService(\n",
    "    channel='ibm_quantum',\n",
    "    instance='ibm-q-community/ibmquantumawards/open-science-22',\n",
    ")\n",
    "\n",
    "backend = 'ibmq_guadalupe'"
   ]
  },
  {
   "cell_type": "code",
   "execution_count": null,
   "id": "9925cf63-088c-421d-995b-98691595e864",
   "metadata": {},
   "outputs": [],
   "source": [
    "# Define a simple callback function\n",
    "intermediate_info_real_backend = []\n",
    "def callback_real(value):\n",
    "        intermediate_info_real_backend.append(value)"
   ]
  },
  {
   "cell_type": "code",
   "execution_count": null,
   "id": "f9d08c41-806d-4222-89a5-c1f9e025635e",
   "metadata": {},
   "outputs": [],
   "source": [
    "# Setup Estimator with session error handling reconnection work around\n",
    "start = time.time()\n",
    "with Session(service=service, backend=backend) as session:\n",
    "    # Prepare extended primitive\n",
    "    rt_estimator = RetryEstimator(session=session)\n",
    "    # set up algorithm\n",
    "    custom_vqe = CustomVQE(rt_estimator, ansatz_opt, optimizer, callback=callback_real)\n",
    "    # run algorithm\n",
    "    result = custom_vqe.compute_minimum_eigenvalue(ham_16)\n",
    "end = time.time()\n",
    "print(f'execution time (s): {end - start:.2f}')"
   ]
  },
  {
   "cell_type": "code",
   "execution_count": null,
   "id": "95b2a311-0acd-4a9f-b915-2733e08f4d50",
   "metadata": {},
   "outputs": [],
   "source": [
    "# # Setup Estimator\n",
    "# start = time()\n",
    "# with Session(service=service, backend=backend) as session:\n",
    "#     # Prepare primitive\n",
    "#     rt_estimator = RuntimeEstimator(session=session)\n",
    "#     # set up algorithm\n",
    "#     custom_vqe = CustomVQE(rt_estimator, ansatz_opt, optimizer, callback=callback_real)\n",
    "#     # run algorithm\n",
    "#     result = custom_vqe.compute_minimum_eigenvalue(ham_16)\n",
    "# end = time()\n",
    "# print(f'execution time (s): {end - start:.2f}')"
   ]
  },
  {
   "cell_type": "code",
   "execution_count": null,
   "id": "a0a9c908-d6bf-4e6a-ac77-dc130c7667db",
   "metadata": {},
   "outputs": [],
   "source": [
    "plt.plot(intermediate_info_real_backend, color='purple', lw=2, label='VQE')\n",
    "plt.ylabel('Energy')\n",
    "plt.xlabel('Iterations')\n",
    "plt.axhline(y=gs_energy, color=\"tab:red\", ls=\"--\", lw=2, label=\"Target: \" + str(gs_energy))\n",
    "plt.legend()\n",
    "plt.grid()\n",
    "plt.show()"
   ]
  },
  {
   "cell_type": "markdown",
   "id": "1a924187-ad99-41ec-83f8-f8ac87a95750",
   "metadata": {},
   "source": [
    "## 3-3 Performance Score\n",
    "Compute the relative error between the expected ground state energy and the VQE result."
   ]
  },
  {
   "cell_type": "code",
   "execution_count": null,
   "id": "46ef4ecd-547f-43d0-b184-e7f82680f50d",
   "metadata": {},
   "outputs": [],
   "source": [
    "# Compute the relative error between the expected ground state energy and the measured\n",
    "computed_gse = intermediate_info_real_backend[-1]\n",
    "\n",
    "print(f'Expected ground state energy: {gs_energy:.8f}')\n",
    "print(f'Computed ground state energy: {computed_gse:.8f}')\n",
    "print(f'Relative error: {100 * rel_err(gs_energy, computed_gse):.8f} %')"
   ]
  },
  {
   "cell_type": "markdown",
   "id": "355fe933-de34-4ce8-a6d8-11c00f6232f2",
   "metadata": {},
   "source": [
    "# Considerations\n",
    "Feeling stuck? Below are a list of questions and considerations to help spark new ideas for your VQE implementation.\n",
    "\n",
    "**Ansatz.** Carefully consult research literature for the best approach of ansatz selection. How might errors affect your ansatz? How many parameters are needed to reach the ground state? What properties of the Hamiltonian could help simplify the ansatz?\n",
    "\n",
    "**Classical optimizer.** What optimizer will pair well with for your choice of ansatz and measurement parameters? What noise do you expect from the quantum computer, and what noise sensitivity can the classical optimizer withstand? How many iterations will be needed?\n",
    "\n",
    "**Initial state/point.** Is there an initial quantum state that really helps things get going? What about a starting point for the circuit parameters? Does the VQE give the same results for different initial parameter values?\n",
    "\n",
    "**Number of measurements.** How does the number of shots affect the VQE's convergence to the ground state energy? The expectation value of the Hamiltonian is a sum of the expectation values of each of the 54 terms. What is the least number of circuit executions necessary to compute the expectation value of the Hamiltonian? What is the optimal number of circuit executions for stable convergence?\n",
    "\n",
    "**Many qubits.** Working with larger numbers of qubits is its own challenge. For example, what's a concise way of writing down or even visualizing the 4096 digit ground state? What methods and techniques will not scale well? What techniques would scale well if this VQE were to be done on a larger system? How can you reduce your execution time of the real device?\n",
    "\n",
    "**Error mitigation.** What errors are most prevalent, and how can you reduce them efficiently? What error mitigation techniques will scale well?"
   ]
  },
  {
   "cell_type": "code",
   "execution_count": null,
   "id": "10a0d2c6-091a-439c-864a-8d791a39eec9",
   "metadata": {},
   "outputs": [],
   "source": [
    "import qiskit_ibm_runtime\n",
    "qiskit_ibm_runtime.version.get_version_info()"
   ]
  },
  {
   "cell_type": "code",
   "execution_count": null,
   "id": "6044f597-1557-4a1a-8f00-d22ce4ff3a10",
   "metadata": {},
   "outputs": [],
   "source": [
    "import qiskit.tools.jupyter\n",
    "%qiskit_version_table"
   ]
  }
 ],
 "metadata": {
  "kernelspec": {
   "display_name": "qiskit_venv",
   "language": "python",
   "name": "qiskit_venv"
  },
  "language_info": {
   "codemirror_mode": {
    "name": "ipython",
    "version": 3
   },
   "file_extension": ".py",
   "mimetype": "text/x-python",
   "name": "python",
   "nbconvert_exporter": "python",
   "pygments_lexer": "ipython3",
   "version": "3.10.6"
  }
 },
 "nbformat": 4,
 "nbformat_minor": 5
}
