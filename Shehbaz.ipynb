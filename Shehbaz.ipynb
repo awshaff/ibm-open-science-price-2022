{
 "cells": [
  {
   "cell_type": "code",
   "execution_count": 1,
   "metadata": {},
   "outputs": [],
   "source": [
    "import  qiskit"
   ]
  },
  {
   "cell_type": "code",
   "execution_count": 2,
   "metadata": {},
   "outputs": [
    {
     "name": "stdout",
     "output_type": "stream",
     "text": [
      "Libraries imported successfully!\n"
     ]
    }
   ],
   "source": [
    "# Importing standard Qiskit libraries\n",
    "from qiskit import QuantumCircuit  #Importing the QuantumCircuit function from Qiskit. We will use this to create our quantum circuits!\n",
    "\n",
    "# We will use these functions to run our circuit and visualize its final state\n",
    "from qiskit import Aer, execute\n",
    "from qiskit.visualization import *\n",
    "\n",
    "import warnings  # We are using this library to suppress some warning messages\n",
    "warnings.filterwarnings(\"ignore\")\n",
    "\n",
    "print(\"Libraries imported successfully!\")"
   ]
  },
  {
   "cell_type": "code",
   "execution_count": 9,
   "metadata": {},
   "outputs": [],
   "source": [
    "qc = QuantumCircuit(2, 2)  # Creating a quantum circuit with 2 qubits and 2 classical bits\n",
    "qc.h(0)  # Applying a Hadamard gate to the first qubit\n",
    "qc.cx(0, 1)  # Applying a CNOT gate to the first qubit controlled by the second qubit\n",
    "qc.cx(1, 0)  # Applying a CNOT gate to the second qubit controlled by the first qubit\n",
    "qc.measure_all()  # Measuring the qubits"
   ]
  },
  {
   "cell_type": "code",
   "execution_count": 12,
   "metadata": {},
   "outputs": [
    {
     "data": {
      "image/png": "[encoded data removed]",
      "text/plain": [
       "<Figure size 700x500 with 1 Axes>"
      ]
     },
     "execution_count": 12,
     "metadata": {},
     "output_type": "execute_result"
    }
   ],
   "source": [
    "# Simulate using QASM\n",
    "backend = Aer.get_backend('qasm_simulator')\n",
    "job = execute(qc, backend = backend, shots = 1024)  # Make sure you change \"qc\" to the name of your quantum circuit in this line!\n",
    "result = job.result()\n",
    "counts = result.get_counts()\n",
    "plot_histogram(counts)"
   ]
  },
  {
   "cell_type": "code",
   "execution_count": 8,
   "metadata": {},
   "outputs": [
    {
     "data": {
      "text/plain": [
       "Result(backend_name='qasm_simulator', backend_version='0.11.0', qobj_id='d1e15f10-3b5b-440d-be99-eca9b289b07a', job_id='c295b269-d5f0-4f20-ae95-1c04b01d5d6a', success=True, results=[ExperimentResult(shots=1024, success=True, meas_level=2, data=ExperimentResultData(), header=QobjExperimentHeader(clbit_labels=[['c', 0], ['c', 1]], creg_sizes=[['c', 2]], global_phase=0.0, memory_slots=2, metadata={}, n_qubits=2, name='circuit-99', qreg_sizes=[['q', 2]], qubit_labels=[['q', 0], ['q', 1]]), status=DONE, seed_simulator=281312723, metadata={'batched_shots_optimization': False, 'method': 'stabilizer', 'active_input_qubits': [], 'device': 'CPU', 'remapped_qubits': False, 'num_qubits': 0, 'num_clbits': 2, 'input_qubit_map': [], 'measure_sampling': False, 'parallel_shots': 1, 'parallel_state_update': 16}, time_taken=5.5e-06)], date=2022-12-01T18:09:54.226443, status=COMPLETED, header=QobjHeader(backend_name='qasm_simulator', backend_version='0.11.0'), metadata={'parallel_experiments': 1, 'omp_enabled': True, 'max_memory_mb': 32603, 'max_gpu_memory_mb': 0, 'num_processes_per_experiments': 1, 'time_taken_load_qobj': 7.2e-05, 'mpi_rank': 0, 'num_mpi_processes': 1, 'time_taken_execute': 3.38e-05, 'time_taken': 0.0001102}, time_taken=0.001538991928100586)"
      ]
     },
     "execution_count": 8,
     "metadata": {},
     "output_type": "execute_result"
    }
   ],
   "source": [
    "result"
   ]
  },
  {
   "cell_type": "code",
   "execution_count": 11,
   "metadata": {},
   "outputs": [],
   "source": [
    "qc = QuantumCircuit(2,2)  # Create a quantum circuit with 2 qubits and 2 classical bits\n",
    "qc.h (0)  # Apply a Hadamard gate to the first qubit\n",
    "qc.h(1)\n",
    "qc.cx(0,1) \n",
    "qc.h (0)  # Apply a Hadamard gate to the first qubit\n",
    "qc.h(1)\n",
    "qc.measure_all()  # Measure the qubits\n",
    "# Apply a CNOT gate to the first qubit controlled by the second qubit"
   ]
  },
  {
   "cell_type": "code",
   "execution_count": null,
   "metadata": {},
   "outputs": [],
   "source": []
  }
 ],
 "metadata": {
  "kernelspec": {
   "display_name": "Python 3.9.13 ('base')",
   "language": "python",
   "name": "python3"
  },
  "language_info": {
   "codemirror_mode": {
    "name": "ipython",
    "version": 3
   },
   "file_extension": ".py",
   "mimetype": "text/x-python",
   "name": "python",
   "nbconvert_exporter": "python",
   "pygments_lexer": "ipython3",
   "version": "3.9.13"
  },
  "orig_nbformat": 4,
  "vscode": {
   "interpreter": {
    "hash": "e710dd7c3afba562123ceb36f2795537b54bbbf1bbbe154f647844357c7d270c"
   }
  }
 },
 "nbformat": 4,
 "nbformat_minor": 2
}
