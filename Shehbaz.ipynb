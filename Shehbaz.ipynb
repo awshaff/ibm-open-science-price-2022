{
 "cells": [
  {
   "cell_type": "code",
   "execution_count": 4,
   "metadata": {},
   "outputs": [
    {
     "name": "stdout",
     "output_type": "stream",
     "text": [
      "\u001b[33mWARNING: Running pip as the 'root' user can result in broken permissions and conflicting behaviour with the system package manager. It is recommended to use a virtual environment instead: https://pip.pypa.io/warnings/venv\u001b[0m\u001b[33m\n",
      "\u001b[0m"
     ]
    }
   ],
   "source": [
    "#install from requirements.txt\n",
    "!pip install -q -r requirements.txt"
   ]
  },
  {
   "cell_type": "code",
   "execution_count": 5,
   "metadata": {},
   "outputs": [
    {
     "name": "stdout",
     "output_type": "stream",
     "text": [
      "Libraries imported successfully!\n"
     ]
    }
   ],
   "source": [
    "# Importing standard Qiskit libraries\n",
    "from qiskit import QuantumCircuit  #Importing the QuantumCircuit function from Qiskit. We will use this to create our quantum circuits!\n",
    "import qiskit.tools.jupyter\n",
    "# We will use these functions to run our circuit and visualize its final state\n",
    "from qiskit import Aer, execute\n",
    "from qiskit.visualization import *\n",
    "from qiskit_textbook.tools import array_to_latex\n",
    "\n",
    "from qiskit import IBMQ\n",
    "\n",
    "\n",
    "import warnings  # We are using this library to suppress some warning messages\n",
    "warnings.filterwarnings(\"ignore\")\n",
    "\n",
    "print(\"Libraries imported successfully!\")"
   ]
  },
  {
   "cell_type": "code",
   "execution_count": 6,
   "metadata": {},
   "outputs": [
    {
     "data": {
      "text/plain": [
       "<AccountProvider for IBMQ(hub='ibm-q', group='open', project='main')>"
      ]
     },
     "execution_count": 6,
     "metadata": {},
     "output_type": "execute_result"
    }
   ],
   "source": [
    "IBMQ.load_account() #Load your account"
   ]
  },
  {
   "cell_type": "code",
   "execution_count": 7,
   "metadata": {},
   "outputs": [
    {
     "data": {
      "text/plain": [
       "<AccountProvider for IBMQ(hub='ibm-q-skku', group='skku', project='skku-graduate')>"
      ]
     },
     "execution_count": 7,
     "metadata": {},
     "output_type": "execute_result"
    }
   ],
   "source": [
    "provider = IBMQ.providers()[1] #Get the list of providers\n",
    "provider"
   ]
  },
  {
   "cell_type": "code",
   "execution_count": 8,
   "metadata": {},
   "outputs": [
    {
     "data": {
      "text/plain": [
       "[<IBMQSimulator('ibmq_qasm_simulator') from IBMQ(hub='ibm-q-skku', group='skku', project='skku-graduate')>,\n",
       " <IBMQBackend('ibmq_montreal') from IBMQ(hub='ibm-q-skku', group='skku', project='skku-graduate')>,\n",
       " <IBMQBackend('ibmq_toronto') from IBMQ(hub='ibm-q-skku', group='skku', project='skku-graduate')>,\n",
       " <IBMQBackend('ibmq_kolkata') from IBMQ(hub='ibm-q-skku', group='skku', project='skku-graduate')>,\n",
       " <IBMQBackend('ibmq_mumbai') from IBMQ(hub='ibm-q-skku', group='skku', project='skku-graduate')>,\n",
       " <IBMQBackend('ibmq_lima') from IBMQ(hub='ibm-q-skku', group='skku', project='skku-graduate')>,\n",
       " <IBMQBackend('ibmq_belem') from IBMQ(hub='ibm-q-skku', group='skku', project='skku-graduate')>,\n",
       " <IBMQBackend('ibmq_quito') from IBMQ(hub='ibm-q-skku', group='skku', project='skku-graduate')>,\n",
       " <IBMQBackend('ibmq_guadalupe') from IBMQ(hub='ibm-q-skku', group='skku', project='skku-graduate')>,\n",
       " <IBMQSimulator('simulator_statevector') from IBMQ(hub='ibm-q-skku', group='skku', project='skku-graduate')>,\n",
       " <IBMQSimulator('simulator_mps') from IBMQ(hub='ibm-q-skku', group='skku', project='skku-graduate')>,\n",
       " <IBMQSimulator('simulator_extended_stabilizer') from IBMQ(hub='ibm-q-skku', group='skku', project='skku-graduate')>,\n",
       " <IBMQSimulator('simulator_stabilizer') from IBMQ(hub='ibm-q-skku', group='skku', project='skku-graduate')>,\n",
       " <IBMQBackend('ibmq_jakarta') from IBMQ(hub='ibm-q-skku', group='skku', project='skku-graduate')>,\n",
       " <IBMQBackend('ibmq_manila') from IBMQ(hub='ibm-q-skku', group='skku', project='skku-graduate')>,\n",
       " <IBMQBackend('ibm_hanoi') from IBMQ(hub='ibm-q-skku', group='skku', project='skku-graduate')>,\n",
       " <IBMQBackend('ibm_lagos') from IBMQ(hub='ibm-q-skku', group='skku', project='skku-graduate')>,\n",
       " <IBMQBackend('ibm_nairobi') from IBMQ(hub='ibm-q-skku', group='skku', project='skku-graduate')>,\n",
       " <IBMQBackend('ibm_cairo') from IBMQ(hub='ibm-q-skku', group='skku', project='skku-graduate')>,\n",
       " <IBMQBackend('ibm_auckland') from IBMQ(hub='ibm-q-skku', group='skku', project='skku-graduate')>,\n",
       " <IBMQBackend('ibm_perth') from IBMQ(hub='ibm-q-skku', group='skku', project='skku-graduate')>,\n",
       " <IBMQBackend('ibm_washington') from IBMQ(hub='ibm-q-skku', group='skku', project='skku-graduate')>,\n",
       " <IBMQBackend('ibm_oslo') from IBMQ(hub='ibm-q-skku', group='skku', project='skku-graduate')>,\n",
       " <IBMQBackend('ibm_geneva') from IBMQ(hub='ibm-q-skku', group='skku', project='skku-graduate')>]"
      ]
     },
     "execution_count": 8,
     "metadata": {},
     "output_type": "execute_result"
    }
   ],
   "source": [
    "provider.backends() #Get the list of backends"
   ]
  },
  {
   "cell_type": "code",
   "execution_count": 9,
   "metadata": {},
   "outputs": [],
   "source": [
    "backend = provider.get_backend('ibmq_guadalupe') #Get the backend"
   ]
  },
  {
   "cell_type": "code",
   "execution_count": 10,
   "metadata": {},
   "outputs": [],
   "source": [
    "qc = QuantumCircuit(2, 2)  # Creating a quantum circuit with 2 qubits and 2 classical bits\n",
    "qc.h(0)  # Applying a Hadamard gate to the first qubit\n",
    "qc.cx(0, 1)  # Applying a CNOT gate to the first qubit controlled by the second qubit\n",
    "qc.cx(1, 0)  # Applying a CNOT gate to the second qubit controlled by the first qubit\n",
    "qc.measure_all()  # Measuring the qubits"
   ]
  },
  {
   "cell_type": "code",
   "execution_count": 11,
   "metadata": {},
   "outputs": [
    {
     "data": {
      "application/vnd.jupyter.widget-view+json": {
       "model_id": "25ca42c032df425da2b223fbd35b5f2d",
       "version_major": 2,
       "version_minor": 0
      },
      "text/plain": [
       "Accordion(children=(VBox(layout=Layout(max_width='710px', min_width='710px')),), layout=Layout(max_height='500…"
      ]
     },
     "metadata": {},
     "output_type": "display_data"
    },
    {
     "data": {
      "application/javascript": "\n        const isLab = window['Jupyter'] === undefined;\n        const notebook = document.querySelector( isLab ? 'div.jp-Notebook' : '#site');\n        const jobWidget = document.querySelector('div.job_widget');\n        notebook.prepend(jobWidget);\n        jobWidget.style.zIndex = '999';\n        jobWidget.style.position = isLab ? 'sticky' : 'fixed';\n        jobWidget.style.boxShadow = '5px 5px 5px -3px black';\n        jobWidget.style.opacity = '0.95';\n        if (isLab) {\n            jobWidget.style.top = '0';\n            jobWidget.style.left = '0';\n        }\n        ",
      "text/plain": [
       "<IPython.core.display.Javascript object>"
      ]
     },
     "metadata": {},
     "output_type": "display_data"
    }
   ],
   "source": [
    "# Simulate using QASM\n",
    "job = execute(qc, backend = backend, shots = 1024)  # Make sure you change \"qc\" to the name of your quantum circuit in this line!\n",
    "result = job.result()\n",
    "counts = result.get_counts()\n",
    "%qiskit_job_watcher"
   ]
  },
  {
   "cell_type": "code",
   "execution_count": 12,
   "metadata": {},
   "outputs": [
    {
     "data": {
      "application/vnd.jupyter.widget-view+json": {
       "model_id": "0c5696e955e94f44ab8301fe125751c4",
       "version_major": 2,
       "version_minor": 0
      },
      "text/plain": [
       "Accordion(children=(VBox(layout=Layout(max_width='710px', min_width='710px')),), layout=Layout(max_height='500…"
      ]
     },
     "metadata": {},
     "output_type": "display_data"
    },
    {
     "data": {
      "application/javascript": "\n        const isLab = window['Jupyter'] === undefined;\n        const notebook = document.querySelector( isLab ? 'div.jp-Notebook' : '#site');\n        const jobWidget = document.querySelector('div.job_widget');\n        notebook.prepend(jobWidget);\n        jobWidget.style.zIndex = '999';\n        jobWidget.style.position = isLab ? 'sticky' : 'fixed';\n        jobWidget.style.boxShadow = '5px 5px 5px -3px black';\n        jobWidget.style.opacity = '0.95';\n        if (isLab) {\n            jobWidget.style.top = '0';\n            jobWidget.style.left = '0';\n        }\n        ",
      "text/plain": [
       "<IPython.core.display.Javascript object>"
      ]
     },
     "metadata": {},
     "output_type": "display_data"
    }
   ],
   "source": [
    "%qiskit_job_watcher"
   ]
  },
  {
   "cell_type": "code",
   "execution_count": 13,
   "metadata": {},
   "outputs": [
    {
     "data": {
      "image/png": "[encoded data removed]",
      "text/plain": [
       "<Figure size 700x500 with 1 Axes>"
      ]
     },
     "execution_count": 13,
     "metadata": {},
     "output_type": "execute_result"
    }
   ],
   "source": [
    "plot_histogram(counts)"
   ]
  },
  {
   "cell_type": "code",
   "execution_count": null,
   "metadata": {},
   "outputs": [],
   "source": []
  }
 ],
 "metadata": {
  "kernelspec": {
   "display_name": "Python 3.9.12 ('base')",
   "language": "python",
   "name": "python3"
  },
  "language_info": {
   "codemirror_mode": {
    "name": "ipython",
    "version": 3
   },
   "file_extension": ".py",
   "mimetype": "text/x-python",
   "name": "python",
   "nbconvert_exporter": "python",
   "pygments_lexer": "ipython3",
   "version": "3.9.12"
  },
  "orig_nbformat": 4,
  "vscode": {
   "interpreter": {
    "hash": "d4d1e4263499bec80672ea0156c357c1ee493ec2b1c70f0acce89fc37c4a6abe"
   }
  }
 },
 "nbformat": 4,
 "nbformat_minor": 2
}
