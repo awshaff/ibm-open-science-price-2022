{
 "cells": [
  {
   "cell_type": "code",
   "execution_count": 4,
   "id": "e68974f9",
   "metadata": {},
   "outputs": [
    {
     "ename": "ImportError",
     "evalue": "cannot import name 'get_ground_state' from 'qiskit_nature' (/home/am/VirtualEnv/qiskit_venv/lib/python3.10/site-packages/qiskit_nature/__init__.py)",
     "output_type": "error",
     "traceback": [
      "\u001b[0;31m---------------------------------------------------------------------------\u001b[0m",
      "\u001b[0;31mImportError\u001b[0m                               Traceback (most recent call last)",
      "Cell \u001b[0;32mIn[4], line 14\u001b[0m\n\u001b[1;32m     12\u001b[0m \u001b[38;5;28;01mfrom\u001b[39;00m \u001b[38;5;21;01mqiskit_nature\u001b[39;00m\u001b[38;5;21;01m.\u001b[39;00m\u001b[38;5;21;01mdrivers\u001b[39;00m\u001b[38;5;21;01m.\u001b[39;00m\u001b[38;5;21;01msecond_quantization\u001b[39;00m \u001b[38;5;28;01mimport\u001b[39;00m PySCFDriver\n\u001b[1;32m     13\u001b[0m \u001b[38;5;28;01mfrom\u001b[39;00m \u001b[38;5;21;01mqiskit_nature\u001b[39;00m\u001b[38;5;21;01m.\u001b[39;00m\u001b[38;5;21;01mresults\u001b[39;00m \u001b[38;5;28;01mimport\u001b[39;00m EigenstateResult\n\u001b[0;32m---> 14\u001b[0m \u001b[38;5;28;01mfrom\u001b[39;00m \u001b[38;5;21;01mqiskit_nature\u001b[39;00m \u001b[38;5;28;01mimport\u001b[39;00m get_ground_state\n\u001b[1;32m     15\u001b[0m \u001b[38;5;28;01mimport\u001b[39;00m \u001b[38;5;21;01mmatplotlib\u001b[39;00m\u001b[38;5;21;01m.\u001b[39;00m\u001b[38;5;21;01mpyplot\u001b[39;00m \u001b[38;5;28;01mas\u001b[39;00m \u001b[38;5;21;01mplt\u001b[39;00m\n\u001b[1;32m     16\u001b[0m \u001b[38;5;28;01mimport\u001b[39;00m \u001b[38;5;21;01mnumpy\u001b[39;00m \u001b[38;5;28;01mas\u001b[39;00m \u001b[38;5;21;01mnp\u001b[39;00m\n",
      "\u001b[0;31mImportError\u001b[0m: cannot import name 'get_ground_state' from 'qiskit_nature' (/home/am/VirtualEnv/qiskit_venv/lib/python3.10/site-packages/qiskit_nature/__init__.py)"
     ]
    }
   ],
   "source": [
    "from qiskit import QuantumCircuit, ClassicalRegister, QuantumRegister\n",
    "from qiskit.algorithms.optimizers import COBYLA\n",
    "from qiskit.opflow import X, Y, Z, I, PauliSumOp\n",
    "from qiskit.utils import QuantumInstance\n",
    "from qiskit_nature.operators.second_quantization import FermionicOp\n",
    "from qiskit_nature.second_q.mappers import QubitConverter\n",
    "from qiskit_nature.problems.second_quantization.electronic import ElectronicStructureProblem\n",
    "from qiskit_nature.second_q.transformers import ActiveSpaceTransformer\n",
    "from qiskit_nature.algorithms import VQEUCCFactory\n",
    "from qiskit_nature.mappers.second_quantization import ParityMapper\n",
    "from qiskit_nature.converters.second_quantization.qubit_converter import QubitConverter\n",
    "from qiskit_nature.drivers.second_quantization import PySCFDriver\n",
    "from qiskit_nature.results import EigenstateResult\n",
    "from qiskit_nature import get_ground_state\n",
    "import matplotlib.pyplot as plt\n",
    "import numpy as np"
   ]
  },
  {
   "cell_type": "code",
   "execution_count": 14,
   "id": "17a8bbdd",
   "metadata": {},
   "outputs": [],
   "source": [
    "from qiskit_nature.second_q.drivers import PySCFDriver\n",
    "from qiskit_nature.problems.second_quantization.electronic import ElectronicStructureProblem\n",
    "from qiskit_nature.second_q.transformers import ActiveSpaceTransformer\n",
    "from qiskit_nature.converters.second_quantization.qubit_converter import QubitConverter\n",
    "from qiskit_nature.mappers.second_quantization import ParityMapper\n",
    "from qiskit_nature.circuit.library import HartreeFock\n",
    "from qiskit_nature.algorithms import  VQEUCCFactory\n",
    "from qiskit.algorithms import NumPyEigensolver\n",
    "from qiskit.algorithms import VQE\n",
    "from qiskit.algorithms.optimizers import COBYLA\n",
    "from qiskit.quantum_info import Operator\n",
    "from qiskit.utils import QuantumInstance\n",
    "from qiskit import Aer"
   ]
  },
  {
   "cell_type": "code",
   "execution_count": 15,
   "id": "aeed4421",
   "metadata": {},
   "outputs": [
    {
     "ename": "TypeError",
     "evalue": "ActiveSpaceTransformer.__init__() got an unexpected keyword argument 'num_molecular_orbitals'",
     "output_type": "error",
     "traceback": [
      "\u001b[0;31m---------------------------------------------------------------------------\u001b[0m",
      "\u001b[0;31mTypeError\u001b[0m                                 Traceback (most recent call last)",
      "Cell \u001b[0;32mIn[15], line 7\u001b[0m\n\u001b[1;32m      5\u001b[0m driver \u001b[38;5;241m=\u001b[39m PySCFDriver(atom\u001b[38;5;241m=\u001b[39mmolecule_geometry, unit\u001b[38;5;241m=\u001b[39m\u001b[38;5;124m'\u001b[39m\u001b[38;5;124mAngstrom\u001b[39m\u001b[38;5;124m'\u001b[39m, charge\u001b[38;5;241m=\u001b[39m\u001b[38;5;241m0\u001b[39m, spin\u001b[38;5;241m=\u001b[39m\u001b[38;5;241m0\u001b[39m, basis\u001b[38;5;241m=\u001b[39m\u001b[38;5;124m'\u001b[39m\u001b[38;5;124msto3g\u001b[39m\u001b[38;5;124m'\u001b[39m)\n\u001b[1;32m      6\u001b[0m problem \u001b[38;5;241m=\u001b[39m ElectronicStructureProblem(driver)\n\u001b[0;32m----> 7\u001b[0m transformation \u001b[38;5;241m=\u001b[39m \u001b[43mActiveSpaceTransformer\u001b[49m\u001b[43m(\u001b[49m\u001b[43mnum_electrons\u001b[49m\u001b[38;5;241;43m=\u001b[39;49m\u001b[38;5;241;43m2\u001b[39;49m\u001b[43m,\u001b[49m\u001b[43m \u001b[49m\u001b[43mnum_molecular_orbitals\u001b[49m\u001b[38;5;241;43m=\u001b[39;49m\u001b[38;5;241;43m2\u001b[39;49m\u001b[43m)\u001b[49m\n\u001b[1;32m      8\u001b[0m problem \u001b[38;5;241m=\u001b[39m transformation\u001b[38;5;241m.\u001b[39mtransform(problem)\n",
      "\u001b[0;31mTypeError\u001b[0m: ActiveSpaceTransformer.__init__() got an unexpected keyword argument 'num_molecular_orbitals'"
     ]
    }
   ],
   "source": [
    "# Define the molecule geometry\n",
    "J = 0.74\n",
    "molecule_geometry = f'H .0 .0 -{J}; H .0 .0 {J}'\n",
    "# Initialize the electronic structure problem and transform to active space\n",
    "driver = PySCFDriver(atom=molecule_geometry, unit='Angstrom', charge=0, spin=0, basis='sto3g')\n",
    "problem = ElectronicStructureProblem(driver)\n",
    "transformation = ActiveSpaceTransformer(num_electrons=2, num_molecular_orbitals=2)\n",
    "problem = transformation.transform(problem)"
   ]
  },
  {
   "cell_type": "code",
   "execution_count": null,
   "id": "dfac9ef1",
   "metadata": {},
   "outputs": [],
   "source": []
  }
 ],
 "metadata": {
  "kernelspec": {
   "display_name": "qiskit_venv",
   "language": "python",
   "name": "qiskit_venv"
  },
  "language_info": {
   "codemirror_mode": {
    "name": "ipython",
    "version": 3
   },
   "file_extension": ".py",
   "mimetype": "text/x-python",
   "name": "python",
   "nbconvert_exporter": "python",
   "pygments_lexer": "ipython3",
   "version": "3.10.6"
  }
 },
 "nbformat": 4,
 "nbformat_minor": 5
}
